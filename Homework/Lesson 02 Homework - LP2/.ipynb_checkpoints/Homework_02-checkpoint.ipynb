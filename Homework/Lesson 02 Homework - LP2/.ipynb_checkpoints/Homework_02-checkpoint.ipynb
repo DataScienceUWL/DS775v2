{
 "cells": [
  {
   "cell_type": "code",
   "execution_count": 1,
   "metadata": {
    "code_folding": []
   },
   "outputs": [],
   "source": [
    "# execute to import notebook styling for tables and width etc.\n",
    "from IPython.core.display import HTML\n",
    "import urllib.request\n",
    "response = urllib.request.urlopen('https://raw.githubusercontent.com/DataScienceUWL/DS775v2/master/ds755.css')\n",
    "HTML(response.read().decode(\"utf-8\"));"
   ]
  },
  {
   "cell_type": "markdown",
   "metadata": {},
   "source": [
    "<font size=18>Lesson 02 Homework</font>"
   ]
  },
  {
   "cell_type": "markdown",
   "metadata": {
    "heading_collapsed": true
   },
   "source": [
    "# Sensitive Parameter"
   ]
  },
  {
   "cell_type": "markdown",
   "metadata": {
    "hidden": true
   },
   "source": [
    "A “sensitive parameter” is a parameter\n",
    "\n",
    "a.    that can be set outside of  its allowable range.\n",
    "\n",
    "b.    that satisfies the certainty assumption.\n",
    "\n",
    "c.    whose value must be estimated.\n",
    "\n",
    "d.      is a constraint boundary that can be changed without affecting the optimal solution.    \n",
    "\n",
    "e.    whose values cannot be changed without changing the optimal solution."
   ]
  },
  {
   "cell_type": "markdown",
   "metadata": {
    "hidden": true
   },
   "source": [
    "<font color = \"blue\"> *** 2 points -  answer in cell below *** (don't delete this cell) </font>"
   ]
  },
  {
   "cell_type": "markdown",
   "metadata": {
    "hidden": true
   },
   "source": []
  },
  {
   "cell_type": "markdown",
   "metadata": {
    "heading_collapsed": true
   },
   "source": [
    "# Shadow Price"
   ]
  },
  {
   "cell_type": "markdown",
   "metadata": {
    "hidden": true
   },
   "source": [
    "The shadow price for a resource is\n",
    "\n",
    "\n",
    "a.  the amount the objective function Z increases for each one unit  increase in the amount of the resource available when it goes beyond its allowable range.\n",
    "\n",
    "b.     the amount the objective function Z increases for each one unit  increase in the amount of the resource available, provided that is stays within its allowable range.\n",
    "\n",
    "c.  the range of values for the right-hand side over which the current optimal solution remains feasible.  \n",
    "\n",
    "d.  a constraint that must be satisfied.  \n",
    "\n",
    "e.  a constraint boundary that can be characterized by a random variable. "
   ]
  },
  {
   "cell_type": "markdown",
   "metadata": {
    "hidden": true
   },
   "source": [
    "<font color = \"blue\"> *** 2 points -  answer in cell below *** (don't delete this cell) </font>"
   ]
  },
  {
   "cell_type": "markdown",
   "metadata": {
    "hidden": true
   },
   "source": []
  },
  {
   "cell_type": "markdown",
   "metadata": {
    "heading_collapsed": true
   },
   "source": [
    "# Giapetto Interactive Widget Problem"
   ]
  },
  {
   "cell_type": "markdown",
   "metadata": {
    "hidden": true
   },
   "source": [
    "Giapetto's Woodcarving, Inc., manufactures two types of wooden toys: soldiers and trains.\n",
    "\n",
    "A soldier sells for 27 dollars and uses 10 dollars worth of raw materials. Each soldier that is manufactured increases Giapetto’s variable labor and overhead costs by 14 dollars (so think about what the unit profit would be). A train sells for 21 dollars and uses 9 dollars worth of raw materials. Each train built increases Giapetto’s variable labor and overhead costs by 10 dollars. The manufacture of wooden soldiers and trains requires two types of skilled labor: carpentry and finishing. A soldier requires 2 hours of finishing labor and 1 hour of carpentry labor. A train requires 1 hour of finishing labor and 1 hour of carpentry labor. Each week, Giapetto can obtain all the needed raw material but only 80 carpentry hours and 100 finishing hours. Demand for trains ($x_2$) is unlimited, but at most 40 soldiers ($x_1$) are bought each week. Giapetto wants to maximize weekly profit (revenues-costs). (This example is from the textbook \"Operations Research\" by Wayne L. Winston.)\n",
    "\n",
    "The model formulation that can be used to maximize Giapetto’s weekly profit is:\n",
    "\n",
    "Maximize $Z = 3x_1 + 2x_2,$ \n",
    "\n",
    "subject to \n",
    "\n",
    "$\n",
    "\\begin{array}{rcrcr}\n",
    "x_1 & + & x_2 & \\leq & 80 \\\\\n",
    "2x_1 & + & x_2 & \\leq & 100 \\\\\n",
    " x_1        &         &  & \\leq & 40 \n",
    "\\end{array}\n",
    "$\n",
    "\n",
    "and $x_1 \\geq 0, x_2 \\geq 0.$\n",
    "\n",
    "**Use the widget below** to answer the following questions (after the widget) about Giapetto's production of wooden soldiers and trains.  Do not use other methods to find the answers."
   ]
  },
  {
   "cell_type": "code",
   "execution_count": 3,
   "metadata": {
    "code_folding": [
     0
    ],
    "hidden": true,
    "scrolled": false
   },
   "outputs": [
    {
     "data": {
      "application/javascript": [
       "/* Put everything inside the global mpl namespace */\n",
       "window.mpl = {};\n",
       "\n",
       "\n",
       "mpl.get_websocket_type = function() {\n",
       "    if (typeof(WebSocket) !== 'undefined') {\n",
       "        return WebSocket;\n",
       "    } else if (typeof(MozWebSocket) !== 'undefined') {\n",
       "        return MozWebSocket;\n",
       "    } else {\n",
       "        alert('Your browser does not have WebSocket support. ' +\n",
       "              'Please try Chrome, Safari or Firefox ≥ 6. ' +\n",
       "              'Firefox 4 and 5 are also supported but you ' +\n",
       "              'have to enable WebSockets in about:config.');\n",
       "    };\n",
       "}\n",
       "\n",
       "mpl.figure = function(figure_id, websocket, ondownload, parent_element) {\n",
       "    this.id = figure_id;\n",
       "\n",
       "    this.ws = websocket;\n",
       "\n",
       "    this.supports_binary = (this.ws.binaryType != undefined);\n",
       "\n",
       "    if (!this.supports_binary) {\n",
       "        var warnings = document.getElementById(\"mpl-warnings\");\n",
       "        if (warnings) {\n",
       "            warnings.style.display = 'block';\n",
       "            warnings.textContent = (\n",
       "                \"This browser does not support binary websocket messages. \" +\n",
       "                    \"Performance may be slow.\");\n",
       "        }\n",
       "    }\n",
       "\n",
       "    this.imageObj = new Image();\n",
       "\n",
       "    this.context = undefined;\n",
       "    this.message = undefined;\n",
       "    this.canvas = undefined;\n",
       "    this.rubberband_canvas = undefined;\n",
       "    this.rubberband_context = undefined;\n",
       "    this.format_dropdown = undefined;\n",
       "\n",
       "    this.image_mode = 'full';\n",
       "\n",
       "    this.root = $('<div/>');\n",
       "    this._root_extra_style(this.root)\n",
       "    this.root.attr('style', 'display: inline-block');\n",
       "\n",
       "    $(parent_element).append(this.root);\n",
       "\n",
       "    this._init_header(this);\n",
       "    this._init_canvas(this);\n",
       "    this._init_toolbar(this);\n",
       "\n",
       "    var fig = this;\n",
       "\n",
       "    this.waiting = false;\n",
       "\n",
       "    this.ws.onopen =  function () {\n",
       "            fig.send_message(\"supports_binary\", {value: fig.supports_binary});\n",
       "            fig.send_message(\"send_image_mode\", {});\n",
       "            if (mpl.ratio != 1) {\n",
       "                fig.send_message(\"set_dpi_ratio\", {'dpi_ratio': mpl.ratio});\n",
       "            }\n",
       "            fig.send_message(\"refresh\", {});\n",
       "        }\n",
       "\n",
       "    this.imageObj.onload = function() {\n",
       "            if (fig.image_mode == 'full') {\n",
       "                // Full images could contain transparency (where diff images\n",
       "                // almost always do), so we need to clear the canvas so that\n",
       "                // there is no ghosting.\n",
       "                fig.context.clearRect(0, 0, fig.canvas.width, fig.canvas.height);\n",
       "            }\n",
       "            fig.context.drawImage(fig.imageObj, 0, 0);\n",
       "        };\n",
       "\n",
       "    this.imageObj.onunload = function() {\n",
       "        fig.ws.close();\n",
       "    }\n",
       "\n",
       "    this.ws.onmessage = this._make_on_message_function(this);\n",
       "\n",
       "    this.ondownload = ondownload;\n",
       "}\n",
       "\n",
       "mpl.figure.prototype._init_header = function() {\n",
       "    var titlebar = $(\n",
       "        '<div class=\"ui-dialog-titlebar ui-widget-header ui-corner-all ' +\n",
       "        'ui-helper-clearfix\"/>');\n",
       "    var titletext = $(\n",
       "        '<div class=\"ui-dialog-title\" style=\"width: 100%; ' +\n",
       "        'text-align: center; padding: 3px;\"/>');\n",
       "    titlebar.append(titletext)\n",
       "    this.root.append(titlebar);\n",
       "    this.header = titletext[0];\n",
       "}\n",
       "\n",
       "\n",
       "\n",
       "mpl.figure.prototype._canvas_extra_style = function(canvas_div) {\n",
       "\n",
       "}\n",
       "\n",
       "\n",
       "mpl.figure.prototype._root_extra_style = function(canvas_div) {\n",
       "\n",
       "}\n",
       "\n",
       "mpl.figure.prototype._init_canvas = function() {\n",
       "    var fig = this;\n",
       "\n",
       "    var canvas_div = $('<div/>');\n",
       "\n",
       "    canvas_div.attr('style', 'position: relative; clear: both; outline: 0');\n",
       "\n",
       "    function canvas_keyboard_event(event) {\n",
       "        return fig.key_event(event, event['data']);\n",
       "    }\n",
       "\n",
       "    canvas_div.keydown('key_press', canvas_keyboard_event);\n",
       "    canvas_div.keyup('key_release', canvas_keyboard_event);\n",
       "    this.canvas_div = canvas_div\n",
       "    this._canvas_extra_style(canvas_div)\n",
       "    this.root.append(canvas_div);\n",
       "\n",
       "    var canvas = $('<canvas/>');\n",
       "    canvas.addClass('mpl-canvas');\n",
       "    canvas.attr('style', \"left: 0; top: 0; z-index: 0; outline: 0\")\n",
       "\n",
       "    this.canvas = canvas[0];\n",
       "    this.context = canvas[0].getContext(\"2d\");\n",
       "\n",
       "    var backingStore = this.context.backingStorePixelRatio ||\n",
       "\tthis.context.webkitBackingStorePixelRatio ||\n",
       "\tthis.context.mozBackingStorePixelRatio ||\n",
       "\tthis.context.msBackingStorePixelRatio ||\n",
       "\tthis.context.oBackingStorePixelRatio ||\n",
       "\tthis.context.backingStorePixelRatio || 1;\n",
       "\n",
       "    mpl.ratio = (window.devicePixelRatio || 1) / backingStore;\n",
       "\n",
       "    var rubberband = $('<canvas/>');\n",
       "    rubberband.attr('style', \"position: absolute; left: 0; top: 0; z-index: 1;\")\n",
       "\n",
       "    var pass_mouse_events = true;\n",
       "\n",
       "    canvas_div.resizable({\n",
       "        start: function(event, ui) {\n",
       "            pass_mouse_events = false;\n",
       "        },\n",
       "        resize: function(event, ui) {\n",
       "            fig.request_resize(ui.size.width, ui.size.height);\n",
       "        },\n",
       "        stop: function(event, ui) {\n",
       "            pass_mouse_events = true;\n",
       "            fig.request_resize(ui.size.width, ui.size.height);\n",
       "        },\n",
       "    });\n",
       "\n",
       "    function mouse_event_fn(event) {\n",
       "        if (pass_mouse_events)\n",
       "            return fig.mouse_event(event, event['data']);\n",
       "    }\n",
       "\n",
       "    rubberband.mousedown('button_press', mouse_event_fn);\n",
       "    rubberband.mouseup('button_release', mouse_event_fn);\n",
       "    // Throttle sequential mouse events to 1 every 20ms.\n",
       "    rubberband.mousemove('motion_notify', mouse_event_fn);\n",
       "\n",
       "    rubberband.mouseenter('figure_enter', mouse_event_fn);\n",
       "    rubberband.mouseleave('figure_leave', mouse_event_fn);\n",
       "\n",
       "    canvas_div.on(\"wheel\", function (event) {\n",
       "        event = event.originalEvent;\n",
       "        event['data'] = 'scroll'\n",
       "        if (event.deltaY < 0) {\n",
       "            event.step = 1;\n",
       "        } else {\n",
       "            event.step = -1;\n",
       "        }\n",
       "        mouse_event_fn(event);\n",
       "    });\n",
       "\n",
       "    canvas_div.append(canvas);\n",
       "    canvas_div.append(rubberband);\n",
       "\n",
       "    this.rubberband = rubberband;\n",
       "    this.rubberband_canvas = rubberband[0];\n",
       "    this.rubberband_context = rubberband[0].getContext(\"2d\");\n",
       "    this.rubberband_context.strokeStyle = \"#000000\";\n",
       "\n",
       "    this._resize_canvas = function(width, height) {\n",
       "        // Keep the size of the canvas, canvas container, and rubber band\n",
       "        // canvas in synch.\n",
       "        canvas_div.css('width', width)\n",
       "        canvas_div.css('height', height)\n",
       "\n",
       "        canvas.attr('width', width * mpl.ratio);\n",
       "        canvas.attr('height', height * mpl.ratio);\n",
       "        canvas.attr('style', 'width: ' + width + 'px; height: ' + height + 'px;');\n",
       "\n",
       "        rubberband.attr('width', width);\n",
       "        rubberband.attr('height', height);\n",
       "    }\n",
       "\n",
       "    // Set the figure to an initial 600x600px, this will subsequently be updated\n",
       "    // upon first draw.\n",
       "    this._resize_canvas(600, 600);\n",
       "\n",
       "    // Disable right mouse context menu.\n",
       "    $(this.rubberband_canvas).bind(\"contextmenu\",function(e){\n",
       "        return false;\n",
       "    });\n",
       "\n",
       "    function set_focus () {\n",
       "        canvas.focus();\n",
       "        canvas_div.focus();\n",
       "    }\n",
       "\n",
       "    window.setTimeout(set_focus, 100);\n",
       "}\n",
       "\n",
       "mpl.figure.prototype._init_toolbar = function() {\n",
       "    var fig = this;\n",
       "\n",
       "    var nav_element = $('<div/>');\n",
       "    nav_element.attr('style', 'width: 100%');\n",
       "    this.root.append(nav_element);\n",
       "\n",
       "    // Define a callback function for later on.\n",
       "    function toolbar_event(event) {\n",
       "        return fig.toolbar_button_onclick(event['data']);\n",
       "    }\n",
       "    function toolbar_mouse_event(event) {\n",
       "        return fig.toolbar_button_onmouseover(event['data']);\n",
       "    }\n",
       "\n",
       "    for(var toolbar_ind in mpl.toolbar_items) {\n",
       "        var name = mpl.toolbar_items[toolbar_ind][0];\n",
       "        var tooltip = mpl.toolbar_items[toolbar_ind][1];\n",
       "        var image = mpl.toolbar_items[toolbar_ind][2];\n",
       "        var method_name = mpl.toolbar_items[toolbar_ind][3];\n",
       "\n",
       "        if (!name) {\n",
       "            // put a spacer in here.\n",
       "            continue;\n",
       "        }\n",
       "        var button = $('<button/>');\n",
       "        button.addClass('ui-button ui-widget ui-state-default ui-corner-all ' +\n",
       "                        'ui-button-icon-only');\n",
       "        button.attr('role', 'button');\n",
       "        button.attr('aria-disabled', 'false');\n",
       "        button.click(method_name, toolbar_event);\n",
       "        button.mouseover(tooltip, toolbar_mouse_event);\n",
       "\n",
       "        var icon_img = $('<span/>');\n",
       "        icon_img.addClass('ui-button-icon-primary ui-icon');\n",
       "        icon_img.addClass(image);\n",
       "        icon_img.addClass('ui-corner-all');\n",
       "\n",
       "        var tooltip_span = $('<span/>');\n",
       "        tooltip_span.addClass('ui-button-text');\n",
       "        tooltip_span.html(tooltip);\n",
       "\n",
       "        button.append(icon_img);\n",
       "        button.append(tooltip_span);\n",
       "\n",
       "        nav_element.append(button);\n",
       "    }\n",
       "\n",
       "    var fmt_picker_span = $('<span/>');\n",
       "\n",
       "    var fmt_picker = $('<select/>');\n",
       "    fmt_picker.addClass('mpl-toolbar-option ui-widget ui-widget-content');\n",
       "    fmt_picker_span.append(fmt_picker);\n",
       "    nav_element.append(fmt_picker_span);\n",
       "    this.format_dropdown = fmt_picker[0];\n",
       "\n",
       "    for (var ind in mpl.extensions) {\n",
       "        var fmt = mpl.extensions[ind];\n",
       "        var option = $(\n",
       "            '<option/>', {selected: fmt === mpl.default_extension}).html(fmt);\n",
       "        fmt_picker.append(option);\n",
       "    }\n",
       "\n",
       "    // Add hover states to the ui-buttons\n",
       "    $( \".ui-button\" ).hover(\n",
       "        function() { $(this).addClass(\"ui-state-hover\");},\n",
       "        function() { $(this).removeClass(\"ui-state-hover\");}\n",
       "    );\n",
       "\n",
       "    var status_bar = $('<span class=\"mpl-message\"/>');\n",
       "    nav_element.append(status_bar);\n",
       "    this.message = status_bar[0];\n",
       "}\n",
       "\n",
       "mpl.figure.prototype.request_resize = function(x_pixels, y_pixels) {\n",
       "    // Request matplotlib to resize the figure. Matplotlib will then trigger a resize in the client,\n",
       "    // which will in turn request a refresh of the image.\n",
       "    this.send_message('resize', {'width': x_pixels, 'height': y_pixels});\n",
       "}\n",
       "\n",
       "mpl.figure.prototype.send_message = function(type, properties) {\n",
       "    properties['type'] = type;\n",
       "    properties['figure_id'] = this.id;\n",
       "    this.ws.send(JSON.stringify(properties));\n",
       "}\n",
       "\n",
       "mpl.figure.prototype.send_draw_message = function() {\n",
       "    if (!this.waiting) {\n",
       "        this.waiting = true;\n",
       "        this.ws.send(JSON.stringify({type: \"draw\", figure_id: this.id}));\n",
       "    }\n",
       "}\n",
       "\n",
       "\n",
       "mpl.figure.prototype.handle_save = function(fig, msg) {\n",
       "    var format_dropdown = fig.format_dropdown;\n",
       "    var format = format_dropdown.options[format_dropdown.selectedIndex].value;\n",
       "    fig.ondownload(fig, format);\n",
       "}\n",
       "\n",
       "\n",
       "mpl.figure.prototype.handle_resize = function(fig, msg) {\n",
       "    var size = msg['size'];\n",
       "    if (size[0] != fig.canvas.width || size[1] != fig.canvas.height) {\n",
       "        fig._resize_canvas(size[0], size[1]);\n",
       "        fig.send_message(\"refresh\", {});\n",
       "    };\n",
       "}\n",
       "\n",
       "mpl.figure.prototype.handle_rubberband = function(fig, msg) {\n",
       "    var x0 = msg['x0'] / mpl.ratio;\n",
       "    var y0 = (fig.canvas.height - msg['y0']) / mpl.ratio;\n",
       "    var x1 = msg['x1'] / mpl.ratio;\n",
       "    var y1 = (fig.canvas.height - msg['y1']) / mpl.ratio;\n",
       "    x0 = Math.floor(x0) + 0.5;\n",
       "    y0 = Math.floor(y0) + 0.5;\n",
       "    x1 = Math.floor(x1) + 0.5;\n",
       "    y1 = Math.floor(y1) + 0.5;\n",
       "    var min_x = Math.min(x0, x1);\n",
       "    var min_y = Math.min(y0, y1);\n",
       "    var width = Math.abs(x1 - x0);\n",
       "    var height = Math.abs(y1 - y0);\n",
       "\n",
       "    fig.rubberband_context.clearRect(\n",
       "        0, 0, fig.canvas.width, fig.canvas.height);\n",
       "\n",
       "    fig.rubberband_context.strokeRect(min_x, min_y, width, height);\n",
       "}\n",
       "\n",
       "mpl.figure.prototype.handle_figure_label = function(fig, msg) {\n",
       "    // Updates the figure title.\n",
       "    fig.header.textContent = msg['label'];\n",
       "}\n",
       "\n",
       "mpl.figure.prototype.handle_cursor = function(fig, msg) {\n",
       "    var cursor = msg['cursor'];\n",
       "    switch(cursor)\n",
       "    {\n",
       "    case 0:\n",
       "        cursor = 'pointer';\n",
       "        break;\n",
       "    case 1:\n",
       "        cursor = 'default';\n",
       "        break;\n",
       "    case 2:\n",
       "        cursor = 'crosshair';\n",
       "        break;\n",
       "    case 3:\n",
       "        cursor = 'move';\n",
       "        break;\n",
       "    }\n",
       "    fig.rubberband_canvas.style.cursor = cursor;\n",
       "}\n",
       "\n",
       "mpl.figure.prototype.handle_message = function(fig, msg) {\n",
       "    fig.message.textContent = msg['message'];\n",
       "}\n",
       "\n",
       "mpl.figure.prototype.handle_draw = function(fig, msg) {\n",
       "    // Request the server to send over a new figure.\n",
       "    fig.send_draw_message();\n",
       "}\n",
       "\n",
       "mpl.figure.prototype.handle_image_mode = function(fig, msg) {\n",
       "    fig.image_mode = msg['mode'];\n",
       "}\n",
       "\n",
       "mpl.figure.prototype.updated_canvas_event = function() {\n",
       "    // Called whenever the canvas gets updated.\n",
       "    this.send_message(\"ack\", {});\n",
       "}\n",
       "\n",
       "// A function to construct a web socket function for onmessage handling.\n",
       "// Called in the figure constructor.\n",
       "mpl.figure.prototype._make_on_message_function = function(fig) {\n",
       "    return function socket_on_message(evt) {\n",
       "        if (evt.data instanceof Blob) {\n",
       "            /* FIXME: We get \"Resource interpreted as Image but\n",
       "             * transferred with MIME type text/plain:\" errors on\n",
       "             * Chrome.  But how to set the MIME type?  It doesn't seem\n",
       "             * to be part of the websocket stream */\n",
       "            evt.data.type = \"image/png\";\n",
       "\n",
       "            /* Free the memory for the previous frames */\n",
       "            if (fig.imageObj.src) {\n",
       "                (window.URL || window.webkitURL).revokeObjectURL(\n",
       "                    fig.imageObj.src);\n",
       "            }\n",
       "\n",
       "            fig.imageObj.src = (window.URL || window.webkitURL).createObjectURL(\n",
       "                evt.data);\n",
       "            fig.updated_canvas_event();\n",
       "            fig.waiting = false;\n",
       "            return;\n",
       "        }\n",
       "        else if (typeof evt.data === 'string' && evt.data.slice(0, 21) == \"data:image/png;base64\") {\n",
       "            fig.imageObj.src = evt.data;\n",
       "            fig.updated_canvas_event();\n",
       "            fig.waiting = false;\n",
       "            return;\n",
       "        }\n",
       "\n",
       "        var msg = JSON.parse(evt.data);\n",
       "        var msg_type = msg['type'];\n",
       "\n",
       "        // Call the  \"handle_{type}\" callback, which takes\n",
       "        // the figure and JSON message as its only arguments.\n",
       "        try {\n",
       "            var callback = fig[\"handle_\" + msg_type];\n",
       "        } catch (e) {\n",
       "            console.log(\"No handler for the '\" + msg_type + \"' message type: \", msg);\n",
       "            return;\n",
       "        }\n",
       "\n",
       "        if (callback) {\n",
       "            try {\n",
       "                // console.log(\"Handling '\" + msg_type + \"' message: \", msg);\n",
       "                callback(fig, msg);\n",
       "            } catch (e) {\n",
       "                console.log(\"Exception inside the 'handler_\" + msg_type + \"' callback:\", e, e.stack, msg);\n",
       "            }\n",
       "        }\n",
       "    };\n",
       "}\n",
       "\n",
       "// from http://stackoverflow.com/questions/1114465/getting-mouse-location-in-canvas\n",
       "mpl.findpos = function(e) {\n",
       "    //this section is from http://www.quirksmode.org/js/events_properties.html\n",
       "    var targ;\n",
       "    if (!e)\n",
       "        e = window.event;\n",
       "    if (e.target)\n",
       "        targ = e.target;\n",
       "    else if (e.srcElement)\n",
       "        targ = e.srcElement;\n",
       "    if (targ.nodeType == 3) // defeat Safari bug\n",
       "        targ = targ.parentNode;\n",
       "\n",
       "    // jQuery normalizes the pageX and pageY\n",
       "    // pageX,Y are the mouse positions relative to the document\n",
       "    // offset() returns the position of the element relative to the document\n",
       "    var x = e.pageX - $(targ).offset().left;\n",
       "    var y = e.pageY - $(targ).offset().top;\n",
       "\n",
       "    return {\"x\": x, \"y\": y};\n",
       "};\n",
       "\n",
       "/*\n",
       " * return a copy of an object with only non-object keys\n",
       " * we need this to avoid circular references\n",
       " * http://stackoverflow.com/a/24161582/3208463\n",
       " */\n",
       "function simpleKeys (original) {\n",
       "  return Object.keys(original).reduce(function (obj, key) {\n",
       "    if (typeof original[key] !== 'object')\n",
       "        obj[key] = original[key]\n",
       "    return obj;\n",
       "  }, {});\n",
       "}\n",
       "\n",
       "mpl.figure.prototype.mouse_event = function(event, name) {\n",
       "    var canvas_pos = mpl.findpos(event)\n",
       "\n",
       "    if (name === 'button_press')\n",
       "    {\n",
       "        this.canvas.focus();\n",
       "        this.canvas_div.focus();\n",
       "    }\n",
       "\n",
       "    var x = canvas_pos.x * mpl.ratio;\n",
       "    var y = canvas_pos.y * mpl.ratio;\n",
       "\n",
       "    this.send_message(name, {x: x, y: y, button: event.button,\n",
       "                             step: event.step,\n",
       "                             guiEvent: simpleKeys(event)});\n",
       "\n",
       "    /* This prevents the web browser from automatically changing to\n",
       "     * the text insertion cursor when the button is pressed.  We want\n",
       "     * to control all of the cursor setting manually through the\n",
       "     * 'cursor' event from matplotlib */\n",
       "    event.preventDefault();\n",
       "    return false;\n",
       "}\n",
       "\n",
       "mpl.figure.prototype._key_event_extra = function(event, name) {\n",
       "    // Handle any extra behaviour associated with a key event\n",
       "}\n",
       "\n",
       "mpl.figure.prototype.key_event = function(event, name) {\n",
       "\n",
       "    // Prevent repeat events\n",
       "    if (name == 'key_press')\n",
       "    {\n",
       "        if (event.which === this._key)\n",
       "            return;\n",
       "        else\n",
       "            this._key = event.which;\n",
       "    }\n",
       "    if (name == 'key_release')\n",
       "        this._key = null;\n",
       "\n",
       "    var value = '';\n",
       "    if (event.ctrlKey && event.which != 17)\n",
       "        value += \"ctrl+\";\n",
       "    if (event.altKey && event.which != 18)\n",
       "        value += \"alt+\";\n",
       "    if (event.shiftKey && event.which != 16)\n",
       "        value += \"shift+\";\n",
       "\n",
       "    value += 'k';\n",
       "    value += event.which.toString();\n",
       "\n",
       "    this._key_event_extra(event, name);\n",
       "\n",
       "    this.send_message(name, {key: value,\n",
       "                             guiEvent: simpleKeys(event)});\n",
       "    return false;\n",
       "}\n",
       "\n",
       "mpl.figure.prototype.toolbar_button_onclick = function(name) {\n",
       "    if (name == 'download') {\n",
       "        this.handle_save(this, null);\n",
       "    } else {\n",
       "        this.send_message(\"toolbar_button\", {name: name});\n",
       "    }\n",
       "};\n",
       "\n",
       "mpl.figure.prototype.toolbar_button_onmouseover = function(tooltip) {\n",
       "    this.message.textContent = tooltip;\n",
       "};\n",
       "mpl.toolbar_items = [[\"Home\", \"Reset original view\", \"fa fa-home icon-home\", \"home\"], [\"Back\", \"Back to previous view\", \"fa fa-arrow-left icon-arrow-left\", \"back\"], [\"Forward\", \"Forward to next view\", \"fa fa-arrow-right icon-arrow-right\", \"forward\"], [\"\", \"\", \"\", \"\"], [\"Pan\", \"Pan axes with left mouse, zoom with right\", \"fa fa-arrows icon-move\", \"pan\"], [\"Zoom\", \"Zoom to rectangle\", \"fa fa-square-o icon-check-empty\", \"zoom\"], [\"\", \"\", \"\", \"\"], [\"Download\", \"Download plot\", \"fa fa-floppy-o icon-save\", \"download\"]];\n",
       "\n",
       "mpl.extensions = [\"eps\", \"pdf\", \"png\", \"ps\", \"raw\", \"svg\"];\n",
       "\n",
       "mpl.default_extension = \"png\";var comm_websocket_adapter = function(comm) {\n",
       "    // Create a \"websocket\"-like object which calls the given IPython comm\n",
       "    // object with the appropriate methods. Currently this is a non binary\n",
       "    // socket, so there is still some room for performance tuning.\n",
       "    var ws = {};\n",
       "\n",
       "    ws.close = function() {\n",
       "        comm.close()\n",
       "    };\n",
       "    ws.send = function(m) {\n",
       "        //console.log('sending', m);\n",
       "        comm.send(m);\n",
       "    };\n",
       "    // Register the callback with on_msg.\n",
       "    comm.on_msg(function(msg) {\n",
       "        //console.log('receiving', msg['content']['data'], msg);\n",
       "        // Pass the mpl event to the overridden (by mpl) onmessage function.\n",
       "        ws.onmessage(msg['content']['data'])\n",
       "    });\n",
       "    return ws;\n",
       "}\n",
       "\n",
       "mpl.mpl_figure_comm = function(comm, msg) {\n",
       "    // This is the function which gets called when the mpl process\n",
       "    // starts-up an IPython Comm through the \"matplotlib\" channel.\n",
       "\n",
       "    var id = msg.content.data.id;\n",
       "    // Get hold of the div created by the display call when the Comm\n",
       "    // socket was opened in Python.\n",
       "    var element = $(\"#\" + id);\n",
       "    var ws_proxy = comm_websocket_adapter(comm)\n",
       "\n",
       "    function ondownload(figure, format) {\n",
       "        window.open(figure.imageObj.src);\n",
       "    }\n",
       "\n",
       "    var fig = new mpl.figure(id, ws_proxy,\n",
       "                           ondownload,\n",
       "                           element.get(0));\n",
       "\n",
       "    // Call onopen now - mpl needs it, as it is assuming we've passed it a real\n",
       "    // web socket which is closed, not our websocket->open comm proxy.\n",
       "    ws_proxy.onopen();\n",
       "\n",
       "    fig.parent_element = element.get(0);\n",
       "    fig.cell_info = mpl.find_output_cell(\"<div id='\" + id + \"'></div>\");\n",
       "    if (!fig.cell_info) {\n",
       "        console.error(\"Failed to find cell for figure\", id, fig);\n",
       "        return;\n",
       "    }\n",
       "\n",
       "    var output_index = fig.cell_info[2]\n",
       "    var cell = fig.cell_info[0];\n",
       "\n",
       "};\n",
       "\n",
       "mpl.figure.prototype.handle_close = function(fig, msg) {\n",
       "    var width = fig.canvas.width/mpl.ratio\n",
       "    fig.root.unbind('remove')\n",
       "\n",
       "    // Update the output cell to use the data from the current canvas.\n",
       "    fig.push_to_output();\n",
       "    var dataURL = fig.canvas.toDataURL();\n",
       "    // Re-enable the keyboard manager in IPython - without this line, in FF,\n",
       "    // the notebook keyboard shortcuts fail.\n",
       "    IPython.keyboard_manager.enable()\n",
       "    $(fig.parent_element).html('<img src=\"' + dataURL + '\" width=\"' + width + '\">');\n",
       "    fig.close_ws(fig, msg);\n",
       "}\n",
       "\n",
       "mpl.figure.prototype.close_ws = function(fig, msg){\n",
       "    fig.send_message('closing', msg);\n",
       "    // fig.ws.close()\n",
       "}\n",
       "\n",
       "mpl.figure.prototype.push_to_output = function(remove_interactive) {\n",
       "    // Turn the data on the canvas into data in the output cell.\n",
       "    var width = this.canvas.width/mpl.ratio\n",
       "    var dataURL = this.canvas.toDataURL();\n",
       "    this.cell_info[1]['text/html'] = '<img src=\"' + dataURL + '\" width=\"' + width + '\">';\n",
       "}\n",
       "\n",
       "mpl.figure.prototype.updated_canvas_event = function() {\n",
       "    // Tell IPython that the notebook contents must change.\n",
       "    IPython.notebook.set_dirty(true);\n",
       "    this.send_message(\"ack\", {});\n",
       "    var fig = this;\n",
       "    // Wait a second, then push the new image to the DOM so\n",
       "    // that it is saved nicely (might be nice to debounce this).\n",
       "    setTimeout(function () { fig.push_to_output() }, 1000);\n",
       "}\n",
       "\n",
       "mpl.figure.prototype._init_toolbar = function() {\n",
       "    var fig = this;\n",
       "\n",
       "    var nav_element = $('<div/>');\n",
       "    nav_element.attr('style', 'width: 100%');\n",
       "    this.root.append(nav_element);\n",
       "\n",
       "    // Define a callback function for later on.\n",
       "    function toolbar_event(event) {\n",
       "        return fig.toolbar_button_onclick(event['data']);\n",
       "    }\n",
       "    function toolbar_mouse_event(event) {\n",
       "        return fig.toolbar_button_onmouseover(event['data']);\n",
       "    }\n",
       "\n",
       "    for(var toolbar_ind in mpl.toolbar_items){\n",
       "        var name = mpl.toolbar_items[toolbar_ind][0];\n",
       "        var tooltip = mpl.toolbar_items[toolbar_ind][1];\n",
       "        var image = mpl.toolbar_items[toolbar_ind][2];\n",
       "        var method_name = mpl.toolbar_items[toolbar_ind][3];\n",
       "\n",
       "        if (!name) { continue; };\n",
       "\n",
       "        var button = $('<button class=\"btn btn-default\" href=\"#\" title=\"' + name + '\"><i class=\"fa ' + image + ' fa-lg\"></i></button>');\n",
       "        button.click(method_name, toolbar_event);\n",
       "        button.mouseover(tooltip, toolbar_mouse_event);\n",
       "        nav_element.append(button);\n",
       "    }\n",
       "\n",
       "    // Add the status bar.\n",
       "    var status_bar = $('<span class=\"mpl-message\" style=\"text-align:right; float: right;\"/>');\n",
       "    nav_element.append(status_bar);\n",
       "    this.message = status_bar[0];\n",
       "\n",
       "    // Add the close button to the window.\n",
       "    var buttongrp = $('<div class=\"btn-group inline pull-right\"></div>');\n",
       "    var button = $('<button class=\"btn btn-mini btn-primary\" href=\"#\" title=\"Stop Interaction\"><i class=\"fa fa-power-off icon-remove icon-large\"></i></button>');\n",
       "    button.click(function (evt) { fig.handle_close(fig, {}); } );\n",
       "    button.mouseover('Stop Interaction', toolbar_mouse_event);\n",
       "    buttongrp.append(button);\n",
       "    var titlebar = this.root.find($('.ui-dialog-titlebar'));\n",
       "    titlebar.prepend(buttongrp);\n",
       "}\n",
       "\n",
       "mpl.figure.prototype._root_extra_style = function(el){\n",
       "    var fig = this\n",
       "    el.on(\"remove\", function(){\n",
       "\tfig.close_ws(fig, {});\n",
       "    });\n",
       "}\n",
       "\n",
       "mpl.figure.prototype._canvas_extra_style = function(el){\n",
       "    // this is important to make the div 'focusable\n",
       "    el.attr('tabindex', 0)\n",
       "    // reach out to IPython and tell the keyboard manager to turn it's self\n",
       "    // off when our div gets focus\n",
       "\n",
       "    // location in version 3\n",
       "    if (IPython.notebook.keyboard_manager) {\n",
       "        IPython.notebook.keyboard_manager.register_events(el);\n",
       "    }\n",
       "    else {\n",
       "        // location in version 2\n",
       "        IPython.keyboard_manager.register_events(el);\n",
       "    }\n",
       "\n",
       "}\n",
       "\n",
       "mpl.figure.prototype._key_event_extra = function(event, name) {\n",
       "    var manager = IPython.notebook.keyboard_manager;\n",
       "    if (!manager)\n",
       "        manager = IPython.keyboard_manager;\n",
       "\n",
       "    // Check for shift+enter\n",
       "    if (event.shiftKey && event.which == 13) {\n",
       "        this.canvas_div.blur();\n",
       "        event.shiftKey = false;\n",
       "        // Send a \"J\" for go to next cell\n",
       "        event.which = 74;\n",
       "        event.keyCode = 74;\n",
       "        manager.command_mode();\n",
       "        manager.handle_keydown(event);\n",
       "    }\n",
       "}\n",
       "\n",
       "mpl.figure.prototype.handle_save = function(fig, msg) {\n",
       "    fig.ondownload(fig, null);\n",
       "}\n",
       "\n",
       "\n",
       "mpl.find_output_cell = function(html_output) {\n",
       "    // Return the cell and output element which can be found *uniquely* in the notebook.\n",
       "    // Note - this is a bit hacky, but it is done because the \"notebook_saving.Notebook\"\n",
       "    // IPython event is triggered only after the cells have been serialised, which for\n",
       "    // our purposes (turning an active figure into a static one), is too late.\n",
       "    var cells = IPython.notebook.get_cells();\n",
       "    var ncells = cells.length;\n",
       "    for (var i=0; i<ncells; i++) {\n",
       "        var cell = cells[i];\n",
       "        if (cell.cell_type === 'code'){\n",
       "            for (var j=0; j<cell.output_area.outputs.length; j++) {\n",
       "                var data = cell.output_area.outputs[j];\n",
       "                if (data.data) {\n",
       "                    // IPython >= 3 moved mimebundle to data attribute of output\n",
       "                    data = data.data;\n",
       "                }\n",
       "                if (data['text/html'] == html_output) {\n",
       "                    return [cell, data, j];\n",
       "                }\n",
       "            }\n",
       "        }\n",
       "    }\n",
       "}\n",
       "\n",
       "// Register the function which deals with the matplotlib target/channel.\n",
       "// The kernel may be null if the page has been refreshed.\n",
       "if (IPython.notebook.kernel != null) {\n",
       "    IPython.notebook.kernel.comm_manager.register_target('matplotlib', mpl.mpl_figure_comm);\n",
       "}\n"
      ],
      "text/plain": [
       "<IPython.core.display.Javascript object>"
      ]
     },
     "metadata": {},
     "output_type": "display_data"
    },
    {
     "data": {
      "text/html": [
       "<img src=\"data:image/png;base64,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\" width=\"599.9999869953505\">"
      ],
      "text/plain": [
       "<IPython.core.display.HTML object>"
      ]
     },
     "metadata": {},
     "output_type": "display_data"
    },
    {
     "data": {
      "application/vnd.jupyter.widget-view+json": {
       "model_id": "db0837a3572743498d251d388cf6070c",
       "version_major": 2,
       "version_minor": 0
      },
      "text/plain": [
       "interactive(children=(FloatSlider(value=0.5, description='profScl', max=1.5, min=0.5, step=0.05), FloatSlider(…"
      ]
     },
     "metadata": {},
     "output_type": "display_data"
    }
   ],
   "source": [
    "# Run this to see widget, it isn't important to understand the code\n",
    "\n",
    "%matplotlib notebook\n",
    "from ipywidgets import *\n",
    "from matplotlib import pyplot as plt\n",
    "from matplotlib.path import Path\n",
    "from matplotlib.patches import PathPatch\n",
    "import numpy as np\n",
    "from pyomo.environ import *\n",
    "\n",
    "def GiapettoInteractiveGraph( coefSlider = False, constraintSlider = False):\n",
    "\n",
    "    # create model instance\n",
    "    model = ConcreteModel( name = \"Giapetto\" )\n",
    "\n",
    "    # decision variables\n",
    "    model.soldiers = Var( domain = NonNegativeReals )\n",
    "    model.trains = Var( domain = NonNegativeReals )\n",
    "\n",
    "    # objective function\n",
    "    model.c1 = Param(default=3,mutable=True)\n",
    "    model.c2 = Param(default=2,mutable=True)\n",
    "    model.profit = Objective( expr = model.c1 * model.soldiers + model.c2 * model.trains, sense = maximize )\n",
    "\n",
    "    # constraints\n",
    "    model.b1 = Param(default=80,mutable=True)\n",
    "    model.b2 = Param(default=100,mutable=True)\n",
    "    model.b3 = Param(default=40,mutable=True)\n",
    "    model.labor_hours = Constraint( expr = model.soldiers + model.trains <= model.b1 )\n",
    "    model.finishing_hours = Constraint( expr = 2 * model.soldiers + model.trains <= model.b2 )\n",
    "    model.soldier_demand = Constraint( expr = model.soldiers <= model.b3 )\n",
    "\n",
    "    # solver\n",
    "    solver = SolverFactory('glpk')\n",
    "\n",
    "\n",
    "    # use seaborn to change the default graphics to something nicer\n",
    "    # and set a nice color palette\n",
    "    import seaborn as sns\n",
    "    sns.set_palette('Set1')\n",
    "\n",
    "    # create the plot object\n",
    "    fig, ax = plt.subplots(figsize=(6,6))\n",
    "    s = np.linspace(0, 100)\n",
    "\n",
    "    # add carpentry constraint: trains <= 80 - soldiers\n",
    "    carpentry_line, = plt.plot(s, 80 - s, lw=3, label='carpentry',color='r')\n",
    "    carpentry_fill = plt.fill_between(s, 0, 80 - s, alpha=0.1,color='r')\n",
    "\n",
    "    # add finishing constraint: trains <= 100 - 2*soldiers\n",
    "    finishing_line, = plt.plot(s, 100 - 2 * s, lw=3, label='finishing',color='g')\n",
    "    finishing_fill = plt.fill_between(s, 0, 100 - 2 * s, alpha=0.1,color='g')\n",
    "\n",
    "    # add demains constraint: soldiers <= 40\n",
    "    demand_line, = plt.plot(40 * np.ones_like(s), s, lw=3, label='demand',color='b')\n",
    "    demand_fill = plt.fill_betweenx(s, 0, 40, alpha=0.1,color='b')\n",
    "\n",
    "    # add non-negativity constraints\n",
    "    plt.plot(np.zeros_like(s), s, lw=3, label='t non-negative',color='c')\n",
    "    plt.plot(s, np.zeros_like(s), lw=3, label='s non-negative',color='m')\n",
    "\n",
    "    # level curve for profit P\n",
    "    profit_line, = plt.plot(s, .5*180 - 1.5*s, 'k--', lw = 3, label = 'profit')\n",
    "\n",
    "    # labels and stuff\n",
    "    plt.xlabel('soldiers', fontsize=16)\n",
    "    plt.ylabel('trains', fontsize=16)\n",
    "    plt.xlim(-0.5, 100)\n",
    "    plt.ylim(-0.5, 100)\n",
    "    plt.legend(loc = 'upper right',fontsize=12)\n",
    "\n",
    "    # additional elements\n",
    "    # pt, = plt.plot(20, 60, 'k.', markersize = 20 )\n",
    "    txt = plt.text( 81, 67.5, '= 180', fontsize = 14, zorder=10)\n",
    "    txt2 = plt.text( 60, 60, 'Max Profit = 180', fontsize = 14)\n",
    "\n",
    "    plt.show()\n",
    "\n",
    "    def update( profScl = .5, c1 = 3, c2 = 2, b1 = 80, b2 = 100, b3 = 40):\n",
    "        model.c1 = c1\n",
    "        model.c2 = c2\n",
    "        model.b1 = b1\n",
    "        model.b2 = b2\n",
    "        model.b3 = b3\n",
    "        solver.solve(model)\n",
    "        mxprofit = model.profit()\n",
    "        profit = mxprofit*profScl\n",
    " \n",
    "        profit_line.set_ydata((profit-c1*s)/(c2+.0001)) # hack to avoid div by 0\n",
    "        ax.collections.clear()\n",
    "        carpentry_line.set_ydata(b1-s)\n",
    "        plt.fill_between(s, 0, b1 - s, alpha=0.1,color='r')\n",
    "        finishing_line.set_ydata(b2-2*s)\n",
    "        plt.fill_between(s, 0, b2 - 2 * s, alpha=0.1,color='g')\n",
    "        demand_line.set_xdata(b3*np.ones_like(s))\n",
    "        plt.fill_betweenx(s, 0, b3, alpha=0.1,color='b')    \n",
    "        txt.set_text('= {:3.1f}'.format(profit) )\n",
    "        txt2.set_text('Max Profit = {:3.1f}'.format(mxprofit) )\n",
    "#        pt.set_xdata(model.soldiers())\n",
    "#        pt.set_ydata(model.trains())\n",
    "        fig.canvas.draw()\n",
    "\n",
    "    if (coefSlider and constraintSlider):\n",
    "        interact(update,profScl=(.5,1.5,.05),c1=(0,5,.5),c2=(0,5,.5),b1=(75,85),b2=(95,105),b3=(35,45));\n",
    "    elif (coefSlider and not constraintSlider):\n",
    "        interact(update,profScl=(.5,1.5,.05),c1=(0,5,.5),c2=(0,5,.5),b1=fixed(80),b2=fixed(100),b3=fixed(40));\n",
    "    elif (not coefSlider and constraintSlider):\n",
    "        interact(update,profScl=(.5,1.5,.05),c1=fixed(3),c2=fixed(2),b1=(75,85),b2=(95,105),b3=(35,45));\n",
    "    else:\n",
    "        interact(update,profScl=(.5,1.5,.05),c1=fixed(3),c2=fixed(2),b1=fixed(80),b2=fixed(100),b3=fixed(40));\n",
    "\n",
    "GiapettoInteractiveGraph(True,True);"
   ]
  },
  {
   "cell_type": "markdown",
   "metadata": {
    "hidden": true
   },
   "source": [
    "(a) Find and interpret the shadow price for the weekly carpentry hours."
   ]
  },
  {
   "cell_type": "markdown",
   "metadata": {
    "hidden": true
   },
   "source": [
    "<font color = \"blue\"> *** 2 points -  answer in cell below *** (don't delete this cell) </font>"
   ]
  },
  {
   "cell_type": "markdown",
   "metadata": {
    "hidden": true
   },
   "source": []
  },
  {
   "cell_type": "markdown",
   "metadata": {
    "hidden": true
   },
   "source": [
    "(b) Find and interpret the allowable range for the weekly finishing hours."
   ]
  },
  {
   "cell_type": "markdown",
   "metadata": {
    "hidden": true
   },
   "source": [
    "<font color = \"blue\"> *** 1 points -  answer in cell below *** (don't delete this cell) </font>"
   ]
  },
  {
   "cell_type": "markdown",
   "metadata": {
    "hidden": true
   },
   "source": []
  },
  {
   "cell_type": "markdown",
   "metadata": {
    "hidden": true
   },
   "source": [
    "(c) If everything else stays the same as in the initial problem, how far could the demand for toy soldiers drop before the demand becomes a sensitive parameter?"
   ]
  },
  {
   "cell_type": "markdown",
   "metadata": {
    "hidden": true
   },
   "source": [
    "<font color = \"blue\"> *** 1 points -  answer in cell below *** (don't delete this cell) </font>"
   ]
  },
  {
   "cell_type": "markdown",
   "metadata": {
    "hidden": true
   },
   "source": []
  },
  {
   "cell_type": "markdown",
   "metadata": {
    "hidden": true
   },
   "source": [
    "(d) If everything else stayed the same, but the price of selling the soldier increased to \\\\$28.50, \n",
    "\n",
    "    (i) what would be the maximum profit, "
   ]
  },
  {
   "cell_type": "markdown",
   "metadata": {
    "hidden": true
   },
   "source": [
    "<font color = \"blue\"> *** 1 points -  answer in cell below *** (don't delete this cell) </font>"
   ]
  },
  {
   "cell_type": "markdown",
   "metadata": {
    "hidden": true
   },
   "source": []
  },
  {
   "cell_type": "markdown",
   "metadata": {
    "hidden": true
   },
   "source": [
    "    (ii) how many of each toy should be produced to achieve it,"
   ]
  },
  {
   "cell_type": "markdown",
   "metadata": {
    "hidden": true
   },
   "source": [
    "<font color = \"blue\"> *** 1 points -  answer in cell below *** (don't delete this cell) </font>"
   ]
  },
  {
   "cell_type": "markdown",
   "metadata": {
    "hidden": true
   },
   "source": []
  },
  {
   "cell_type": "markdown",
   "metadata": {
    "hidden": true
   },
   "source": [
    "    (iii) and what is the new shadow price for weekly carpentry hours?  Why is this the new shadow price?"
   ]
  },
  {
   "cell_type": "markdown",
   "metadata": {
    "hidden": true
   },
   "source": [
    "<font color = \"blue\"> *** 2 points -  answer in cell below *** (don't delete this cell) </font>"
   ]
  },
  {
   "cell_type": "markdown",
   "metadata": {
    "hidden": true
   },
   "source": []
  },
  {
   "cell_type": "markdown",
   "metadata": {
    "heading_collapsed": true
   },
   "source": [
    "# Textbook Problem 4.7-3"
   ]
  },
  {
   "cell_type": "markdown",
   "metadata": {
    "hidden": true
   },
   "source": [
    "You are given the following linear programming problem: \n",
    "\n",
    "Maximize $Z = 4x_1 + 2x_2,$ \n",
    "\n",
    "subject to \n",
    "\n",
    "$\n",
    "\\begin{array}{rcrcr}\n",
    "2x_1 & & & \\leq & 16 \\\\\n",
    "x_1 & + & 3x_2 & \\leq & 17 \\\\\n",
    "         &         & x_2 & \\leq & 5 \n",
    "\\end{array}\n",
    "$\n",
    "\n",
    "and $x_1 \\geq 0, x_2 \\geq 0.$\n",
    "\n",
    "(a) Solve this problem graphically and include a screenshot here."
   ]
  },
  {
   "cell_type": "markdown",
   "metadata": {
    "hidden": true
   },
   "source": [
    "<font color = \"blue\"> *** 2 points -  answer in cell below *** (don't delete this cell) </font>"
   ]
  },
  {
   "cell_type": "markdown",
   "metadata": {
    "hidden": true
   },
   "source": []
  },
  {
   "cell_type": "markdown",
   "metadata": {
    "hidden": true
   },
   "source": [
    "(b) Use graphical analysis to find the shadow prices for the\n",
    "  resources.  Use PHPSimplex.com/en, DESMOS.com, or graph by hand.  Paste a screenshot or image of your work into your homework file.  Make sure to clearly identify the shadow prices"
   ]
  },
  {
   "cell_type": "markdown",
   "metadata": {
    "hidden": true
   },
   "source": [
    "<font color = \"blue\"> *** 2 points -  answer in cell below *** (don't delete this cell) </font>"
   ]
  },
  {
   "cell_type": "markdown",
   "metadata": {
    "hidden": true
   },
   "source": []
  },
  {
   "cell_type": "markdown",
   "metadata": {
    "hidden": true
   },
   "source": [
    "(c) Determine how many additional units of resource 1 would need to\n",
    "increase the optimal value of $Z$ by 15."
   ]
  },
  {
   "cell_type": "markdown",
   "metadata": {
    "hidden": true
   },
   "source": [
    "<font color = \"blue\"> *** 2 points -  answer in cell below *** (don't delete this cell) </font>"
   ]
  },
  {
   "cell_type": "markdown",
   "metadata": {
    "hidden": true
   },
   "source": []
  },
  {
   "cell_type": "markdown",
   "metadata": {
    "heading_collapsed": true
   },
   "source": [
    "# Textbook Problem 3.5-5"
   ]
  },
  {
   "cell_type": "markdown",
   "metadata": {
    "hidden": true
   },
   "source": [
    "Fred Jonasson manages a family-owned farm. To supplement several food products grown on the farm, Fred also raises pigs for market. He now wishes to determine the quantities of the available types of feed (corn, tankage, and alfalfa) that should be given to each pig. Since pigs will eat any mix of these feed types, the objective is to determine which mix will meet certain nutritional requirements at a minimum cost. The number of units of each type of basic nutritional ingredient contained within a kilogram of each feed type is given in the following table, along with the daily nutritional requirements and feed costs:\n",
    "\n",
    "<table>\n",
    "    <tr>\n",
    "        <th style=\"border-right:thin solid;border-bottom:thin solid;\"> &nbsp; <br> Nutrional <br> Ingredient </th>\n",
    "        <th style=\"border-bottom:thin solid;\"> Kilogram <br> of<br> Corn </th>\n",
    "        <th style=\"border-bottom:thin solid;\"> Kilogram <br> of <br> Tankage </th>\n",
    "        <th style=\"border-bottom:thin solid;\"> Kilogram<br>of<br>Alfalfa</th>\n",
    "        <th style=\"border-left: thin solid;border-bottom:thin solid;\"> Minimum<br>Daily<br>Requirement </th>\n",
    "    </tr>\n",
    "    <tr>\n",
    "        <td style=\"border-right:thin solid;\"> Carbohydrates </td>\n",
    "        <td> 90 </td>\n",
    "        <td> 20 </td>\n",
    "        <td> 40 </td>\n",
    "        <td style=\"border-left:thin solid;\"> 200 </td>\n",
    "    </tr>\n",
    "    <tr>\n",
    "        <td style=\"border-right:thin solid;\"> Protein </td>\n",
    "        <td> 30 </td>\n",
    "        <td> 80 </td>\n",
    "        <td> 60 </td>\n",
    "        <td style=\"border-left:thin solid;\"> 180 </td>\n",
    "    </tr>\n",
    "    <tr>\n",
    "        <td style=\"border-right:thin solid;\"> Vitamins </td>\n",
    "        <td> 10 </td>\n",
    "        <td> 20 </td>\n",
    "        <td> 60 </td>\n",
    "        <td style=\"border-left:thin solid;\"> 150 </td>\n",
    "    </tr>        \n",
    "    <tr>\n",
    "        <td style=\"border-top:thin solid;border-right:thin solid\"> Cost </td>\n",
    "        <td style=\"border-top:thin solid;\"> \\$2.10 </td>\n",
    "        <td style=\"border-top:thin solid;\"> \\$1.80 </td>\n",
    "        <td style=\"border-top:thin solid;\"> \\$1.50 </td>\n",
    "        <td style=\"border-left:thin solid; border-top:thin solid;\"> &nbsp; </td>\n",
    "    </tr>\n",
    "</table>"
   ]
  },
  {
   "cell_type": "markdown",
   "metadata": {
    "hidden": true
   },
   "source": [
    "(a) Formulate a linear programming model for this problem.  LaTeX or handwritten with picture."
   ]
  },
  {
   "cell_type": "markdown",
   "metadata": {
    "hidden": true
   },
   "source": [
    "<font color = \"blue\"> *** 2 points -  answer in cell below *** (don't delete this cell) </font>"
   ]
  },
  {
   "cell_type": "markdown",
   "metadata": {
    "hidden": true
   },
   "source": []
  },
  {
   "cell_type": "markdown",
   "metadata": {
    "hidden": true
   },
   "source": [
    "(b) Use Pyomo to solve this problem. Your solution should include all necessary code and inputs and it should produce formatted output."
   ]
  },
  {
   "cell_type": "markdown",
   "metadata": {
    "hidden": true
   },
   "source": [
    "<font color = \"blue\"> *** 6 points -  answer in cell below *** (don't delete this cell) </font>"
   ]
  },
  {
   "cell_type": "code",
   "execution_count": null,
   "metadata": {
    "hidden": true
   },
   "outputs": [],
   "source": []
  },
  {
   "cell_type": "markdown",
   "metadata": {
    "heading_collapsed": true
   },
   "source": [
    "# Textbook Problem 3.4-15 Revisited"
   ]
  },
  {
   "cell_type": "markdown",
   "metadata": {
    "hidden": true
   },
   "source": [
    "Oxbridge University maintains a powerful mainframe computer\n",
    "  for research use by its faculty, Ph.D. students, and research\n",
    "  associates. During all working hours, an operator must be available\n",
    "  to operate and maintain the computer, as well as to perform some\n",
    "  programming services. Beryl Ingram, the director of the computer\n",
    "  facility, oversees the operation.  \n",
    "\n",
    "  It is now the beginning of the\n",
    "  fall semester, and Beryl is confronted with the problem of assigning\n",
    "  different working hours to her operators. Because all the operators\n",
    "  are currently enrolled in the university, they are available to work\n",
    "  only a limited number of hours\n",
    "  each day, as shown in the following table: \n",
    "  \n",
    "  <img src=\"images/screen-problem5.png\" width=\"440\" height=\"250\">\n",
    "  \n",
    "  There are six operators (four undergraduate students and two\n",
    "  graduate students). They all have different wage rates because of\n",
    "  differences in their experience with computers and in their pro-\n",
    "  gramming ability. The above table shows their wage rates, along with\n",
    "  the maximum number of hours that each can work each day.  \n",
    "\n",
    "  Each\n",
    "  operator is guaranteed a certain minimum number of hours per week\n",
    "  that will maintain an adequate knowledge of the operation. This\n",
    "  level is set arbitrarily at 8 hours per week for the undergraduate\n",
    "  students (K. C., D. H., H. B., and S. C.) and 7 hours per week for\n",
    "  the graduate students (K. S. and N. K.).\n",
    "\n",
    "  The computer facility is to be open for operation from 8 A.M. to 10\n",
    "  P.M. Monday through Friday with exactly one operator on duty during\n",
    "  these hours. On Saturdays and Sundays, the computer is to be\n",
    "  operated by other staff.  Because of a tight budget, Beryl has to\n",
    "  minimize cost. She wishes to determine the number of hours she\n",
    "  should assign to each operator on each day.\n",
    "\n",
    "  Because of a tight budget, Beryl has to minimize cost. She wishes to\n",
    "  determine the number of hours she should assign to each operator on\n",
    "  each day.\n",
    "\n",
    "(a) Formulate an abstract linear programming model for this problem that can be generalized to any number of workers and days.  This is very similar to the \"Supply and Demand\" self-assessment problem:\n",
    "- \"supply\" is the weekly hours worked by each worker, but it's possible for workers to work more than the guaranteed minimum hours each week\n",
    "- \"demand\" is the daily hours that must be staffed\n",
    "- you'll need additional constraints that reflect that each worker has limited availability on each day, on some days they have zero availability\n",
    "\n",
    "Include your mathematical model here.  You can typeset the model with LaTeX or include a clean, cropped picture of your handwritten equations."
   ]
  },
  {
   "cell_type": "markdown",
   "metadata": {
    "hidden": true
   },
   "source": [
    "<font color = \"blue\"> *** 4 points -  answer in cell below *** (don't delete this cell) </font>"
   ]
  },
  {
   "cell_type": "markdown",
   "metadata": {
    "hidden": true
   },
   "source": []
  },
  {
   "cell_type": "markdown",
   "metadata": {
    "hidden": true
   },
   "source": [
    "(b) Solve this model using Pyomo, coding the data and model separately as done, for example, in the \"Supply and Demand\" Self Assessment problem.  Your solution should include all necessary code and inputs and it should produce formatted output."
   ]
  },
  {
   "cell_type": "markdown",
   "metadata": {
    "hidden": true
   },
   "source": [
    "<font color = \"blue\"> *** 4 points -  answer in cell below *** (don't delete this cell) </font>"
   ]
  },
  {
   "cell_type": "code",
   "execution_count": null,
   "metadata": {
    "hidden": true
   },
   "outputs": [],
   "source": []
  },
  {
   "cell_type": "markdown",
   "metadata": {
    "hidden": true
   },
   "source": [
    "(c) Produce the sensitivity report in Python.  "
   ]
  },
  {
   "cell_type": "markdown",
   "metadata": {
    "hidden": true
   },
   "source": [
    "<font color = \"blue\"> *** 1 point -  answer in cell below *** (don't delete this cell) </font>"
   ]
  },
  {
   "cell_type": "code",
   "execution_count": null,
   "metadata": {
    "hidden": true
   },
   "outputs": [],
   "source": []
  },
  {
   "cell_type": "markdown",
   "metadata": {
    "hidden": true
   },
   "source": [
    "(d) Report and interpret the shadow price for H.B.'s available hours hours for Monday."
   ]
  },
  {
   "cell_type": "markdown",
   "metadata": {
    "hidden": true
   },
   "source": [
    "<font color = \"blue\"> *** 1 point -  answer in cell below *** (don't delete this cell) </font>"
   ]
  },
  {
   "cell_type": "markdown",
   "metadata": {
    "hidden": true
   },
   "source": []
  },
  {
   "cell_type": "markdown",
   "metadata": {
    "hidden": true
   },
   "source": [
    "(e) Report and interpret the activity range for H.B.'s available hours hours for Monday."
   ]
  },
  {
   "cell_type": "markdown",
   "metadata": {
    "hidden": true
   },
   "source": [
    "<font color = \"blue\"> *** 1 point -  answer in cell below *** (don't delete this cell) </font>"
   ]
  },
  {
   "cell_type": "markdown",
   "metadata": {
    "hidden": true
   },
   "source": []
  },
  {
   "cell_type": "markdown",
   "metadata": {
    "heading_collapsed": true
   },
   "source": [
    "# Textbook Problem 7.3-7 (parts)"
   ]
  },
  {
   "cell_type": "markdown",
   "metadata": {
    "hidden": true
   },
   "source": [
    "This question is based on the material labeled \"Personnel\n",
    "Scheduling\" beginning on page 57 of the textbook.  Table 3.19 is\n",
    "reproduced here for convenience: \n",
    "\n",
    "<img src=\"images/problem5p5.png\" width=\"640\" height=\"450\"> \n",
    "\n",
    "Management now is considering increasing the level of service\n",
    "provided to customers by increasing one or more of the numbers in the\n",
    "rightmost column of Table 3.19 for the minimum number of agents needed\n",
    "in the various time periods. To guide them in making this decision,\n",
    "they would like to know what impact this change would have on total\n",
    "cost.  (*Note: the letters (a), (b), etc. do not match the letters in the textbook problem.*)\n",
    "\n",
    "(a) Use Pyomo with the GLPK solver to generate the sensitivity report in preparation for addressing the following questions.  Your Pyomo solution should be written in a general way that can be applied to any number time periods and shifts.  In the cell below we've included the problem data to get you started.  Note that the \"rows\" in ```periods_covered``` allow you form the mimimum number of agents constraints.  For instance, based on the second \"row\" we know that the constraint for the 8am - 10am time period is $$ 1 x_{s1} + 1 x_{s2} + 0 x_{s3} + 0 x_{s4} + 0 x_{s5} \\geq 79$$ because only agents in shifts 1 and 2 provide coverage for that time period. "
   ]
  },
  {
   "cell_type": "markdown",
   "metadata": {
    "hidden": true
   },
   "source": [
    "<font color = \"blue\"> *** 7 points -  answer in cell below *** (don't delete this cell) </font>"
   ]
  },
  {
   "cell_type": "code",
   "execution_count": 1,
   "metadata": {
    "hidden": true
   },
   "outputs": [],
   "source": [
    "# data for problem 7.3-7\n",
    "periods = [\n",
    "    'p6_8', 'p8_10', 'p10_12', 'p12_14', 'p14_16', 'p16_18', 'p18_20',\n",
    "    'p20_22', 'p22_24', 'p24_6'\n",
    "]\n",
    "shifts = ['s1', 's2', 's3', 's4', 's5']\n",
    "daily_cost_per_agent = dict( zip( shifts, [170, 160, 175, 180, 195] ) )\n",
    "min_agents_per_period = dict( zip( periods, [48, 79, 65, 87, 64, 73, 82, 43, 52, 15] ) )\n",
    "                            \n",
    "pc = [[1, 0, 0, 0, 0], [1, 1, 0, 0, 0], [1, 1, 0, 0, 0], [1, 1, 1, 0, 0],\n",
    "     [0, 1, 1, 0, 0], [0, 0, 1, 1, 0], [0, 0, 1, 1, 0], [0, 0, 0, 1, 0],\n",
    "     [0, 0, 0, 1, 1], [0, 0, 0, 0, 1]]\n",
    "periods_covered = { periods[p]: dict(zip( shifts, pc[p][:])) for p in range(len(periods))}\n",
    "\n",
    "# finish the code here:\n"
   ]
  },
  {
   "cell_type": "markdown",
   "metadata": {
    "hidden": true
   },
   "source": [
    "(b) Which of the numbers in\n",
    "the rightmost column of Table 3.19 can be increased without increasing\n",
    "total cost? In each case, indicate how much it can be increased (if it\n",
    "is the only one being changed) without increasing total cost."
   ]
  },
  {
   "cell_type": "markdown",
   "metadata": {
    "hidden": true
   },
   "source": [
    "<font color = \"blue\"> *** 2 points -  answer in cell below *** (don't delete this cell) </font>"
   ]
  },
  {
   "cell_type": "markdown",
   "metadata": {
    "hidden": true
   },
   "source": []
  },
  {
   "cell_type": "markdown",
   "metadata": {
    "hidden": true
   },
   "source": [
    "(c) For each of the other numbers, how much would the total cost increase per increase of 1 in the number? For each answer, indicate how much the number can be increased (if it is the only one being changed) before the answer is no longer valid. "
   ]
  },
  {
   "cell_type": "markdown",
   "metadata": {
    "hidden": true
   },
   "source": [
    "<font color = \"blue\"> *** 2 points -  answer in cell below *** (don't delete this cell) </font>"
   ]
  },
  {
   "cell_type": "markdown",
   "metadata": {
    "hidden": true
   },
   "source": []
  },
  {
   "cell_type": "markdown",
   "metadata": {
    "hidden": true
   },
   "source": [
    "(d) Do your answers in part (b) definitely remain valid if all the numbers considered in part (b) are simultaneously increased by one? (What percent of the allowable increase is an increase of 1 for each RHS? Consider Hillier p. 238) "
   ]
  },
  {
   "cell_type": "markdown",
   "metadata": {
    "hidden": true
   },
   "source": [
    "<font color = \"blue\"> *** 2 points -  answer in cell below *** (don't delete this cell) </font>"
   ]
  },
  {
   "cell_type": "markdown",
   "metadata": {
    "hidden": true
   },
   "source": []
  }
 ],
 "metadata": {
  "kernelspec": {
   "display_name": "Python 3",
   "language": "python",
   "name": "python3"
  },
  "language_info": {
   "codemirror_mode": {
    "name": "ipython",
    "version": 3
   },
   "file_extension": ".py",
   "mimetype": "text/x-python",
   "name": "python",
   "nbconvert_exporter": "python",
   "pygments_lexer": "ipython3",
   "version": "3.7.3"
  },
  "toc": {
   "base_numbering": 1,
   "nav_menu": {},
   "number_sections": true,
   "sideBar": true,
   "skip_h1_title": false,
   "title_cell": "Table of Contents",
   "title_sidebar": "Contents",
   "toc_cell": false,
   "toc_position": {
    "height": "calc(100% - 180px)",
    "left": "10px",
    "top": "150px",
    "width": "204.8px"
   },
   "toc_section_display": true,
   "toc_window_display": true
  },
  "varInspector": {
   "cols": {
    "lenName": 16,
    "lenType": 16,
    "lenVar": 40
   },
   "kernels_config": {
    "python": {
     "delete_cmd_postfix": "",
     "delete_cmd_prefix": "del ",
     "library": "var_list.py",
     "varRefreshCmd": "print(var_dic_list())"
    },
    "r": {
     "delete_cmd_postfix": ") ",
     "delete_cmd_prefix": "rm(",
     "library": "var_list.r",
     "varRefreshCmd": "cat(var_dic_list()) "
    }
   },
   "types_to_exclude": [
    "module",
    "function",
    "builtin_function_or_method",
    "instance",
    "_Feature"
   ],
   "window_display": false
  }
 },
 "nbformat": 4,
 "nbformat_minor": 2
}
