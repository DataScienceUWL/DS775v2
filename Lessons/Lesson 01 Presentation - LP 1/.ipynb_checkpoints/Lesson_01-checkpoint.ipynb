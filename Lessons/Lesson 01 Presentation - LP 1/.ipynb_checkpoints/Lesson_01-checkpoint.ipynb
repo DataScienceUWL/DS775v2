{
 "cells": [
  {
   "cell_type": "markdown",
   "metadata": {},
   "source": [
    "<p><font size=18>Lesson 01: Linear Programming and Pyomo</font></p>"
   ]
  },
  {
   "cell_type": "code",
   "execution_count": 1,
   "metadata": {
    "code_folding": [
     0
    ]
   },
   "outputs": [],
   "source": [
    "# execute to import notebook styling for tables and width etc.\n",
    "from IPython.core.display import HTML\n",
    "import urllib.request\n",
    "response = urllib.request.urlopen('https://raw.githubusercontent.com/DataScienceUWL/DS775v2/master/ds755.css')\n",
    "HTML(response.read().decode(\"utf-8\"));"
   ]
  },
  {
   "cell_type": "markdown",
   "metadata": {
    "heading_collapsed": true
   },
   "source": [
    "# Introduction and Set-Up"
   ]
  },
  {
   "cell_type": "markdown",
   "metadata": {
    "hidden": true
   },
   "source": [
    "## Introduction to CoCalc (video)"
   ]
  },
  {
   "cell_type": "markdown",
   "metadata": {
    "hidden": true
   },
   "source": [
    "The video below demonstrates how we will use CoCalc in this class.  If you got this notebook without signing up for CoCalc (possible through github) then visit Canvas to find and follow the \"CoCalc and Jupyter Instructions\" handout before viewing the video.  Even if you setup your own Jupyter environment at home, you'll still need to submit your assignments via CoCalc."
   ]
  },
  {
   "cell_type": "code",
   "execution_count": 2,
   "metadata": {
    "code_folding": [
     0
    ],
    "hidden": true
   },
   "outputs": [
    {
     "data": {
      "text/html": [
       "\n",
       "        <iframe\n",
       "            width=\"640\"\n",
       "            height=\"360\"\n",
       "            src=\"https://media.uwex.edu/content/ds/ds775_r19/ds775_cocalc-walkthrough/\"\n",
       "            frameborder=\"0\"\n",
       "            allowfullscreen\n",
       "        ></iframe>\n",
       "        "
      ],
      "text/plain": [
       "<IPython.lib.display.IFrame at 0x1031ad5c0>"
      ]
     },
     "execution_count": 2,
     "metadata": {},
     "output_type": "execute_result"
    }
   ],
   "source": [
    "# execute this cell for video\n",
    "from IPython.display import IFrame\n",
    "IFrame(\n",
    "    \"https://media.uwex.edu/content/ds/ds775_r19/ds775_cocalc-walkthrough/\",\n",
    "    width=640,\n",
    "    height=360)"
   ]
  },
  {
   "cell_type": "markdown",
   "metadata": {
    "heading_collapsed": true,
    "hidden": true
   },
   "source": [
    "## Configure Notebook Extensions (video)"
   ]
  },
  {
   "cell_type": "markdown",
   "metadata": {
    "hidden": true
   },
   "source": [
    "Whether you're using Jupyter at home or in CoCalc, enable these notebook extensions to view and use the class notebooks in the intended manner (table of contents, code folding,  etc.)."
   ]
  },
  {
   "cell_type": "code",
   "execution_count": 3,
   "metadata": {
    "hidden": true
   },
   "outputs": [
    {
     "data": {
      "text/html": [
       "\n",
       "        <iframe\n",
       "            width=\"640\"\n",
       "            height=\"360\"\n",
       "            src=\"https://media.uwex.edu/content/ds/ds775_r19/ds775_nb-extensions/index.html\"\n",
       "            frameborder=\"0\"\n",
       "            allowfullscreen\n",
       "        ></iframe>\n",
       "        "
      ],
      "text/plain": [
       "<IPython.lib.display.IFrame at 0x103892dd8>"
      ]
     },
     "execution_count": 3,
     "metadata": {},
     "output_type": "execute_result"
    }
   ],
   "source": [
    "# execute this cell for video\n",
    "from IPython.display import IFrame\n",
    "IFrame(\n",
    "    \"https://media.uwex.edu/content/ds/ds775_r19/ds775_nb-extensions/index.html\",\n",
    "    width=640,\n",
    "    height=360)"
   ]
  },
  {
   "cell_type": "markdown",
   "metadata": {
    "heading_collapsed": true
   },
   "source": [
    "# What is a Linear Program?"
   ]
  },
  {
   "cell_type": "markdown",
   "metadata": {
    "hidden": true
   },
   "source": [
    "**Before progressing through the remainder of this notebook, you really should have read Chapter 3 so that you know the basics of a linear program.**"
   ]
  },
  {
   "cell_type": "markdown",
   "metadata": {
    "hidden": true
   },
   "source": [
    "## <font color = \"blue\"> Self Assessment: LP Assumptions </font>"
   ]
  },
  {
   "cell_type": "markdown",
   "metadata": {
    "hidden": true
   },
   "source": [
    "Read Hillier 3.3 and answer the questions below.  Solutions are found in the **Self_Assessment_Solutions** notebook.\n",
    "\n",
    "For parts (a) - (c) below, state which, if any, linear programming model assumptions are violated and why.\n",
    "\n",
    "(a) Maximize $Z = 2x_1 + 7x_2 + x_1 x_2,$ \n",
    "\n",
    "subject to \n",
    "\n",
    "$\n",
    "\\begin{array}{rcrcr}\n",
    "5 x_1 & + &  3 x_2 & \\leq & 30 \\\\\n",
    " x_1 & + &  3 x_2 & \\leq & 40 \\\\\n",
    "12 x_1 & + & x^2_2 & \\leq & 50\n",
    "\\end{array}\n",
    "$\n",
    "\n",
    "and $x_1 \\geq 0, x_2 \\geq 0.$\n",
    "\n",
    "(b) Minimize $Z = x_1 + 2x_2 + 3,$ \n",
    "\n",
    "subject to \n",
    "\n",
    "$\n",
    "\\begin{array}{rcrcr}\n",
    " & + &  5 x_2 & \\geq & 8 \\\\\n",
    " x_1 & + &  & \\geq & 4 \\\\\n",
    " x_1 & + & x_2 & \\geq & 10\n",
    "\\end{array}\n",
    "$\n",
    "\n",
    "and $x_1 = 1,2,3, \\ldots, x_2 = 1,2,3, \\ldots$\n",
    "\n",
    "(c)  Maximize $Z = 0.5 x + 0.3 y$\n",
    "\n",
    "subject to \n",
    "\n",
    "$\n",
    "\\begin{array}{rcrcr}\n",
    "2x & - & 0.1 y & \\leq & 2.5 \\\\\n",
    "0.25 x & + & 1 & \\leq & 5.5 \\\\\n",
    " 3 x & + & a_2 y & \\leq & 7.9\n",
    "\\end{array}\n",
    "$\n",
    "\n",
    "$x \\geq 0, y \\geq 0,$ \n",
    "\n",
    "$2 \\leq a_2 \\leq 3$"
   ]
  },
  {
   "cell_type": "markdown",
   "metadata": {
    "heading_collapsed": true
   },
   "source": [
    "# Graphical Solutions"
   ]
  },
  {
   "cell_type": "markdown",
   "metadata": {
    "heading_collapsed": true,
    "hidden": true
   },
   "source": [
    "## Paper Example (video)"
   ]
  },
  {
   "cell_type": "markdown",
   "metadata": {
    "hidden": true
   },
   "source": [
    "Get \"old school\" and solve a graphical example with paper and pencil along with some graphing and algebra.  This video talks you through an example.  Doing this yourself will help your understanding (and appreciation) of how optimal solutions are found graphically using various software applications. "
   ]
  },
  {
   "cell_type": "code",
   "execution_count": 1,
   "metadata": {
    "code_folding": [
     0
    ],
    "hidden": true
   },
   "outputs": [
    {
     "data": {
      "text/html": [
       "\n",
       "        <iframe\n",
       "            width=\"640\"\n",
       "            height=\"360\"\n",
       "            src=\"https://media.uwex.edu/content/ds/ds775_r19/ds775_lesson1-graphical-by-hand/index.html\"\n",
       "            frameborder=\"0\"\n",
       "            allowfullscreen\n",
       "        ></iframe>\n",
       "        "
      ],
      "text/plain": [
       "<IPython.lib.display.IFrame at 0x103ea0828>"
      ]
     },
     "execution_count": 1,
     "metadata": {},
     "output_type": "execute_result"
    }
   ],
   "source": [
    "# execute this cell for video\n",
    "from IPython.display import IFrame\n",
    "IFrame(\n",
    "    \"https://media.uwex.edu/content/ds/ds775_r19/ds775_lesson1-graphical-by-hand/index.html\",\n",
    "    width=640,\n",
    "    height=360)"
   ]
  },
  {
   "cell_type": "markdown",
   "metadata": {
    "heading_collapsed": true,
    "hidden": true
   },
   "source": [
    "### <font color = \"blue\"> Self Assessment: Paper and Pencil Method </font>"
   ]
  },
  {
   "cell_type": "markdown",
   "metadata": {
    "hidden": true
   },
   "source": [
    "**Textbook Problem 3.1-6.** Use paper and pencil to solve this problem using the graphical method.  Paste images of your work into your homework file.\n",
    "\n",
    "Maximize $Z = 10x_1 + 20x_2,$ \n",
    "\n",
    "subject to \n",
    "\n",
    "$\n",
    "\\begin{array}{rcrcr}\n",
    "-x_1 & + & 2x_2 & \\leq & 15 \\\\\n",
    " x_1 & + &  x_2 & \\leq & 12 \\\\\n",
    "5x_1 & + & 3x_2 & \\leq & 45\n",
    "\\end{array}\n",
    "$\n",
    "\n",
    "and $x_1 \\geq 0, x_2 \\geq 0.$"
   ]
  },
  {
   "cell_type": "markdown",
   "metadata": {
    "heading_collapsed": true,
    "hidden": true
   },
   "source": [
    "## Using Software for Graphical Solutions"
   ]
  },
  {
   "cell_type": "markdown",
   "metadata": {
    "hidden": true
   },
   "source": [
    "We present two tools below, they are: \n",
    "\n",
    "* <a href = http://www.phpsimplex.com/en> PHPSimplex </a> is a virtual \"paper and pencil\" graphical solver.  \n",
    "* <a href = https://www.desmos.com> Desmos </a> is an interactive graphing tool that can be used to solve linear programs and much more."
   ]
  },
  {
   "cell_type": "markdown",
   "metadata": {
    "heading_collapsed": true,
    "hidden": true
   },
   "source": [
    "### PHPSimplex Example (video)"
   ]
  },
  {
   "cell_type": "markdown",
   "metadata": {
    "hidden": true
   },
   "source": [
    "<a href=\"http://www.phpsimplex.com/en\">PHPSimplex </a> is a site dedicated to learning linear programming.   We'll utilize their implementation of the graphical method. "
   ]
  },
  {
   "cell_type": "code",
   "execution_count": 2,
   "metadata": {
    "code_folding": [
     0
    ],
    "hidden": true
   },
   "outputs": [
    {
     "data": {
      "text/html": [
       "\n",
       "        <iframe\n",
       "            width=\"640\"\n",
       "            height=\"360\"\n",
       "            src=\"https://media.uwex.edu/content/ds/ds775_r19/ds775_lesson1-graphical-method-phpsimplex/index.html\"\n",
       "            frameborder=\"0\"\n",
       "            allowfullscreen\n",
       "        ></iframe>\n",
       "        "
      ],
      "text/plain": [
       "<IPython.lib.display.IFrame at 0x10a5b5d30>"
      ]
     },
     "execution_count": 2,
     "metadata": {},
     "output_type": "execute_result"
    }
   ],
   "source": [
    "# execute this cell for video\n",
    "from IPython.display import IFrame\n",
    "IFrame(\n",
    "    \"https://media.uwex.edu/content/ds/ds775_r19/ds775_lesson1-graphical-method-phpsimplex/index.html\",\n",
    "    width=640,\n",
    "    height=360)"
   ]
  },
  {
   "cell_type": "markdown",
   "metadata": {
    "heading_collapsed": true,
    "hidden": true
   },
   "source": [
    "### Desmos Example (video)"
   ]
  },
  {
   "cell_type": "markdown",
   "metadata": {
    "hidden": true
   },
   "source": [
    "<a href=\"https://www.desmos.com/\">Desmos</a> is a step up from \"paper and pencil\", but is still pretty hands-on.  It's a nice place to work with graphical solutions to LP problems where you still have a lot of control over the objective function and constraints.  "
   ]
  },
  {
   "cell_type": "code",
   "execution_count": 3,
   "metadata": {
    "code_folding": [
     0
    ],
    "hidden": true
   },
   "outputs": [
    {
     "data": {
      "text/html": [
       "\n",
       "        <iframe\n",
       "            width=\"640\"\n",
       "            height=\"360\"\n",
       "            src=\"https://media.uwex.edu/content/ds/ds775_r19/ds775_lesson1-graphical-example-desmos/index.html\"\n",
       "            frameborder=\"0\"\n",
       "            allowfullscreen\n",
       "        ></iframe>\n",
       "        "
      ],
      "text/plain": [
       "<IPython.lib.display.IFrame at 0x10a6a3da0>"
      ]
     },
     "execution_count": 3,
     "metadata": {},
     "output_type": "execute_result"
    }
   ],
   "source": [
    "# execute this cell for video\n",
    "from IPython.display import IFrame\n",
    "IFrame(\n",
    "    \"https://media.uwex.edu/content/ds/ds775_r19/ds775_lesson1-graphical-example-desmos/index.html\",\n",
    "    width=640,\n",
    "    height=360)"
   ]
  },
  {
   "cell_type": "markdown",
   "metadata": {
    "heading_collapsed": true,
    "hidden": true
   },
   "source": [
    "### <font color=\"blue\">Self Assessment:  Graphical Method #1 </font>"
   ]
  },
  {
   "cell_type": "markdown",
   "metadata": {
    "hidden": true
   },
   "source": [
    "**Textbook Problem 3.1-9.** The Primo Insurance Company is introducing two new product lines: special risk insurance and mortgages. The expected profit is \\\\$5 per unit on special risk insurance and \\\\$2 per unit on mortgages.  Management wishes to establish sales quotas for the new product lines to maximize total expected profit. The work requirements are as follows:\n",
    "\n",
    "<img src=\"images/screen-problem2.png\" width=\"440\" height=\"250\">\n",
    "\n",
    "(a) Formulate a linear programming model for this problem.\n",
    "\n",
    "(b) Use DESMOS (at www.desmos.com) to solve this model using the graphical method. Paste screen shots of your solution into your homework file.\n",
    "\n",
    "(c) Verify the exact value of your optimal solution from  (b)\n",
    "  by solving algebraically for the simultaneous solution of the\n",
    "  relevant two equations"
   ]
  },
  {
   "cell_type": "markdown",
   "metadata": {
    "heading_collapsed": true,
    "hidden": true
   },
   "source": [
    "### <font color=\"blue\">Self Assessment: Graphical Method #2 </font>"
   ]
  },
  {
   "cell_type": "markdown",
   "metadata": {
    "hidden": true
   },
   "source": [
    "**Textbook Problem 3.2-3.** This is your lucky day. You have just won a \\\\$20,000\n",
    "  prize. You are setting aside \\\\$8,000 for taxes and partying\n",
    "  expenses, but you have decided to invest the other \\\\$12,000. Upon\n",
    "  hearing this news, two different friends have offered you an\n",
    "  opportunity to become a partner in two different entrepreneurial\n",
    "  ventures, one planned by each friend. In both cases, this investment\n",
    "  would involve expending some of your time next summer as well as\n",
    "  putting up cash. Becoming a full partner in the first friend’s\n",
    "  venture would require an investment of \\\\$10,000 and 400 hours, and\n",
    "  your estimated profit (ignoring the value of your time) would be\n",
    "  \\\\$9,000. The corresponding figures for the second friend’s venture\n",
    "  are \\\\$8,000 and 500 hours, with an estimated profit to you of\n",
    "  \\\\$9,000. However, both friends are flexible and would allow you to\n",
    "  come in at any fraction of a full partnership you would like. If you\n",
    "  choose a fraction of a full partnership, all the above figures given\n",
    "  for a full partnership (money investment, time investment, and your\n",
    "  profit) would be multiplied by this same fraction.  Because you were\n",
    "  looking for an interesting summer job anyway (maximum of 600 hours),\n",
    "  you have decided to participate in one or both friends’ ventures in\n",
    "  whichever combination would maximize your total estimated\n",
    "  profit. You now need to solve the problem of finding the best\n",
    "  combination.\n",
    "  \n",
    "(a) Describe the analogy between this problem and\n",
    "  the Wyndor Glass Co. problem discussed in Sec. 3.1. Then construct\n",
    "  and fill in a table like Table 3.1 for this problem, identifying\n",
    "  both the activities and the resources.  \n",
    "\n",
    "(b) Formulate a linear\n",
    "  programming model for this problem.  \n",
    "\n",
    "(c) Use PHPSimplex (at www.phpsimplex.com/en) to solve this model by the graphical\n",
    "  method. Paste screen shots of your solution into your homework file.  What are the values of the decision variables at the optimal solution?  What is the total estimated profit?  "
   ]
  },
  {
   "cell_type": "markdown",
   "metadata": {
    "heading_collapsed": true,
    "hidden": true
   },
   "source": [
    "### <font color=\"blue\">Self Assessment: Graphical Method #3 </font>"
   ]
  },
  {
   "cell_type": "markdown",
   "metadata": {
    "hidden": true
   },
   "source": [
    "**Textbook Problem 3.2-4.** Use the graphical method to find all optimal soutions for the\n",
    "following model:  \n",
    "\n",
    "Maximize $Z = 500x_1 + 300x_2,$ \n",
    "\n",
    "subject to \n",
    "\n",
    "$\n",
    "\\begin{array}{rcrcr}\n",
    "15 x_1 & + &  5 x_2 & \\leq & 300 \\\\\n",
    "10 x_1 & + &   6 x_2 & \\leq & 240 \\\\\n",
    "8x_1 & + & 12x_2 & \\leq & 450\n",
    "\\end{array}\n",
    "$\n",
    "\n",
    "and $x_1 \\geq 0, x_2 \\geq 0.$"
   ]
  },
  {
   "cell_type": "markdown",
   "metadata": {
    "heading_collapsed": true,
    "hidden": true
   },
   "source": [
    "## Graphical Widget for Exploring Wyndor Problem"
   ]
  },
  {
   "cell_type": "markdown",
   "metadata": {
    "hidden": true
   },
   "source": [
    "Here is the Wyndor model.  $Z$ is the profit in thousands of dollars.  $x_1$ and $x_2$ are the batches of doors and windows, respectively.  The constraints, in order, represent the production capacities of Plants 1, 2, and 3.\n",
    "\n",
    "Maximize $Z = 3 x_1 + 5 x_2$\n",
    "\n",
    "Subject to:\n",
    "\n",
    "$\n",
    "\\begin{array}{ccccc}\n",
    " x_1 &   &      & \\leq & 4 \\\\\n",
    "     &   & 2x_2 & \\leq & 12 \\\\\n",
    "3x_1 & + & 2x_2 & \\leq & 18\n",
    "\\end{array}\n",
    "$\n",
    "\n",
    "$x_1 \\geq 0$, $x_2 \\geq 0$\n",
    "\n",
    "Use the widget below to explore the Wyndor model. \n",
    "\n",
    "* Slide profScl (Profit Scale).  Do you see why the maximum value of profit occurs at a corner point?\n",
    "* Change the objective function coefficients, $c1$ and $c2$.  Can you get the location of maximum to change?  Can you get it be an entire edge of the feasible region (infinitely many solutions)?\n",
    "* $b1, b2, b3$ are the values of the right hand sides of the constraints.  How does changing those values effect the feasible region and the maximum profit?"
   ]
  },
  {
   "cell_type": "code",
   "execution_count": 17,
   "metadata": {
    "code_folding": [
     0
    ],
    "hidden": true
   },
   "outputs": [
    {
     "data": {
      "application/javascript": [
       "/* Put everything inside the global mpl namespace */\n",
       "window.mpl = {};\n",
       "\n",
       "\n",
       "mpl.get_websocket_type = function() {\n",
       "    if (typeof(WebSocket) !== 'undefined') {\n",
       "        return WebSocket;\n",
       "    } else if (typeof(MozWebSocket) !== 'undefined') {\n",
       "        return MozWebSocket;\n",
       "    } else {\n",
       "        alert('Your browser does not have WebSocket support.' +\n",
       "              'Please try Chrome, Safari or Firefox ≥ 6. ' +\n",
       "              'Firefox 4 and 5 are also supported but you ' +\n",
       "              'have to enable WebSockets in about:config.');\n",
       "    };\n",
       "}\n",
       "\n",
       "mpl.figure = function(figure_id, websocket, ondownload, parent_element) {\n",
       "    this.id = figure_id;\n",
       "\n",
       "    this.ws = websocket;\n",
       "\n",
       "    this.supports_binary = (this.ws.binaryType != undefined);\n",
       "\n",
       "    if (!this.supports_binary) {\n",
       "        var warnings = document.getElementById(\"mpl-warnings\");\n",
       "        if (warnings) {\n",
       "            warnings.style.display = 'block';\n",
       "            warnings.textContent = (\n",
       "                \"This browser does not support binary websocket messages. \" +\n",
       "                    \"Performance may be slow.\");\n",
       "        }\n",
       "    }\n",
       "\n",
       "    this.imageObj = new Image();\n",
       "\n",
       "    this.context = undefined;\n",
       "    this.message = undefined;\n",
       "    this.canvas = undefined;\n",
       "    this.rubberband_canvas = undefined;\n",
       "    this.rubberband_context = undefined;\n",
       "    this.format_dropdown = undefined;\n",
       "\n",
       "    this.image_mode = 'full';\n",
       "\n",
       "    this.root = $('<div/>');\n",
       "    this._root_extra_style(this.root)\n",
       "    this.root.attr('style', 'display: inline-block');\n",
       "\n",
       "    $(parent_element).append(this.root);\n",
       "\n",
       "    this._init_header(this);\n",
       "    this._init_canvas(this);\n",
       "    this._init_toolbar(this);\n",
       "\n",
       "    var fig = this;\n",
       "\n",
       "    this.waiting = false;\n",
       "\n",
       "    this.ws.onopen =  function () {\n",
       "            fig.send_message(\"supports_binary\", {value: fig.supports_binary});\n",
       "            fig.send_message(\"send_image_mode\", {});\n",
       "            if (mpl.ratio != 1) {\n",
       "                fig.send_message(\"set_dpi_ratio\", {'dpi_ratio': mpl.ratio});\n",
       "            }\n",
       "            fig.send_message(\"refresh\", {});\n",
       "        }\n",
       "\n",
       "    this.imageObj.onload = function() {\n",
       "            if (fig.image_mode == 'full') {\n",
       "                // Full images could contain transparency (where diff images\n",
       "                // almost always do), so we need to clear the canvas so that\n",
       "                // there is no ghosting.\n",
       "                fig.context.clearRect(0, 0, fig.canvas.width, fig.canvas.height);\n",
       "            }\n",
       "            fig.context.drawImage(fig.imageObj, 0, 0);\n",
       "        };\n",
       "\n",
       "    this.imageObj.onunload = function() {\n",
       "        fig.ws.close();\n",
       "    }\n",
       "\n",
       "    this.ws.onmessage = this._make_on_message_function(this);\n",
       "\n",
       "    this.ondownload = ondownload;\n",
       "}\n",
       "\n",
       "mpl.figure.prototype._init_header = function() {\n",
       "    var titlebar = $(\n",
       "        '<div class=\"ui-dialog-titlebar ui-widget-header ui-corner-all ' +\n",
       "        'ui-helper-clearfix\"/>');\n",
       "    var titletext = $(\n",
       "        '<div class=\"ui-dialog-title\" style=\"width: 100%; ' +\n",
       "        'text-align: center; padding: 3px;\"/>');\n",
       "    titlebar.append(titletext)\n",
       "    this.root.append(titlebar);\n",
       "    this.header = titletext[0];\n",
       "}\n",
       "\n",
       "\n",
       "\n",
       "mpl.figure.prototype._canvas_extra_style = function(canvas_div) {\n",
       "\n",
       "}\n",
       "\n",
       "\n",
       "mpl.figure.prototype._root_extra_style = function(canvas_div) {\n",
       "\n",
       "}\n",
       "\n",
       "mpl.figure.prototype._init_canvas = function() {\n",
       "    var fig = this;\n",
       "\n",
       "    var canvas_div = $('<div/>');\n",
       "\n",
       "    canvas_div.attr('style', 'position: relative; clear: both; outline: 0');\n",
       "\n",
       "    function canvas_keyboard_event(event) {\n",
       "        return fig.key_event(event, event['data']);\n",
       "    }\n",
       "\n",
       "    canvas_div.keydown('key_press', canvas_keyboard_event);\n",
       "    canvas_div.keyup('key_release', canvas_keyboard_event);\n",
       "    this.canvas_div = canvas_div\n",
       "    this._canvas_extra_style(canvas_div)\n",
       "    this.root.append(canvas_div);\n",
       "\n",
       "    var canvas = $('<canvas/>');\n",
       "    canvas.addClass('mpl-canvas');\n",
       "    canvas.attr('style', \"left: 0; top: 0; z-index: 0; outline: 0\")\n",
       "\n",
       "    this.canvas = canvas[0];\n",
       "    this.context = canvas[0].getContext(\"2d\");\n",
       "\n",
       "    var backingStore = this.context.backingStorePixelRatio ||\n",
       "\tthis.context.webkitBackingStorePixelRatio ||\n",
       "\tthis.context.mozBackingStorePixelRatio ||\n",
       "\tthis.context.msBackingStorePixelRatio ||\n",
       "\tthis.context.oBackingStorePixelRatio ||\n",
       "\tthis.context.backingStorePixelRatio || 1;\n",
       "\n",
       "    mpl.ratio = (window.devicePixelRatio || 1) / backingStore;\n",
       "\n",
       "    var rubberband = $('<canvas/>');\n",
       "    rubberband.attr('style', \"position: absolute; left: 0; top: 0; z-index: 1;\")\n",
       "\n",
       "    var pass_mouse_events = true;\n",
       "\n",
       "    canvas_div.resizable({\n",
       "        start: function(event, ui) {\n",
       "            pass_mouse_events = false;\n",
       "        },\n",
       "        resize: function(event, ui) {\n",
       "            fig.request_resize(ui.size.width, ui.size.height);\n",
       "        },\n",
       "        stop: function(event, ui) {\n",
       "            pass_mouse_events = true;\n",
       "            fig.request_resize(ui.size.width, ui.size.height);\n",
       "        },\n",
       "    });\n",
       "\n",
       "    function mouse_event_fn(event) {\n",
       "        if (pass_mouse_events)\n",
       "            return fig.mouse_event(event, event['data']);\n",
       "    }\n",
       "\n",
       "    rubberband.mousedown('button_press', mouse_event_fn);\n",
       "    rubberband.mouseup('button_release', mouse_event_fn);\n",
       "    // Throttle sequential mouse events to 1 every 20ms.\n",
       "    rubberband.mousemove('motion_notify', mouse_event_fn);\n",
       "\n",
       "    rubberband.mouseenter('figure_enter', mouse_event_fn);\n",
       "    rubberband.mouseleave('figure_leave', mouse_event_fn);\n",
       "\n",
       "    canvas_div.on(\"wheel\", function (event) {\n",
       "        event = event.originalEvent;\n",
       "        event['data'] = 'scroll'\n",
       "        if (event.deltaY < 0) {\n",
       "            event.step = 1;\n",
       "        } else {\n",
       "            event.step = -1;\n",
       "        }\n",
       "        mouse_event_fn(event);\n",
       "    });\n",
       "\n",
       "    canvas_div.append(canvas);\n",
       "    canvas_div.append(rubberband);\n",
       "\n",
       "    this.rubberband = rubberband;\n",
       "    this.rubberband_canvas = rubberband[0];\n",
       "    this.rubberband_context = rubberband[0].getContext(\"2d\");\n",
       "    this.rubberband_context.strokeStyle = \"#000000\";\n",
       "\n",
       "    this._resize_canvas = function(width, height) {\n",
       "        // Keep the size of the canvas, canvas container, and rubber band\n",
       "        // canvas in synch.\n",
       "        canvas_div.css('width', width)\n",
       "        canvas_div.css('height', height)\n",
       "\n",
       "        canvas.attr('width', width * mpl.ratio);\n",
       "        canvas.attr('height', height * mpl.ratio);\n",
       "        canvas.attr('style', 'width: ' + width + 'px; height: ' + height + 'px;');\n",
       "\n",
       "        rubberband.attr('width', width);\n",
       "        rubberband.attr('height', height);\n",
       "    }\n",
       "\n",
       "    // Set the figure to an initial 600x600px, this will subsequently be updated\n",
       "    // upon first draw.\n",
       "    this._resize_canvas(600, 600);\n",
       "\n",
       "    // Disable right mouse context menu.\n",
       "    $(this.rubberband_canvas).bind(\"contextmenu\",function(e){\n",
       "        return false;\n",
       "    });\n",
       "\n",
       "    function set_focus () {\n",
       "        canvas.focus();\n",
       "        canvas_div.focus();\n",
       "    }\n",
       "\n",
       "    window.setTimeout(set_focus, 100);\n",
       "}\n",
       "\n",
       "mpl.figure.prototype._init_toolbar = function() {\n",
       "    var fig = this;\n",
       "\n",
       "    var nav_element = $('<div/>')\n",
       "    nav_element.attr('style', 'width: 100%');\n",
       "    this.root.append(nav_element);\n",
       "\n",
       "    // Define a callback function for later on.\n",
       "    function toolbar_event(event) {\n",
       "        return fig.toolbar_button_onclick(event['data']);\n",
       "    }\n",
       "    function toolbar_mouse_event(event) {\n",
       "        return fig.toolbar_button_onmouseover(event['data']);\n",
       "    }\n",
       "\n",
       "    for(var toolbar_ind in mpl.toolbar_items) {\n",
       "        var name = mpl.toolbar_items[toolbar_ind][0];\n",
       "        var tooltip = mpl.toolbar_items[toolbar_ind][1];\n",
       "        var image = mpl.toolbar_items[toolbar_ind][2];\n",
       "        var method_name = mpl.toolbar_items[toolbar_ind][3];\n",
       "\n",
       "        if (!name) {\n",
       "            // put a spacer in here.\n",
       "            continue;\n",
       "        }\n",
       "        var button = $('<button/>');\n",
       "        button.addClass('ui-button ui-widget ui-state-default ui-corner-all ' +\n",
       "                        'ui-button-icon-only');\n",
       "        button.attr('role', 'button');\n",
       "        button.attr('aria-disabled', 'false');\n",
       "        button.click(method_name, toolbar_event);\n",
       "        button.mouseover(tooltip, toolbar_mouse_event);\n",
       "\n",
       "        var icon_img = $('<span/>');\n",
       "        icon_img.addClass('ui-button-icon-primary ui-icon');\n",
       "        icon_img.addClass(image);\n",
       "        icon_img.addClass('ui-corner-all');\n",
       "\n",
       "        var tooltip_span = $('<span/>');\n",
       "        tooltip_span.addClass('ui-button-text');\n",
       "        tooltip_span.html(tooltip);\n",
       "\n",
       "        button.append(icon_img);\n",
       "        button.append(tooltip_span);\n",
       "\n",
       "        nav_element.append(button);\n",
       "    }\n",
       "\n",
       "    var fmt_picker_span = $('<span/>');\n",
       "\n",
       "    var fmt_picker = $('<select/>');\n",
       "    fmt_picker.addClass('mpl-toolbar-option ui-widget ui-widget-content');\n",
       "    fmt_picker_span.append(fmt_picker);\n",
       "    nav_element.append(fmt_picker_span);\n",
       "    this.format_dropdown = fmt_picker[0];\n",
       "\n",
       "    for (var ind in mpl.extensions) {\n",
       "        var fmt = mpl.extensions[ind];\n",
       "        var option = $(\n",
       "            '<option/>', {selected: fmt === mpl.default_extension}).html(fmt);\n",
       "        fmt_picker.append(option)\n",
       "    }\n",
       "\n",
       "    // Add hover states to the ui-buttons\n",
       "    $( \".ui-button\" ).hover(\n",
       "        function() { $(this).addClass(\"ui-state-hover\");},\n",
       "        function() { $(this).removeClass(\"ui-state-hover\");}\n",
       "    );\n",
       "\n",
       "    var status_bar = $('<span class=\"mpl-message\"/>');\n",
       "    nav_element.append(status_bar);\n",
       "    this.message = status_bar[0];\n",
       "}\n",
       "\n",
       "mpl.figure.prototype.request_resize = function(x_pixels, y_pixels) {\n",
       "    // Request matplotlib to resize the figure. Matplotlib will then trigger a resize in the client,\n",
       "    // which will in turn request a refresh of the image.\n",
       "    this.send_message('resize', {'width': x_pixels, 'height': y_pixels});\n",
       "}\n",
       "\n",
       "mpl.figure.prototype.send_message = function(type, properties) {\n",
       "    properties['type'] = type;\n",
       "    properties['figure_id'] = this.id;\n",
       "    this.ws.send(JSON.stringify(properties));\n",
       "}\n",
       "\n",
       "mpl.figure.prototype.send_draw_message = function() {\n",
       "    if (!this.waiting) {\n",
       "        this.waiting = true;\n",
       "        this.ws.send(JSON.stringify({type: \"draw\", figure_id: this.id}));\n",
       "    }\n",
       "}\n",
       "\n",
       "\n",
       "mpl.figure.prototype.handle_save = function(fig, msg) {\n",
       "    var format_dropdown = fig.format_dropdown;\n",
       "    var format = format_dropdown.options[format_dropdown.selectedIndex].value;\n",
       "    fig.ondownload(fig, format);\n",
       "}\n",
       "\n",
       "\n",
       "mpl.figure.prototype.handle_resize = function(fig, msg) {\n",
       "    var size = msg['size'];\n",
       "    if (size[0] != fig.canvas.width || size[1] != fig.canvas.height) {\n",
       "        fig._resize_canvas(size[0], size[1]);\n",
       "        fig.send_message(\"refresh\", {});\n",
       "    };\n",
       "}\n",
       "\n",
       "mpl.figure.prototype.handle_rubberband = function(fig, msg) {\n",
       "    var x0 = msg['x0'] / mpl.ratio;\n",
       "    var y0 = (fig.canvas.height - msg['y0']) / mpl.ratio;\n",
       "    var x1 = msg['x1'] / mpl.ratio;\n",
       "    var y1 = (fig.canvas.height - msg['y1']) / mpl.ratio;\n",
       "    x0 = Math.floor(x0) + 0.5;\n",
       "    y0 = Math.floor(y0) + 0.5;\n",
       "    x1 = Math.floor(x1) + 0.5;\n",
       "    y1 = Math.floor(y1) + 0.5;\n",
       "    var min_x = Math.min(x0, x1);\n",
       "    var min_y = Math.min(y0, y1);\n",
       "    var width = Math.abs(x1 - x0);\n",
       "    var height = Math.abs(y1 - y0);\n",
       "\n",
       "    fig.rubberband_context.clearRect(\n",
       "        0, 0, fig.canvas.width, fig.canvas.height);\n",
       "\n",
       "    fig.rubberband_context.strokeRect(min_x, min_y, width, height);\n",
       "}\n",
       "\n",
       "mpl.figure.prototype.handle_figure_label = function(fig, msg) {\n",
       "    // Updates the figure title.\n",
       "    fig.header.textContent = msg['label'];\n",
       "}\n",
       "\n",
       "mpl.figure.prototype.handle_cursor = function(fig, msg) {\n",
       "    var cursor = msg['cursor'];\n",
       "    switch(cursor)\n",
       "    {\n",
       "    case 0:\n",
       "        cursor = 'pointer';\n",
       "        break;\n",
       "    case 1:\n",
       "        cursor = 'default';\n",
       "        break;\n",
       "    case 2:\n",
       "        cursor = 'crosshair';\n",
       "        break;\n",
       "    case 3:\n",
       "        cursor = 'move';\n",
       "        break;\n",
       "    }\n",
       "    fig.rubberband_canvas.style.cursor = cursor;\n",
       "}\n",
       "\n",
       "mpl.figure.prototype.handle_message = function(fig, msg) {\n",
       "    fig.message.textContent = msg['message'];\n",
       "}\n",
       "\n",
       "mpl.figure.prototype.handle_draw = function(fig, msg) {\n",
       "    // Request the server to send over a new figure.\n",
       "    fig.send_draw_message();\n",
       "}\n",
       "\n",
       "mpl.figure.prototype.handle_image_mode = function(fig, msg) {\n",
       "    fig.image_mode = msg['mode'];\n",
       "}\n",
       "\n",
       "mpl.figure.prototype.updated_canvas_event = function() {\n",
       "    // Called whenever the canvas gets updated.\n",
       "    this.send_message(\"ack\", {});\n",
       "}\n",
       "\n",
       "// A function to construct a web socket function for onmessage handling.\n",
       "// Called in the figure constructor.\n",
       "mpl.figure.prototype._make_on_message_function = function(fig) {\n",
       "    return function socket_on_message(evt) {\n",
       "        if (evt.data instanceof Blob) {\n",
       "            /* FIXME: We get \"Resource interpreted as Image but\n",
       "             * transferred with MIME type text/plain:\" errors on\n",
       "             * Chrome.  But how to set the MIME type?  It doesn't seem\n",
       "             * to be part of the websocket stream */\n",
       "            evt.data.type = \"image/png\";\n",
       "\n",
       "            /* Free the memory for the previous frames */\n",
       "            if (fig.imageObj.src) {\n",
       "                (window.URL || window.webkitURL).revokeObjectURL(\n",
       "                    fig.imageObj.src);\n",
       "            }\n",
       "\n",
       "            fig.imageObj.src = (window.URL || window.webkitURL).createObjectURL(\n",
       "                evt.data);\n",
       "            fig.updated_canvas_event();\n",
       "            fig.waiting = false;\n",
       "            return;\n",
       "        }\n",
       "        else if (typeof evt.data === 'string' && evt.data.slice(0, 21) == \"data:image/png;base64\") {\n",
       "            fig.imageObj.src = evt.data;\n",
       "            fig.updated_canvas_event();\n",
       "            fig.waiting = false;\n",
       "            return;\n",
       "        }\n",
       "\n",
       "        var msg = JSON.parse(evt.data);\n",
       "        var msg_type = msg['type'];\n",
       "\n",
       "        // Call the  \"handle_{type}\" callback, which takes\n",
       "        // the figure and JSON message as its only arguments.\n",
       "        try {\n",
       "            var callback = fig[\"handle_\" + msg_type];\n",
       "        } catch (e) {\n",
       "            console.log(\"No handler for the '\" + msg_type + \"' message type: \", msg);\n",
       "            return;\n",
       "        }\n",
       "\n",
       "        if (callback) {\n",
       "            try {\n",
       "                // console.log(\"Handling '\" + msg_type + \"' message: \", msg);\n",
       "                callback(fig, msg);\n",
       "            } catch (e) {\n",
       "                console.log(\"Exception inside the 'handler_\" + msg_type + \"' callback:\", e, e.stack, msg);\n",
       "            }\n",
       "        }\n",
       "    };\n",
       "}\n",
       "\n",
       "// from http://stackoverflow.com/questions/1114465/getting-mouse-location-in-canvas\n",
       "mpl.findpos = function(e) {\n",
       "    //this section is from http://www.quirksmode.org/js/events_properties.html\n",
       "    var targ;\n",
       "    if (!e)\n",
       "        e = window.event;\n",
       "    if (e.target)\n",
       "        targ = e.target;\n",
       "    else if (e.srcElement)\n",
       "        targ = e.srcElement;\n",
       "    if (targ.nodeType == 3) // defeat Safari bug\n",
       "        targ = targ.parentNode;\n",
       "\n",
       "    // jQuery normalizes the pageX and pageY\n",
       "    // pageX,Y are the mouse positions relative to the document\n",
       "    // offset() returns the position of the element relative to the document\n",
       "    var x = e.pageX - $(targ).offset().left;\n",
       "    var y = e.pageY - $(targ).offset().top;\n",
       "\n",
       "    return {\"x\": x, \"y\": y};\n",
       "};\n",
       "\n",
       "/*\n",
       " * return a copy of an object with only non-object keys\n",
       " * we need this to avoid circular references\n",
       " * http://stackoverflow.com/a/24161582/3208463\n",
       " */\n",
       "function simpleKeys (original) {\n",
       "  return Object.keys(original).reduce(function (obj, key) {\n",
       "    if (typeof original[key] !== 'object')\n",
       "        obj[key] = original[key]\n",
       "    return obj;\n",
       "  }, {});\n",
       "}\n",
       "\n",
       "mpl.figure.prototype.mouse_event = function(event, name) {\n",
       "    var canvas_pos = mpl.findpos(event)\n",
       "\n",
       "    if (name === 'button_press')\n",
       "    {\n",
       "        this.canvas.focus();\n",
       "        this.canvas_div.focus();\n",
       "    }\n",
       "\n",
       "    var x = canvas_pos.x * mpl.ratio;\n",
       "    var y = canvas_pos.y * mpl.ratio;\n",
       "\n",
       "    this.send_message(name, {x: x, y: y, button: event.button,\n",
       "                             step: event.step,\n",
       "                             guiEvent: simpleKeys(event)});\n",
       "\n",
       "    /* This prevents the web browser from automatically changing to\n",
       "     * the text insertion cursor when the button is pressed.  We want\n",
       "     * to control all of the cursor setting manually through the\n",
       "     * 'cursor' event from matplotlib */\n",
       "    event.preventDefault();\n",
       "    return false;\n",
       "}\n",
       "\n",
       "mpl.figure.prototype._key_event_extra = function(event, name) {\n",
       "    // Handle any extra behaviour associated with a key event\n",
       "}\n",
       "\n",
       "mpl.figure.prototype.key_event = function(event, name) {\n",
       "\n",
       "    // Prevent repeat events\n",
       "    if (name == 'key_press')\n",
       "    {\n",
       "        if (event.which === this._key)\n",
       "            return;\n",
       "        else\n",
       "            this._key = event.which;\n",
       "    }\n",
       "    if (name == 'key_release')\n",
       "        this._key = null;\n",
       "\n",
       "    var value = '';\n",
       "    if (event.ctrlKey && event.which != 17)\n",
       "        value += \"ctrl+\";\n",
       "    if (event.altKey && event.which != 18)\n",
       "        value += \"alt+\";\n",
       "    if (event.shiftKey && event.which != 16)\n",
       "        value += \"shift+\";\n",
       "\n",
       "    value += 'k';\n",
       "    value += event.which.toString();\n",
       "\n",
       "    this._key_event_extra(event, name);\n",
       "\n",
       "    this.send_message(name, {key: value,\n",
       "                             guiEvent: simpleKeys(event)});\n",
       "    return false;\n",
       "}\n",
       "\n",
       "mpl.figure.prototype.toolbar_button_onclick = function(name) {\n",
       "    if (name == 'download') {\n",
       "        this.handle_save(this, null);\n",
       "    } else {\n",
       "        this.send_message(\"toolbar_button\", {name: name});\n",
       "    }\n",
       "};\n",
       "\n",
       "mpl.figure.prototype.toolbar_button_onmouseover = function(tooltip) {\n",
       "    this.message.textContent = tooltip;\n",
       "};\n",
       "mpl.toolbar_items = [[\"Home\", \"Reset original view\", \"fa fa-home icon-home\", \"home\"], [\"Back\", \"Back to previous view\", \"fa fa-arrow-left icon-arrow-left\", \"back\"], [\"Forward\", \"Forward to next view\", \"fa fa-arrow-right icon-arrow-right\", \"forward\"], [\"\", \"\", \"\", \"\"], [\"Pan\", \"Pan axes with left mouse, zoom with right\", \"fa fa-arrows icon-move\", \"pan\"], [\"Zoom\", \"Zoom to rectangle\", \"fa fa-square-o icon-check-empty\", \"zoom\"], [\"\", \"\", \"\", \"\"], [\"Download\", \"Download plot\", \"fa fa-floppy-o icon-save\", \"download\"]];\n",
       "\n",
       "mpl.extensions = [\"eps\", \"jpeg\", \"pdf\", \"png\", \"ps\", \"raw\", \"svg\", \"tif\"];\n",
       "\n",
       "mpl.default_extension = \"png\";var comm_websocket_adapter = function(comm) {\n",
       "    // Create a \"websocket\"-like object which calls the given IPython comm\n",
       "    // object with the appropriate methods. Currently this is a non binary\n",
       "    // socket, so there is still some room for performance tuning.\n",
       "    var ws = {};\n",
       "\n",
       "    ws.close = function() {\n",
       "        comm.close()\n",
       "    };\n",
       "    ws.send = function(m) {\n",
       "        //console.log('sending', m);\n",
       "        comm.send(m);\n",
       "    };\n",
       "    // Register the callback with on_msg.\n",
       "    comm.on_msg(function(msg) {\n",
       "        //console.log('receiving', msg['content']['data'], msg);\n",
       "        // Pass the mpl event to the overridden (by mpl) onmessage function.\n",
       "        ws.onmessage(msg['content']['data'])\n",
       "    });\n",
       "    return ws;\n",
       "}\n",
       "\n",
       "mpl.mpl_figure_comm = function(comm, msg) {\n",
       "    // This is the function which gets called when the mpl process\n",
       "    // starts-up an IPython Comm through the \"matplotlib\" channel.\n",
       "\n",
       "    var id = msg.content.data.id;\n",
       "    // Get hold of the div created by the display call when the Comm\n",
       "    // socket was opened in Python.\n",
       "    var element = $(\"#\" + id);\n",
       "    var ws_proxy = comm_websocket_adapter(comm)\n",
       "\n",
       "    function ondownload(figure, format) {\n",
       "        window.open(figure.imageObj.src);\n",
       "    }\n",
       "\n",
       "    var fig = new mpl.figure(id, ws_proxy,\n",
       "                           ondownload,\n",
       "                           element.get(0));\n",
       "\n",
       "    // Call onopen now - mpl needs it, as it is assuming we've passed it a real\n",
       "    // web socket which is closed, not our websocket->open comm proxy.\n",
       "    ws_proxy.onopen();\n",
       "\n",
       "    fig.parent_element = element.get(0);\n",
       "    fig.cell_info = mpl.find_output_cell(\"<div id='\" + id + \"'></div>\");\n",
       "    if (!fig.cell_info) {\n",
       "        console.error(\"Failed to find cell for figure\", id, fig);\n",
       "        return;\n",
       "    }\n",
       "\n",
       "    var output_index = fig.cell_info[2]\n",
       "    var cell = fig.cell_info[0];\n",
       "\n",
       "};\n",
       "\n",
       "mpl.figure.prototype.handle_close = function(fig, msg) {\n",
       "    var width = fig.canvas.width/mpl.ratio\n",
       "    fig.root.unbind('remove')\n",
       "\n",
       "    // Update the output cell to use the data from the current canvas.\n",
       "    fig.push_to_output();\n",
       "    var dataURL = fig.canvas.toDataURL();\n",
       "    // Re-enable the keyboard manager in IPython - without this line, in FF,\n",
       "    // the notebook keyboard shortcuts fail.\n",
       "    IPython.keyboard_manager.enable()\n",
       "    $(fig.parent_element).html('<img src=\"' + dataURL + '\" width=\"' + width + '\">');\n",
       "    fig.close_ws(fig, msg);\n",
       "}\n",
       "\n",
       "mpl.figure.prototype.close_ws = function(fig, msg){\n",
       "    fig.send_message('closing', msg);\n",
       "    // fig.ws.close()\n",
       "}\n",
       "\n",
       "mpl.figure.prototype.push_to_output = function(remove_interactive) {\n",
       "    // Turn the data on the canvas into data in the output cell.\n",
       "    var width = this.canvas.width/mpl.ratio\n",
       "    var dataURL = this.canvas.toDataURL();\n",
       "    this.cell_info[1]['text/html'] = '<img src=\"' + dataURL + '\" width=\"' + width + '\">';\n",
       "}\n",
       "\n",
       "mpl.figure.prototype.updated_canvas_event = function() {\n",
       "    // Tell IPython that the notebook contents must change.\n",
       "    IPython.notebook.set_dirty(true);\n",
       "    this.send_message(\"ack\", {});\n",
       "    var fig = this;\n",
       "    // Wait a second, then push the new image to the DOM so\n",
       "    // that it is saved nicely (might be nice to debounce this).\n",
       "    setTimeout(function () { fig.push_to_output() }, 1000);\n",
       "}\n",
       "\n",
       "mpl.figure.prototype._init_toolbar = function() {\n",
       "    var fig = this;\n",
       "\n",
       "    var nav_element = $('<div/>')\n",
       "    nav_element.attr('style', 'width: 100%');\n",
       "    this.root.append(nav_element);\n",
       "\n",
       "    // Define a callback function for later on.\n",
       "    function toolbar_event(event) {\n",
       "        return fig.toolbar_button_onclick(event['data']);\n",
       "    }\n",
       "    function toolbar_mouse_event(event) {\n",
       "        return fig.toolbar_button_onmouseover(event['data']);\n",
       "    }\n",
       "\n",
       "    for(var toolbar_ind in mpl.toolbar_items){\n",
       "        var name = mpl.toolbar_items[toolbar_ind][0];\n",
       "        var tooltip = mpl.toolbar_items[toolbar_ind][1];\n",
       "        var image = mpl.toolbar_items[toolbar_ind][2];\n",
       "        var method_name = mpl.toolbar_items[toolbar_ind][3];\n",
       "\n",
       "        if (!name) { continue; };\n",
       "\n",
       "        var button = $('<button class=\"btn btn-default\" href=\"#\" title=\"' + name + '\"><i class=\"fa ' + image + ' fa-lg\"></i></button>');\n",
       "        button.click(method_name, toolbar_event);\n",
       "        button.mouseover(tooltip, toolbar_mouse_event);\n",
       "        nav_element.append(button);\n",
       "    }\n",
       "\n",
       "    // Add the status bar.\n",
       "    var status_bar = $('<span class=\"mpl-message\" style=\"text-align:right; float: right;\"/>');\n",
       "    nav_element.append(status_bar);\n",
       "    this.message = status_bar[0];\n",
       "\n",
       "    // Add the close button to the window.\n",
       "    var buttongrp = $('<div class=\"btn-group inline pull-right\"></div>');\n",
       "    var button = $('<button class=\"btn btn-mini btn-primary\" href=\"#\" title=\"Stop Interaction\"><i class=\"fa fa-power-off icon-remove icon-large\"></i></button>');\n",
       "    button.click(function (evt) { fig.handle_close(fig, {}); } );\n",
       "    button.mouseover('Stop Interaction', toolbar_mouse_event);\n",
       "    buttongrp.append(button);\n",
       "    var titlebar = this.root.find($('.ui-dialog-titlebar'));\n",
       "    titlebar.prepend(buttongrp);\n",
       "}\n",
       "\n",
       "mpl.figure.prototype._root_extra_style = function(el){\n",
       "    var fig = this\n",
       "    el.on(\"remove\", function(){\n",
       "\tfig.close_ws(fig, {});\n",
       "    });\n",
       "}\n",
       "\n",
       "mpl.figure.prototype._canvas_extra_style = function(el){\n",
       "    // this is important to make the div 'focusable\n",
       "    el.attr('tabindex', 0)\n",
       "    // reach out to IPython and tell the keyboard manager to turn it's self\n",
       "    // off when our div gets focus\n",
       "\n",
       "    // location in version 3\n",
       "    if (IPython.notebook.keyboard_manager) {\n",
       "        IPython.notebook.keyboard_manager.register_events(el);\n",
       "    }\n",
       "    else {\n",
       "        // location in version 2\n",
       "        IPython.keyboard_manager.register_events(el);\n",
       "    }\n",
       "\n",
       "}\n",
       "\n",
       "mpl.figure.prototype._key_event_extra = function(event, name) {\n",
       "    var manager = IPython.notebook.keyboard_manager;\n",
       "    if (!manager)\n",
       "        manager = IPython.keyboard_manager;\n",
       "\n",
       "    // Check for shift+enter\n",
       "    if (event.shiftKey && event.which == 13) {\n",
       "        this.canvas_div.blur();\n",
       "        event.shiftKey = false;\n",
       "        // Send a \"J\" for go to next cell\n",
       "        event.which = 74;\n",
       "        event.keyCode = 74;\n",
       "        manager.command_mode();\n",
       "        manager.handle_keydown(event);\n",
       "    }\n",
       "}\n",
       "\n",
       "mpl.figure.prototype.handle_save = function(fig, msg) {\n",
       "    fig.ondownload(fig, null);\n",
       "}\n",
       "\n",
       "\n",
       "mpl.find_output_cell = function(html_output) {\n",
       "    // Return the cell and output element which can be found *uniquely* in the notebook.\n",
       "    // Note - this is a bit hacky, but it is done because the \"notebook_saving.Notebook\"\n",
       "    // IPython event is triggered only after the cells have been serialised, which for\n",
       "    // our purposes (turning an active figure into a static one), is too late.\n",
       "    var cells = IPython.notebook.get_cells();\n",
       "    var ncells = cells.length;\n",
       "    for (var i=0; i<ncells; i++) {\n",
       "        var cell = cells[i];\n",
       "        if (cell.cell_type === 'code'){\n",
       "            for (var j=0; j<cell.output_area.outputs.length; j++) {\n",
       "                var data = cell.output_area.outputs[j];\n",
       "                if (data.data) {\n",
       "                    // IPython >= 3 moved mimebundle to data attribute of output\n",
       "                    data = data.data;\n",
       "                }\n",
       "                if (data['text/html'] == html_output) {\n",
       "                    return [cell, data, j];\n",
       "                }\n",
       "            }\n",
       "        }\n",
       "    }\n",
       "}\n",
       "\n",
       "// Register the function which deals with the matplotlib target/channel.\n",
       "// The kernel may be null if the page has been refreshed.\n",
       "if (IPython.notebook.kernel != null) {\n",
       "    IPython.notebook.kernel.comm_manager.register_target('matplotlib', mpl.mpl_figure_comm);\n",
       "}\n"
      ],
      "text/plain": [
       "<IPython.core.display.Javascript object>"
      ]
     },
     "metadata": {},
     "output_type": "display_data"
    },
    {
     "data": {
      "text/html": [
       "<img src=\"data:image/png;base64,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\" width=\"499.9999891627921\">"
      ],
      "text/plain": [
       "<IPython.core.display.HTML object>"
      ]
     },
     "metadata": {},
     "output_type": "display_data"
    },
    {
     "data": {
      "application/vnd.jupyter.widget-view+json": {
       "model_id": "0666d9bcf3054dabae49cf65fde43d36",
       "version_major": 2,
       "version_minor": 0
      },
      "text/plain": [
       "interactive(children=(FloatSlider(value=0.5, description='profScl', max=1.5, min=0.5, step=0.05), FloatSlider(…"
      ]
     },
     "metadata": {},
     "output_type": "display_data"
    }
   ],
   "source": [
    "# Run this to see widget, it isn't important to understand the code\n",
    "%matplotlib notebook\n",
    "from ipywidgets import *\n",
    "from matplotlib import pyplot as plt\n",
    "from matplotlib.path import Path\n",
    "from matplotlib.patches import PathPatch\n",
    "import numpy as np\n",
    "from pyomo.environ import *\n",
    "\n",
    "def WyndorInteractiveGraph( coefSlider = False, constraintSlider = False):\n",
    "\n",
    "    # create model instance\n",
    "    model = ConcreteModel( name = \"Wyndor\" )\n",
    "\n",
    "    # decision variables\n",
    "    model.doors = Var( domain = NonNegativeReals )\n",
    "    model.windows = Var( domain = NonNegativeReals )\n",
    "\n",
    "    # objective function\n",
    "    model.c1 = Param(default=3,mutable=True)\n",
    "    model.c2 = Param(default=5,mutable=True)\n",
    "    model.profit = Objective(expr = model.c1 * model.doors + \n",
    "                             model.c2 * model.windows, sense = maximize )\n",
    "\n",
    "    # constraints\n",
    "    model.b1 = Param(default=4,mutable=True)\n",
    "    model.b2 = Param(default=12,mutable=True)\n",
    "    model.b3 = Param(default=18,mutable=True)\n",
    "    model.ct_plant1 = Constraint( expr = model.doors <= model.b1 )\n",
    "    model.ct_plant2 = Constraint( expr = 2*model.windows <= model.b2 )\n",
    "    model.ct_plant3 = Constraint( expr = 3*model.doors + 2*model.windows <= model.b3 )\n",
    "\n",
    "    # solver\n",
    "    solver = SolverFactory('glpk')\n",
    "\n",
    "    # use seaborn to change the default graphics to something nicer\n",
    "    # and set a nice color palette\n",
    "    import seaborn as sns\n",
    "    sns.set_palette('Set1')\n",
    "\n",
    "    # create the plot object\n",
    "    fig, ax = plt.subplots(figsize=(5,5))\n",
    "    d = np.linspace(0, 12)\n",
    "\n",
    "    # plant 1 capacity\n",
    "    plant1_line, = plt.plot(4 * np.ones_like(d), d, lw=3, label='Plant 1',color='b')\n",
    "    plant1_fill = plt.fill_betweenx(d, 0, 4, alpha=0.1,color='b')\n",
    "\n",
    "    # plant 2 capacity\n",
    "    plant2_line, = plt.plot(d, 12/2*np.ones_like(d), lw=3, label='Plant 2',color='r')\n",
    "    plant2_fill = plt.fill_between(d, 0, 6, alpha=0.1,color='r')\n",
    "\n",
    "    # plant 3 capacity\n",
    "    plant3_line, = plt.plot(d, (18-3*d)/2, lw=3, label='Plant 3',color='g')\n",
    "    plant3_fill = plt.fill_between(d, 0, (18-3*d)/2, alpha=0.1,color='g')\n",
    "\n",
    "    # add non-negativity constraints\n",
    "    plt.plot(np.zeros_like(d), d, lw=3, label='d non-negative',color='c')\n",
    "    plt.plot(d, np.zeros_like(d), lw=3, label='w non-negative',color='m')\n",
    "\n",
    "\n",
    "    # level curve for profit P\n",
    "    profit_line, = plt.plot(d, (36-3*d)/5, 'k--', lw = 3, label = 'profit')\n",
    "\n",
    "    # labels and stuff\n",
    "    plt.xlabel('doors', fontsize=16)\n",
    "    plt.ylabel('windows', fontsize=16)\n",
    "    plt.xlim(-0.05, 12)\n",
    "    plt.ylim(-0.05, 12)\n",
    "    plt.legend(loc = 'upper right',fontsize=12)\n",
    "\n",
    "    # additional elements\n",
    "    # pt, = plt.plot(20, 60, 'k.', markersize = 20 )\n",
    "    # txt = plt.text( 81, 67.5, '= 180', fontsize = 14, zorder=10)\n",
    "    txt = plt.text( 6.2, 6.4, 'Profit = 18', fontsize = 12)\n",
    "    # txt2 = plt.text( 7, 6.6, 'Max Prof. = 36',fontsize = 12)\n",
    "\n",
    "    plt.show()\n",
    "    \n",
    "    plim = (.5,1.5,.05)\n",
    "    c1lim = (0,8,.5)\n",
    "    c1fix = fixed(3)\n",
    "    c2lim = (0,8,.5)\n",
    "    c2fix = fixed(5)\n",
    "    b1lim = (1,7)\n",
    "    b1fix = fixed(4)\n",
    "    b2lim = (6,18)\n",
    "    b2fix = fixed(12)\n",
    "    b3lim = (12,24)\n",
    "    b3fix = fixed(18)\n",
    "\n",
    "    def update( profScl = .5, c1 = 3, c2 = 5, b1 = 4, b2 = 12, b3 = 18):\n",
    "        model.c1 = c1\n",
    "        model.c2 = c2\n",
    "        model.b1 = b1\n",
    "        model.b2 = b2\n",
    "        model.b3 = b3\n",
    "        solver.solve(model)\n",
    "        mxprofit = model.profit()\n",
    "        profit = mxprofit*profScl\n",
    " \n",
    "        profit_line.set_ydata((profit-c1*d)/(c2+.0001)) # hack to avoid div by 0\n",
    "        \n",
    "        ax.collections.clear()\n",
    "\n",
    "        plant1_line.set_xdata(b1 * np.ones_like(d))\n",
    "        plt.fill_betweenx(d, 0, b1, alpha=0.1,color='b')\n",
    "        \n",
    "        plant2_line.set_ydata(b2/2 * np.ones_like(d))\n",
    "        plt.fill_between(d, 0, b2/2, alpha=0.1,color='r')\n",
    "        \n",
    "        plant3_line.set_ydata((b3-3*d)/2)\n",
    "        plt.fill_between(d, 0, (b3-3*d)/2, alpha=0.1,color='g')    \n",
    "\n",
    "        txt.set_text('Profit = {:3.2f}'.format(profit) )\n",
    "        # txt2.set_text('Max Prof. = {:3.2f}'.format(mxprofit) )\n",
    "        fig.canvas.draw()\n",
    "    \n",
    "    if (coefSlider and constraintSlider):\n",
    "        interact(update,profScl=plim,c1=c1lim,c2=c2lim,b1=b1lim,b2=b2lim,b3=b3lim);\n",
    "    elif (coefSlider and not constraintSlider):\n",
    "        interact(update,profScl=plim,c1=c1lim,c2=c2lim,b1=b1fix,b2=b2fix,b3=b3fix);\n",
    "    elif (not coefSlider and constraintSlider):\n",
    "        interact(update,profScl=plim,c1=c1fix,c2=c2fix,b1=b1lim,b2=b2lim,b3=b3lim);\n",
    "    else: \n",
    "        interact(update,profScl=plim,c1=c1fix,c2=c2fix,b1=b1fix,b2=b2fix,b3=b3fix);\n",
    "                 \n",
    "WyndorInteractiveGraph(True,True)"
   ]
  },
  {
   "cell_type": "markdown",
   "metadata": {
    "heading_collapsed": true,
    "hidden": true
   },
   "source": [
    "## Wyndor Minimize Cost Widget"
   ]
  },
  {
   "cell_type": "markdown",
   "metadata": {
    "hidden": true
   },
   "source": [
    "Let's modify the Wyndor problem to minimize the cost of producing doors and windows.\n",
    "\n",
    "$Z$ now represents the cost in thousands of dollars.  $x_1$ and $x_2$ are the batches of doors and windows, respectively.  If we include only the original constraints, then the minimum cost occurs when $x_1 = 0$ and $x_2 = 0$, that is we produce nothing.  However, the Wyndor Company also wants to produce a total of at least 3 batches of doors and/or windows to keep the plants running. \n",
    "\n",
    "The constraints below, in order, represent the production capacities of Plants 1, 2, and 3, as well as the minimum production constraint.  \n",
    "\n",
    "Minimize $Z = 2 x_1 + 3 x_2$\n",
    "\n",
    "Subject to:\n",
    "\n",
    "$\n",
    "\\begin{array}{ccccc}\n",
    " x_1 &   &      & \\leq & 4 \\\\\n",
    "     &   & 2x_2 & \\leq & 12 \\\\\n",
    "3x_1 & + & 2x_2 & \\leq & 18 \\\\\n",
    " x_1 & + &  x_2 & \\geq & 3 \n",
    "\\end{array}\n",
    "$\n",
    "\n",
    "Use the widget below to explore the Wyndor cost minimization model. \n",
    "\n",
    "* Where does the minimum cost occur?\n",
    "* If b4 is 0 so that the minimum number produced is zero, then what is the minimum cost?\n",
    "* What is the maximum cost?  Where does it occur?"
   ]
  },
  {
   "cell_type": "code",
   "execution_count": null,
   "metadata": {
    "code_folding": [
     0
    ],
    "collapsed": true,
    "hidden": true
   },
   "outputs": [],
   "source": [
    "# Run this to see widget, it isn't important to understand the code\n",
    "%matplotlib notebook\n",
    "from ipywidgets import *\n",
    "from matplotlib import pyplot as plt\n",
    "from matplotlib.path import Path\n",
    "from matplotlib.patches import PathPatch\n",
    "import numpy as np\n",
    "from pyomo.environ import *\n",
    "\n",
    "def WyndorInteractiveGraph2( coefSlider = False, constraintSlider = False):\n",
    "\n",
    "    # create model instance\n",
    "    model = ConcreteModel( name = \"Wyndor\" )\n",
    "\n",
    "    # decision variables\n",
    "    model.doors = Var( domain = NonNegativeReals )\n",
    "    model.windows = Var( domain = NonNegativeReals )\n",
    "\n",
    "    # objective function\n",
    "    model.c1 = Param(default=2,mutable=True)\n",
    "    model.c2 = Param(default=3,mutable=True)\n",
    "    model.cost = Objective(expr = model.c1 * model.doors + \n",
    "                             model.c2 * model.windows, sense = minimize)\n",
    "\n",
    "    # constraints\n",
    "    model.b1 = Param(default=4,mutable=True)\n",
    "    model.b2 = Param(default=12,mutable=True)\n",
    "    model.b3 = Param(default=18,mutable=True)\n",
    "    model.b4 = Param(default=3,mutable=True)\n",
    "    model.ct_plant1 = Constraint( expr = model.doors <= model.b1 )\n",
    "    model.ct_plant2 = Constraint( expr = 2*model.windows <= model.b2 )\n",
    "    model.ct_plant3 = Constraint( expr = 3*model.doors + 2*model.windows <= model.b3 )\n",
    "    model.ct_minprod = Constraint( expr = model.doors + model.windows >= model.b4 )\n",
    "\n",
    "    # solver\n",
    "    solver = SolverFactory('glpk')\n",
    "\n",
    "    # use seaborn to change the default graphics to something nicer\n",
    "    # and set a nice color palette\n",
    "    import seaborn as sns\n",
    "    sns.set_palette('Set1')\n",
    "\n",
    "    # create the plot object\n",
    "    fig, ax = plt.subplots(figsize=(5,5))\n",
    "    d = np.linspace(0, 12)\n",
    "\n",
    "    # plant 1 capacity\n",
    "    plant1_line, = plt.plot(4 * np.ones_like(d), d, lw=3, label='Plant 1',color='b')\n",
    "    plant1_fill = plt.fill_betweenx(d, 0, 4, alpha=0.1,color='b')\n",
    "\n",
    "    # plant 2 capacity\n",
    "    plant2_line, = plt.plot(d, 12/2*np.ones_like(d), lw=3, label='Plant 2',color='r')\n",
    "    plant2_fill = plt.fill_between(d, 0, 6, alpha=0.1,color='r')\n",
    "\n",
    "    # plant 3 capacity\n",
    "    plant3_line, = plt.plot(d, (18-3*d)/2, lw=3, label='Plant 3',color='g')\n",
    "    plant3_fill = plt.fill_between(d, 0, (18-3*d)/2, alpha=0.1,color='g')\n",
    "    \n",
    "    # min production\n",
    "    minprod_line, = plt.plot(d, 3 - d, lw=3, label = 'Min Prod', color='y')\n",
    "    minprod_fill = plt.fill_between(d, 3-d, 12, alpha=0.1, color='y')\n",
    "\n",
    "    # add non-negativity constraints\n",
    "    plt.plot(np.zeros_like(d), d, lw=3, label='d non-negative',color='c')\n",
    "    plt.plot(d, np.zeros_like(d), lw=3, label='w non-negative',color='m')\n",
    "\n",
    "\n",
    "    # level curve for profit P\n",
    "    cost_line, = plt.plot(d, (13.5-2*d)/3, 'k--', lw = 3, label = 'cost')\n",
    "\n",
    "    # labels and stuff\n",
    "    plt.xlabel('doors', fontsize=16)\n",
    "    plt.ylabel('windows', fontsize=16)\n",
    "    plt.xlim(-0.05, 12)\n",
    "    plt.ylim(-0.05, 12)\n",
    "    plt.legend(loc = 'upper right',fontsize=12)\n",
    "\n",
    "    # additional elements\n",
    "    # pt, = plt.plot(20, 60, 'k.', markersize = 20 )\n",
    "    # txt = plt.text( 81, 67.5, '= 180', fontsize = 14, zorder=10)\n",
    "    txt = plt.text( 6.2, 5.4, 'Cost = 999', fontsize = 12)\n",
    "    # txt2 = plt.text( 7, 6.6, 'Max Prof. = 36',fontsize = 12)\n",
    "\n",
    "    plt.show()\n",
    "    \n",
    "    clim = (.05,1.95,.05)\n",
    "    c1lim = (0,8,.5)\n",
    "    c1fix = fixed(2)\n",
    "    c2lim = (0,8,.5)\n",
    "    c2fix = fixed(3)\n",
    "    b1lim = (1,7)\n",
    "    b1fix = fixed(4)\n",
    "    b2lim = (6,18)\n",
    "    b2fix = fixed(12)\n",
    "    b3lim = (12,24)\n",
    "    b3fix = fixed(18)\n",
    "    b4lim = (0,4)\n",
    "    b4fix = fixed(3)\n",
    "\n",
    "    def update( costScl = 1.95, c1 = 2, c2 = 3, b1 = 4, b2 = 12, b3 = 18, b4 = 3):\n",
    "        model.c1 = c1\n",
    "        model.c2 = c2\n",
    "        model.b1 = b1\n",
    "        model.b2 = b2\n",
    "        model.b3 = b3\n",
    "        model.b4 = b4\n",
    "        solver.solve(model)\n",
    "        mncost = model.cost()\n",
    "        cost = mncost*costScl\n",
    " \n",
    "        cost_line.set_ydata((cost-c1*d)/(c2+.0001)) # hack to avoid div by 0\n",
    "        \n",
    "        ax.collections.clear()\n",
    "\n",
    "        plant1_line.set_xdata(b1 * np.ones_like(d))\n",
    "        plt.fill_betweenx(d, 0, b1, alpha=0.1,color='b')\n",
    "        \n",
    "        plant2_line.set_ydata(b2/2 * np.ones_like(d))\n",
    "        plt.fill_between(d, 0, b2/2, alpha=0.1,color='r')\n",
    "        \n",
    "        plant3_line.set_ydata((b3-3*d)/2)\n",
    "        plt.fill_between(d, 0, (b3-3*d)/2, alpha=0.1,color='g')  \n",
    "        \n",
    "        minprod_line.set_ydata(b4-d)\n",
    "        plt.fill_between(d,b4-d,12,alpha=0.1,color='y')\n",
    "\n",
    "        txt.set_text('Cost = {:3.2f}'.format(cost) )\n",
    "        fig.canvas.draw()\n",
    "    \n",
    "    if (coefSlider and constraintSlider):\n",
    "        interact(update,costScl=clim,c1=c1lim,c2=c2lim,b1=b1lim,b2=b2lim,b3=b3lim,b4=b4lim);\n",
    "    elif (coefSlider and not constraintSlider):\n",
    "        interact(update,costScl=clim,c1=c1lim,c2=c2lim,b1=b1fix,b2=b2fix,b3=b3fix,b4=b4fix);\n",
    "    elif (not coefSlider and constraintSlider):\n",
    "        interact(update,costScl=clim,c1=c1fix,c2=c2fix,b1=b1lim,b2=b2lim,b3=b3lim,b4=b4lim);\n",
    "    else: \n",
    "        interact(update,costScl=clim,c1=c1fix,c2=c2fix,b1=b1fix,b2=b2fix,b3=b3fix,b4=b4fix);\n",
    "                 \n",
    "WyndorInteractiveGraph2(True,True)"
   ]
  },
  {
   "cell_type": "markdown",
   "metadata": {
    "heading_collapsed": true,
    "hidden": true
   },
   "source": [
    "### <font color=\"blue\"> Self Assessment:  Graphical Method #4 "
   ]
  },
  {
   "cell_type": "markdown",
   "metadata": {
    "hidden": true
   },
   "source": [
    "**Textbook Problem 3.4-4.** Use the graphical method to solve the problem:  \n",
    "\n",
    "Minimize $Z = 15x_1 + 20x_2,$ \n",
    "\n",
    "subject to \n",
    "\n",
    "$\n",
    "\\begin{array}{rcrcr}\n",
    "x_1 & + & 2x_2 & \\geq & 10 \\\\\n",
    "2 x_1 & - &  3x_2 & \\leq & 6 \\\\\n",
    "x_1 & + & x_2 & \\geq & 6\n",
    "\\end{array}\n",
    "$\n",
    "\n",
    "and $x_1 \\geq 0, x_2 \\geq 0.$ "
   ]
  },
  {
   "cell_type": "markdown",
   "metadata": {
    "heading_collapsed": true,
    "hidden": true
   },
   "source": [
    "## Unbounded Regions"
   ]
  },
  {
   "cell_type": "markdown",
   "metadata": {
    "hidden": true
   },
   "source": [
    "### Widget\n",
    "Play with the widget to see how a maximization (or minimization) linear program may or may not have a maximum value on an unbounded region.  It depends on the objective function.\n",
    "\n",
    "In the problem below there is no upper bound on $x$ so the feasible region is a strip that extends to infinity in the horizontal direction.\n",
    "\n",
    "Try and answer some questions on your own and then watch the video that follows if you want more guidance.\n",
    "\n",
    "* Without changing any other sliders play with zMult.  Is there a minimum value?  Is there a maximum value?\n",
    "* Now change the coefficients c1 and c2 ($ Z = c_1 x + c_2 y $).  Can you find an objective function that has maximum value but no minimum value?\n",
    "* Find coefficients c1 and c2 so that there are infinitely many solutions.\n"
   ]
  },
  {
   "cell_type": "code",
   "execution_count": 3,
   "metadata": {
    "code_folding": [
     0
    ],
    "hidden": true,
    "scrolled": true
   },
   "outputs": [
    {
     "data": {
      "application/javascript": [
       "/* Put everything inside the global mpl namespace */\n",
       "window.mpl = {};\n",
       "\n",
       "\n",
       "mpl.get_websocket_type = function() {\n",
       "    if (typeof(WebSocket) !== 'undefined') {\n",
       "        return WebSocket;\n",
       "    } else if (typeof(MozWebSocket) !== 'undefined') {\n",
       "        return MozWebSocket;\n",
       "    } else {\n",
       "        alert('Your browser does not have WebSocket support.' +\n",
       "              'Please try Chrome, Safari or Firefox ≥ 6. ' +\n",
       "              'Firefox 4 and 5 are also supported but you ' +\n",
       "              'have to enable WebSockets in about:config.');\n",
       "    };\n",
       "}\n",
       "\n",
       "mpl.figure = function(figure_id, websocket, ondownload, parent_element) {\n",
       "    this.id = figure_id;\n",
       "\n",
       "    this.ws = websocket;\n",
       "\n",
       "    this.supports_binary = (this.ws.binaryType != undefined);\n",
       "\n",
       "    if (!this.supports_binary) {\n",
       "        var warnings = document.getElementById(\"mpl-warnings\");\n",
       "        if (warnings) {\n",
       "            warnings.style.display = 'block';\n",
       "            warnings.textContent = (\n",
       "                \"This browser does not support binary websocket messages. \" +\n",
       "                    \"Performance may be slow.\");\n",
       "        }\n",
       "    }\n",
       "\n",
       "    this.imageObj = new Image();\n",
       "\n",
       "    this.context = undefined;\n",
       "    this.message = undefined;\n",
       "    this.canvas = undefined;\n",
       "    this.rubberband_canvas = undefined;\n",
       "    this.rubberband_context = undefined;\n",
       "    this.format_dropdown = undefined;\n",
       "\n",
       "    this.image_mode = 'full';\n",
       "\n",
       "    this.root = $('<div/>');\n",
       "    this._root_extra_style(this.root)\n",
       "    this.root.attr('style', 'display: inline-block');\n",
       "\n",
       "    $(parent_element).append(this.root);\n",
       "\n",
       "    this._init_header(this);\n",
       "    this._init_canvas(this);\n",
       "    this._init_toolbar(this);\n",
       "\n",
       "    var fig = this;\n",
       "\n",
       "    this.waiting = false;\n",
       "\n",
       "    this.ws.onopen =  function () {\n",
       "            fig.send_message(\"supports_binary\", {value: fig.supports_binary});\n",
       "            fig.send_message(\"send_image_mode\", {});\n",
       "            if (mpl.ratio != 1) {\n",
       "                fig.send_message(\"set_dpi_ratio\", {'dpi_ratio': mpl.ratio});\n",
       "            }\n",
       "            fig.send_message(\"refresh\", {});\n",
       "        }\n",
       "\n",
       "    this.imageObj.onload = function() {\n",
       "            if (fig.image_mode == 'full') {\n",
       "                // Full images could contain transparency (where diff images\n",
       "                // almost always do), so we need to clear the canvas so that\n",
       "                // there is no ghosting.\n",
       "                fig.context.clearRect(0, 0, fig.canvas.width, fig.canvas.height);\n",
       "            }\n",
       "            fig.context.drawImage(fig.imageObj, 0, 0);\n",
       "        };\n",
       "\n",
       "    this.imageObj.onunload = function() {\n",
       "        fig.ws.close();\n",
       "    }\n",
       "\n",
       "    this.ws.onmessage = this._make_on_message_function(this);\n",
       "\n",
       "    this.ondownload = ondownload;\n",
       "}\n",
       "\n",
       "mpl.figure.prototype._init_header = function() {\n",
       "    var titlebar = $(\n",
       "        '<div class=\"ui-dialog-titlebar ui-widget-header ui-corner-all ' +\n",
       "        'ui-helper-clearfix\"/>');\n",
       "    var titletext = $(\n",
       "        '<div class=\"ui-dialog-title\" style=\"width: 100%; ' +\n",
       "        'text-align: center; padding: 3px;\"/>');\n",
       "    titlebar.append(titletext)\n",
       "    this.root.append(titlebar);\n",
       "    this.header = titletext[0];\n",
       "}\n",
       "\n",
       "\n",
       "\n",
       "mpl.figure.prototype._canvas_extra_style = function(canvas_div) {\n",
       "\n",
       "}\n",
       "\n",
       "\n",
       "mpl.figure.prototype._root_extra_style = function(canvas_div) {\n",
       "\n",
       "}\n",
       "\n",
       "mpl.figure.prototype._init_canvas = function() {\n",
       "    var fig = this;\n",
       "\n",
       "    var canvas_div = $('<div/>');\n",
       "\n",
       "    canvas_div.attr('style', 'position: relative; clear: both; outline: 0');\n",
       "\n",
       "    function canvas_keyboard_event(event) {\n",
       "        return fig.key_event(event, event['data']);\n",
       "    }\n",
       "\n",
       "    canvas_div.keydown('key_press', canvas_keyboard_event);\n",
       "    canvas_div.keyup('key_release', canvas_keyboard_event);\n",
       "    this.canvas_div = canvas_div\n",
       "    this._canvas_extra_style(canvas_div)\n",
       "    this.root.append(canvas_div);\n",
       "\n",
       "    var canvas = $('<canvas/>');\n",
       "    canvas.addClass('mpl-canvas');\n",
       "    canvas.attr('style', \"left: 0; top: 0; z-index: 0; outline: 0\")\n",
       "\n",
       "    this.canvas = canvas[0];\n",
       "    this.context = canvas[0].getContext(\"2d\");\n",
       "\n",
       "    var backingStore = this.context.backingStorePixelRatio ||\n",
       "\tthis.context.webkitBackingStorePixelRatio ||\n",
       "\tthis.context.mozBackingStorePixelRatio ||\n",
       "\tthis.context.msBackingStorePixelRatio ||\n",
       "\tthis.context.oBackingStorePixelRatio ||\n",
       "\tthis.context.backingStorePixelRatio || 1;\n",
       "\n",
       "    mpl.ratio = (window.devicePixelRatio || 1) / backingStore;\n",
       "\n",
       "    var rubberband = $('<canvas/>');\n",
       "    rubberband.attr('style', \"position: absolute; left: 0; top: 0; z-index: 1;\")\n",
       "\n",
       "    var pass_mouse_events = true;\n",
       "\n",
       "    canvas_div.resizable({\n",
       "        start: function(event, ui) {\n",
       "            pass_mouse_events = false;\n",
       "        },\n",
       "        resize: function(event, ui) {\n",
       "            fig.request_resize(ui.size.width, ui.size.height);\n",
       "        },\n",
       "        stop: function(event, ui) {\n",
       "            pass_mouse_events = true;\n",
       "            fig.request_resize(ui.size.width, ui.size.height);\n",
       "        },\n",
       "    });\n",
       "\n",
       "    function mouse_event_fn(event) {\n",
       "        if (pass_mouse_events)\n",
       "            return fig.mouse_event(event, event['data']);\n",
       "    }\n",
       "\n",
       "    rubberband.mousedown('button_press', mouse_event_fn);\n",
       "    rubberband.mouseup('button_release', mouse_event_fn);\n",
       "    // Throttle sequential mouse events to 1 every 20ms.\n",
       "    rubberband.mousemove('motion_notify', mouse_event_fn);\n",
       "\n",
       "    rubberband.mouseenter('figure_enter', mouse_event_fn);\n",
       "    rubberband.mouseleave('figure_leave', mouse_event_fn);\n",
       "\n",
       "    canvas_div.on(\"wheel\", function (event) {\n",
       "        event = event.originalEvent;\n",
       "        event['data'] = 'scroll'\n",
       "        if (event.deltaY < 0) {\n",
       "            event.step = 1;\n",
       "        } else {\n",
       "            event.step = -1;\n",
       "        }\n",
       "        mouse_event_fn(event);\n",
       "    });\n",
       "\n",
       "    canvas_div.append(canvas);\n",
       "    canvas_div.append(rubberband);\n",
       "\n",
       "    this.rubberband = rubberband;\n",
       "    this.rubberband_canvas = rubberband[0];\n",
       "    this.rubberband_context = rubberband[0].getContext(\"2d\");\n",
       "    this.rubberband_context.strokeStyle = \"#000000\";\n",
       "\n",
       "    this._resize_canvas = function(width, height) {\n",
       "        // Keep the size of the canvas, canvas container, and rubber band\n",
       "        // canvas in synch.\n",
       "        canvas_div.css('width', width)\n",
       "        canvas_div.css('height', height)\n",
       "\n",
       "        canvas.attr('width', width * mpl.ratio);\n",
       "        canvas.attr('height', height * mpl.ratio);\n",
       "        canvas.attr('style', 'width: ' + width + 'px; height: ' + height + 'px;');\n",
       "\n",
       "        rubberband.attr('width', width);\n",
       "        rubberband.attr('height', height);\n",
       "    }\n",
       "\n",
       "    // Set the figure to an initial 600x600px, this will subsequently be updated\n",
       "    // upon first draw.\n",
       "    this._resize_canvas(600, 600);\n",
       "\n",
       "    // Disable right mouse context menu.\n",
       "    $(this.rubberband_canvas).bind(\"contextmenu\",function(e){\n",
       "        return false;\n",
       "    });\n",
       "\n",
       "    function set_focus () {\n",
       "        canvas.focus();\n",
       "        canvas_div.focus();\n",
       "    }\n",
       "\n",
       "    window.setTimeout(set_focus, 100);\n",
       "}\n",
       "\n",
       "mpl.figure.prototype._init_toolbar = function() {\n",
       "    var fig = this;\n",
       "\n",
       "    var nav_element = $('<div/>')\n",
       "    nav_element.attr('style', 'width: 100%');\n",
       "    this.root.append(nav_element);\n",
       "\n",
       "    // Define a callback function for later on.\n",
       "    function toolbar_event(event) {\n",
       "        return fig.toolbar_button_onclick(event['data']);\n",
       "    }\n",
       "    function toolbar_mouse_event(event) {\n",
       "        return fig.toolbar_button_onmouseover(event['data']);\n",
       "    }\n",
       "\n",
       "    for(var toolbar_ind in mpl.toolbar_items) {\n",
       "        var name = mpl.toolbar_items[toolbar_ind][0];\n",
       "        var tooltip = mpl.toolbar_items[toolbar_ind][1];\n",
       "        var image = mpl.toolbar_items[toolbar_ind][2];\n",
       "        var method_name = mpl.toolbar_items[toolbar_ind][3];\n",
       "\n",
       "        if (!name) {\n",
       "            // put a spacer in here.\n",
       "            continue;\n",
       "        }\n",
       "        var button = $('<button/>');\n",
       "        button.addClass('ui-button ui-widget ui-state-default ui-corner-all ' +\n",
       "                        'ui-button-icon-only');\n",
       "        button.attr('role', 'button');\n",
       "        button.attr('aria-disabled', 'false');\n",
       "        button.click(method_name, toolbar_event);\n",
       "        button.mouseover(tooltip, toolbar_mouse_event);\n",
       "\n",
       "        var icon_img = $('<span/>');\n",
       "        icon_img.addClass('ui-button-icon-primary ui-icon');\n",
       "        icon_img.addClass(image);\n",
       "        icon_img.addClass('ui-corner-all');\n",
       "\n",
       "        var tooltip_span = $('<span/>');\n",
       "        tooltip_span.addClass('ui-button-text');\n",
       "        tooltip_span.html(tooltip);\n",
       "\n",
       "        button.append(icon_img);\n",
       "        button.append(tooltip_span);\n",
       "\n",
       "        nav_element.append(button);\n",
       "    }\n",
       "\n",
       "    var fmt_picker_span = $('<span/>');\n",
       "\n",
       "    var fmt_picker = $('<select/>');\n",
       "    fmt_picker.addClass('mpl-toolbar-option ui-widget ui-widget-content');\n",
       "    fmt_picker_span.append(fmt_picker);\n",
       "    nav_element.append(fmt_picker_span);\n",
       "    this.format_dropdown = fmt_picker[0];\n",
       "\n",
       "    for (var ind in mpl.extensions) {\n",
       "        var fmt = mpl.extensions[ind];\n",
       "        var option = $(\n",
       "            '<option/>', {selected: fmt === mpl.default_extension}).html(fmt);\n",
       "        fmt_picker.append(option)\n",
       "    }\n",
       "\n",
       "    // Add hover states to the ui-buttons\n",
       "    $( \".ui-button\" ).hover(\n",
       "        function() { $(this).addClass(\"ui-state-hover\");},\n",
       "        function() { $(this).removeClass(\"ui-state-hover\");}\n",
       "    );\n",
       "\n",
       "    var status_bar = $('<span class=\"mpl-message\"/>');\n",
       "    nav_element.append(status_bar);\n",
       "    this.message = status_bar[0];\n",
       "}\n",
       "\n",
       "mpl.figure.prototype.request_resize = function(x_pixels, y_pixels) {\n",
       "    // Request matplotlib to resize the figure. Matplotlib will then trigger a resize in the client,\n",
       "    // which will in turn request a refresh of the image.\n",
       "    this.send_message('resize', {'width': x_pixels, 'height': y_pixels});\n",
       "}\n",
       "\n",
       "mpl.figure.prototype.send_message = function(type, properties) {\n",
       "    properties['type'] = type;\n",
       "    properties['figure_id'] = this.id;\n",
       "    this.ws.send(JSON.stringify(properties));\n",
       "}\n",
       "\n",
       "mpl.figure.prototype.send_draw_message = function() {\n",
       "    if (!this.waiting) {\n",
       "        this.waiting = true;\n",
       "        this.ws.send(JSON.stringify({type: \"draw\", figure_id: this.id}));\n",
       "    }\n",
       "}\n",
       "\n",
       "\n",
       "mpl.figure.prototype.handle_save = function(fig, msg) {\n",
       "    var format_dropdown = fig.format_dropdown;\n",
       "    var format = format_dropdown.options[format_dropdown.selectedIndex].value;\n",
       "    fig.ondownload(fig, format);\n",
       "}\n",
       "\n",
       "\n",
       "mpl.figure.prototype.handle_resize = function(fig, msg) {\n",
       "    var size = msg['size'];\n",
       "    if (size[0] != fig.canvas.width || size[1] != fig.canvas.height) {\n",
       "        fig._resize_canvas(size[0], size[1]);\n",
       "        fig.send_message(\"refresh\", {});\n",
       "    };\n",
       "}\n",
       "\n",
       "mpl.figure.prototype.handle_rubberband = function(fig, msg) {\n",
       "    var x0 = msg['x0'] / mpl.ratio;\n",
       "    var y0 = (fig.canvas.height - msg['y0']) / mpl.ratio;\n",
       "    var x1 = msg['x1'] / mpl.ratio;\n",
       "    var y1 = (fig.canvas.height - msg['y1']) / mpl.ratio;\n",
       "    x0 = Math.floor(x0) + 0.5;\n",
       "    y0 = Math.floor(y0) + 0.5;\n",
       "    x1 = Math.floor(x1) + 0.5;\n",
       "    y1 = Math.floor(y1) + 0.5;\n",
       "    var min_x = Math.min(x0, x1);\n",
       "    var min_y = Math.min(y0, y1);\n",
       "    var width = Math.abs(x1 - x0);\n",
       "    var height = Math.abs(y1 - y0);\n",
       "\n",
       "    fig.rubberband_context.clearRect(\n",
       "        0, 0, fig.canvas.width, fig.canvas.height);\n",
       "\n",
       "    fig.rubberband_context.strokeRect(min_x, min_y, width, height);\n",
       "}\n",
       "\n",
       "mpl.figure.prototype.handle_figure_label = function(fig, msg) {\n",
       "    // Updates the figure title.\n",
       "    fig.header.textContent = msg['label'];\n",
       "}\n",
       "\n",
       "mpl.figure.prototype.handle_cursor = function(fig, msg) {\n",
       "    var cursor = msg['cursor'];\n",
       "    switch(cursor)\n",
       "    {\n",
       "    case 0:\n",
       "        cursor = 'pointer';\n",
       "        break;\n",
       "    case 1:\n",
       "        cursor = 'default';\n",
       "        break;\n",
       "    case 2:\n",
       "        cursor = 'crosshair';\n",
       "        break;\n",
       "    case 3:\n",
       "        cursor = 'move';\n",
       "        break;\n",
       "    }\n",
       "    fig.rubberband_canvas.style.cursor = cursor;\n",
       "}\n",
       "\n",
       "mpl.figure.prototype.handle_message = function(fig, msg) {\n",
       "    fig.message.textContent = msg['message'];\n",
       "}\n",
       "\n",
       "mpl.figure.prototype.handle_draw = function(fig, msg) {\n",
       "    // Request the server to send over a new figure.\n",
       "    fig.send_draw_message();\n",
       "}\n",
       "\n",
       "mpl.figure.prototype.handle_image_mode = function(fig, msg) {\n",
       "    fig.image_mode = msg['mode'];\n",
       "}\n",
       "\n",
       "mpl.figure.prototype.updated_canvas_event = function() {\n",
       "    // Called whenever the canvas gets updated.\n",
       "    this.send_message(\"ack\", {});\n",
       "}\n",
       "\n",
       "// A function to construct a web socket function for onmessage handling.\n",
       "// Called in the figure constructor.\n",
       "mpl.figure.prototype._make_on_message_function = function(fig) {\n",
       "    return function socket_on_message(evt) {\n",
       "        if (evt.data instanceof Blob) {\n",
       "            /* FIXME: We get \"Resource interpreted as Image but\n",
       "             * transferred with MIME type text/plain:\" errors on\n",
       "             * Chrome.  But how to set the MIME type?  It doesn't seem\n",
       "             * to be part of the websocket stream */\n",
       "            evt.data.type = \"image/png\";\n",
       "\n",
       "            /* Free the memory for the previous frames */\n",
       "            if (fig.imageObj.src) {\n",
       "                (window.URL || window.webkitURL).revokeObjectURL(\n",
       "                    fig.imageObj.src);\n",
       "            }\n",
       "\n",
       "            fig.imageObj.src = (window.URL || window.webkitURL).createObjectURL(\n",
       "                evt.data);\n",
       "            fig.updated_canvas_event();\n",
       "            fig.waiting = false;\n",
       "            return;\n",
       "        }\n",
       "        else if (typeof evt.data === 'string' && evt.data.slice(0, 21) == \"data:image/png;base64\") {\n",
       "            fig.imageObj.src = evt.data;\n",
       "            fig.updated_canvas_event();\n",
       "            fig.waiting = false;\n",
       "            return;\n",
       "        }\n",
       "\n",
       "        var msg = JSON.parse(evt.data);\n",
       "        var msg_type = msg['type'];\n",
       "\n",
       "        // Call the  \"handle_{type}\" callback, which takes\n",
       "        // the figure and JSON message as its only arguments.\n",
       "        try {\n",
       "            var callback = fig[\"handle_\" + msg_type];\n",
       "        } catch (e) {\n",
       "            console.log(\"No handler for the '\" + msg_type + \"' message type: \", msg);\n",
       "            return;\n",
       "        }\n",
       "\n",
       "        if (callback) {\n",
       "            try {\n",
       "                // console.log(\"Handling '\" + msg_type + \"' message: \", msg);\n",
       "                callback(fig, msg);\n",
       "            } catch (e) {\n",
       "                console.log(\"Exception inside the 'handler_\" + msg_type + \"' callback:\", e, e.stack, msg);\n",
       "            }\n",
       "        }\n",
       "    };\n",
       "}\n",
       "\n",
       "// from http://stackoverflow.com/questions/1114465/getting-mouse-location-in-canvas\n",
       "mpl.findpos = function(e) {\n",
       "    //this section is from http://www.quirksmode.org/js/events_properties.html\n",
       "    var targ;\n",
       "    if (!e)\n",
       "        e = window.event;\n",
       "    if (e.target)\n",
       "        targ = e.target;\n",
       "    else if (e.srcElement)\n",
       "        targ = e.srcElement;\n",
       "    if (targ.nodeType == 3) // defeat Safari bug\n",
       "        targ = targ.parentNode;\n",
       "\n",
       "    // jQuery normalizes the pageX and pageY\n",
       "    // pageX,Y are the mouse positions relative to the document\n",
       "    // offset() returns the position of the element relative to the document\n",
       "    var x = e.pageX - $(targ).offset().left;\n",
       "    var y = e.pageY - $(targ).offset().top;\n",
       "\n",
       "    return {\"x\": x, \"y\": y};\n",
       "};\n",
       "\n",
       "/*\n",
       " * return a copy of an object with only non-object keys\n",
       " * we need this to avoid circular references\n",
       " * http://stackoverflow.com/a/24161582/3208463\n",
       " */\n",
       "function simpleKeys (original) {\n",
       "  return Object.keys(original).reduce(function (obj, key) {\n",
       "    if (typeof original[key] !== 'object')\n",
       "        obj[key] = original[key]\n",
       "    return obj;\n",
       "  }, {});\n",
       "}\n",
       "\n",
       "mpl.figure.prototype.mouse_event = function(event, name) {\n",
       "    var canvas_pos = mpl.findpos(event)\n",
       "\n",
       "    if (name === 'button_press')\n",
       "    {\n",
       "        this.canvas.focus();\n",
       "        this.canvas_div.focus();\n",
       "    }\n",
       "\n",
       "    var x = canvas_pos.x * mpl.ratio;\n",
       "    var y = canvas_pos.y * mpl.ratio;\n",
       "\n",
       "    this.send_message(name, {x: x, y: y, button: event.button,\n",
       "                             step: event.step,\n",
       "                             guiEvent: simpleKeys(event)});\n",
       "\n",
       "    /* This prevents the web browser from automatically changing to\n",
       "     * the text insertion cursor when the button is pressed.  We want\n",
       "     * to control all of the cursor setting manually through the\n",
       "     * 'cursor' event from matplotlib */\n",
       "    event.preventDefault();\n",
       "    return false;\n",
       "}\n",
       "\n",
       "mpl.figure.prototype._key_event_extra = function(event, name) {\n",
       "    // Handle any extra behaviour associated with a key event\n",
       "}\n",
       "\n",
       "mpl.figure.prototype.key_event = function(event, name) {\n",
       "\n",
       "    // Prevent repeat events\n",
       "    if (name == 'key_press')\n",
       "    {\n",
       "        if (event.which === this._key)\n",
       "            return;\n",
       "        else\n",
       "            this._key = event.which;\n",
       "    }\n",
       "    if (name == 'key_release')\n",
       "        this._key = null;\n",
       "\n",
       "    var value = '';\n",
       "    if (event.ctrlKey && event.which != 17)\n",
       "        value += \"ctrl+\";\n",
       "    if (event.altKey && event.which != 18)\n",
       "        value += \"alt+\";\n",
       "    if (event.shiftKey && event.which != 16)\n",
       "        value += \"shift+\";\n",
       "\n",
       "    value += 'k';\n",
       "    value += event.which.toString();\n",
       "\n",
       "    this._key_event_extra(event, name);\n",
       "\n",
       "    this.send_message(name, {key: value,\n",
       "                             guiEvent: simpleKeys(event)});\n",
       "    return false;\n",
       "}\n",
       "\n",
       "mpl.figure.prototype.toolbar_button_onclick = function(name) {\n",
       "    if (name == 'download') {\n",
       "        this.handle_save(this, null);\n",
       "    } else {\n",
       "        this.send_message(\"toolbar_button\", {name: name});\n",
       "    }\n",
       "};\n",
       "\n",
       "mpl.figure.prototype.toolbar_button_onmouseover = function(tooltip) {\n",
       "    this.message.textContent = tooltip;\n",
       "};\n",
       "mpl.toolbar_items = [[\"Home\", \"Reset original view\", \"fa fa-home icon-home\", \"home\"], [\"Back\", \"Back to  previous view\", \"fa fa-arrow-left icon-arrow-left\", \"back\"], [\"Forward\", \"Forward to next view\", \"fa fa-arrow-right icon-arrow-right\", \"forward\"], [\"\", \"\", \"\", \"\"], [\"Pan\", \"Pan axes with left mouse, zoom with right\", \"fa fa-arrows icon-move\", \"pan\"], [\"Zoom\", \"Zoom to rectangle\", \"fa fa-square-o icon-check-empty\", \"zoom\"], [\"\", \"\", \"\", \"\"], [\"Download\", \"Download plot\", \"fa fa-floppy-o icon-save\", \"download\"]];\n",
       "\n",
       "mpl.extensions = [\"eps\", \"jpeg\", \"pdf\", \"png\", \"ps\", \"raw\", \"svg\", \"tif\"];\n",
       "\n",
       "mpl.default_extension = \"png\";var comm_websocket_adapter = function(comm) {\n",
       "    // Create a \"websocket\"-like object which calls the given IPython comm\n",
       "    // object with the appropriate methods. Currently this is a non binary\n",
       "    // socket, so there is still some room for performance tuning.\n",
       "    var ws = {};\n",
       "\n",
       "    ws.close = function() {\n",
       "        comm.close()\n",
       "    };\n",
       "    ws.send = function(m) {\n",
       "        //console.log('sending', m);\n",
       "        comm.send(m);\n",
       "    };\n",
       "    // Register the callback with on_msg.\n",
       "    comm.on_msg(function(msg) {\n",
       "        //console.log('receiving', msg['content']['data'], msg);\n",
       "        // Pass the mpl event to the overriden (by mpl) onmessage function.\n",
       "        ws.onmessage(msg['content']['data'])\n",
       "    });\n",
       "    return ws;\n",
       "}\n",
       "\n",
       "mpl.mpl_figure_comm = function(comm, msg) {\n",
       "    // This is the function which gets called when the mpl process\n",
       "    // starts-up an IPython Comm through the \"matplotlib\" channel.\n",
       "\n",
       "    var id = msg.content.data.id;\n",
       "    // Get hold of the div created by the display call when the Comm\n",
       "    // socket was opened in Python.\n",
       "    var element = $(\"#\" + id);\n",
       "    var ws_proxy = comm_websocket_adapter(comm)\n",
       "\n",
       "    function ondownload(figure, format) {\n",
       "        window.open(figure.imageObj.src);\n",
       "    }\n",
       "\n",
       "    var fig = new mpl.figure(id, ws_proxy,\n",
       "                           ondownload,\n",
       "                           element.get(0));\n",
       "\n",
       "    // Call onopen now - mpl needs it, as it is assuming we've passed it a real\n",
       "    // web socket which is closed, not our websocket->open comm proxy.\n",
       "    ws_proxy.onopen();\n",
       "\n",
       "    fig.parent_element = element.get(0);\n",
       "    fig.cell_info = mpl.find_output_cell(\"<div id='\" + id + \"'></div>\");\n",
       "    if (!fig.cell_info) {\n",
       "        console.error(\"Failed to find cell for figure\", id, fig);\n",
       "        return;\n",
       "    }\n",
       "\n",
       "    var output_index = fig.cell_info[2]\n",
       "    var cell = fig.cell_info[0];\n",
       "\n",
       "};\n",
       "\n",
       "mpl.figure.prototype.handle_close = function(fig, msg) {\n",
       "    var width = fig.canvas.width/mpl.ratio\n",
       "    fig.root.unbind('remove')\n",
       "\n",
       "    // Update the output cell to use the data from the current canvas.\n",
       "    fig.push_to_output();\n",
       "    var dataURL = fig.canvas.toDataURL();\n",
       "    // Re-enable the keyboard manager in IPython - without this line, in FF,\n",
       "    // the notebook keyboard shortcuts fail.\n",
       "    IPython.keyboard_manager.enable()\n",
       "    $(fig.parent_element).html('<img src=\"' + dataURL + '\" width=\"' + width + '\">');\n",
       "    fig.close_ws(fig, msg);\n",
       "}\n",
       "\n",
       "mpl.figure.prototype.close_ws = function(fig, msg){\n",
       "    fig.send_message('closing', msg);\n",
       "    // fig.ws.close()\n",
       "}\n",
       "\n",
       "mpl.figure.prototype.push_to_output = function(remove_interactive) {\n",
       "    // Turn the data on the canvas into data in the output cell.\n",
       "    var width = this.canvas.width/mpl.ratio\n",
       "    var dataURL = this.canvas.toDataURL();\n",
       "    this.cell_info[1]['text/html'] = '<img src=\"' + dataURL + '\" width=\"' + width + '\">';\n",
       "}\n",
       "\n",
       "mpl.figure.prototype.updated_canvas_event = function() {\n",
       "    // Tell IPython that the notebook contents must change.\n",
       "    IPython.notebook.set_dirty(true);\n",
       "    this.send_message(\"ack\", {});\n",
       "    var fig = this;\n",
       "    // Wait a second, then push the new image to the DOM so\n",
       "    // that it is saved nicely (might be nice to debounce this).\n",
       "    setTimeout(function () { fig.push_to_output() }, 1000);\n",
       "}\n",
       "\n",
       "mpl.figure.prototype._init_toolbar = function() {\n",
       "    var fig = this;\n",
       "\n",
       "    var nav_element = $('<div/>')\n",
       "    nav_element.attr('style', 'width: 100%');\n",
       "    this.root.append(nav_element);\n",
       "\n",
       "    // Define a callback function for later on.\n",
       "    function toolbar_event(event) {\n",
       "        return fig.toolbar_button_onclick(event['data']);\n",
       "    }\n",
       "    function toolbar_mouse_event(event) {\n",
       "        return fig.toolbar_button_onmouseover(event['data']);\n",
       "    }\n",
       "\n",
       "    for(var toolbar_ind in mpl.toolbar_items){\n",
       "        var name = mpl.toolbar_items[toolbar_ind][0];\n",
       "        var tooltip = mpl.toolbar_items[toolbar_ind][1];\n",
       "        var image = mpl.toolbar_items[toolbar_ind][2];\n",
       "        var method_name = mpl.toolbar_items[toolbar_ind][3];\n",
       "\n",
       "        if (!name) { continue; };\n",
       "\n",
       "        var button = $('<button class=\"btn btn-default\" href=\"#\" title=\"' + name + '\"><i class=\"fa ' + image + ' fa-lg\"></i></button>');\n",
       "        button.click(method_name, toolbar_event);\n",
       "        button.mouseover(tooltip, toolbar_mouse_event);\n",
       "        nav_element.append(button);\n",
       "    }\n",
       "\n",
       "    // Add the status bar.\n",
       "    var status_bar = $('<span class=\"mpl-message\" style=\"text-align:right; float: right;\"/>');\n",
       "    nav_element.append(status_bar);\n",
       "    this.message = status_bar[0];\n",
       "\n",
       "    // Add the close button to the window.\n",
       "    var buttongrp = $('<div class=\"btn-group inline pull-right\"></div>');\n",
       "    var button = $('<button class=\"btn btn-mini btn-primary\" href=\"#\" title=\"Stop Interaction\"><i class=\"fa fa-power-off icon-remove icon-large\"></i></button>');\n",
       "    button.click(function (evt) { fig.handle_close(fig, {}); } );\n",
       "    button.mouseover('Stop Interaction', toolbar_mouse_event);\n",
       "    buttongrp.append(button);\n",
       "    var titlebar = this.root.find($('.ui-dialog-titlebar'));\n",
       "    titlebar.prepend(buttongrp);\n",
       "}\n",
       "\n",
       "mpl.figure.prototype._root_extra_style = function(el){\n",
       "    var fig = this\n",
       "    el.on(\"remove\", function(){\n",
       "\tfig.close_ws(fig, {});\n",
       "    });\n",
       "}\n",
       "\n",
       "mpl.figure.prototype._canvas_extra_style = function(el){\n",
       "    // this is important to make the div 'focusable\n",
       "    el.attr('tabindex', 0)\n",
       "    // reach out to IPython and tell the keyboard manager to turn it's self\n",
       "    // off when our div gets focus\n",
       "\n",
       "    // location in version 3\n",
       "    if (IPython.notebook.keyboard_manager) {\n",
       "        IPython.notebook.keyboard_manager.register_events(el);\n",
       "    }\n",
       "    else {\n",
       "        // location in version 2\n",
       "        IPython.keyboard_manager.register_events(el);\n",
       "    }\n",
       "\n",
       "}\n",
       "\n",
       "mpl.figure.prototype._key_event_extra = function(event, name) {\n",
       "    var manager = IPython.notebook.keyboard_manager;\n",
       "    if (!manager)\n",
       "        manager = IPython.keyboard_manager;\n",
       "\n",
       "    // Check for shift+enter\n",
       "    if (event.shiftKey && event.which == 13) {\n",
       "        this.canvas_div.blur();\n",
       "        event.shiftKey = false;\n",
       "        // Send a \"J\" for go to next cell\n",
       "        event.which = 74;\n",
       "        event.keyCode = 74;\n",
       "        manager.command_mode();\n",
       "        manager.handle_keydown(event);\n",
       "    }\n",
       "}\n",
       "\n",
       "mpl.figure.prototype.handle_save = function(fig, msg) {\n",
       "    fig.ondownload(fig, null);\n",
       "}\n",
       "\n",
       "\n",
       "mpl.find_output_cell = function(html_output) {\n",
       "    // Return the cell and output element which can be found *uniquely* in the notebook.\n",
       "    // Note - this is a bit hacky, but it is done because the \"notebook_saving.Notebook\"\n",
       "    // IPython event is triggered only after the cells have been serialised, which for\n",
       "    // our purposes (turning an active figure into a static one), is too late.\n",
       "    var cells = IPython.notebook.get_cells();\n",
       "    var ncells = cells.length;\n",
       "    for (var i=0; i<ncells; i++) {\n",
       "        var cell = cells[i];\n",
       "        if (cell.cell_type === 'code'){\n",
       "            for (var j=0; j<cell.output_area.outputs.length; j++) {\n",
       "                var data = cell.output_area.outputs[j];\n",
       "                if (data.data) {\n",
       "                    // IPython >= 3 moved mimebundle to data attribute of output\n",
       "                    data = data.data;\n",
       "                }\n",
       "                if (data['text/html'] == html_output) {\n",
       "                    return [cell, data, j];\n",
       "                }\n",
       "            }\n",
       "        }\n",
       "    }\n",
       "}\n",
       "\n",
       "// Register the function which deals with the matplotlib target/channel.\n",
       "// The kernel may be null if the page has been refreshed.\n",
       "if (IPython.notebook.kernel != null) {\n",
       "    IPython.notebook.kernel.comm_manager.register_target('matplotlib', mpl.mpl_figure_comm);\n",
       "}\n"
      ],
      "text/plain": [
       "<IPython.core.display.Javascript object>"
      ]
     },
     "metadata": {},
     "output_type": "display_data"
    },
    {
     "data": {
      "text/html": [
       "<img src=\"data:image/png;base64,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\" width=\"800\">"
      ],
      "text/plain": [
       "<IPython.core.display.HTML object>"
      ]
     },
     "metadata": {},
     "output_type": "display_data"
    },
    {
     "data": {
      "application/vnd.jupyter.widget-view+json": {
       "model_id": "695a14276f8147ad905785184765f7e2",
       "version_major": 2,
       "version_minor": 0
      },
      "text/plain": [
       "A Jupyter Widget"
      ]
     },
     "metadata": {},
     "output_type": "display_data"
    }
   ],
   "source": [
    "# Run this to see widget, it isn't important to understand the code\n",
    "%matplotlib notebook\n",
    "from ipywidgets import *\n",
    "from matplotlib import pyplot as plt\n",
    "from matplotlib.path import Path\n",
    "from matplotlib.patches import PathPatch\n",
    "import numpy as np\n",
    "def MaxMinInteractiveGraph( coefSlider = True, coefx = 2, coefy = 3 ):\n",
    "\n",
    "    # use -3 <= coefx <= 3, -3 <= coefy <= 3, there is no error catching\n",
    "    \n",
    "    import seaborn as sns\n",
    "    sns.set_palette('Set1')\n",
    "\n",
    "    # create the plot object\n",
    "    fig, ax = plt.subplots(figsize=(8,4))\n",
    "    x = np.linspace(-3, 24)\n",
    "\n",
    "    # constraint 1\n",
    "    ct1_line, = plt.plot(x, 0*x + 5, lw=3, label='y <= 5',color='b')\n",
    "    ct1_fill = plt.fill_between(x, 0, 5, alpha=0.1,color='b')\n",
    "\n",
    "    # constraint 2\n",
    "    ct2_line, = plt.plot(x, 2-x, lw=3, label='x + y >= 2',color='r')\n",
    "    ct2_fill = plt.fill_between(x, 2-x, 12, alpha=0.1,color='r')\n",
    "\n",
    "    # add non-negativity constraints\n",
    "    plt.plot(np.zeros_like(x), x, lw=3, label='x >= 0',color='c')\n",
    "    plt.fill_betweenx(x,0,24,alpha=0.1,color='c')\n",
    "    plt.plot(x, np.zeros_like(x), lw=3, label='y >= 0',color='m')\n",
    "    plt.fill_between(x,0,12,alpha=0.1,color='m')\n",
    "\n",
    "    # highlight the feasible region\n",
    "    path = Path([(2,0),(24,0),(24,5),(0,5),(0,2),(2,0)])\n",
    "    patch = PathPatch(path, label='feasible region', alpha=0.5)\n",
    "    ax.add_patch(patch)\n",
    "\n",
    "    # level curve for profit P\n",
    "    obj_line, = plt.plot(x, (20-coefx*x)/coefy, 'k--', lw = 3, label = 'Z')\n",
    "\n",
    "    # labels and stuff\n",
    "    plt.xlabel('x', fontsize=16)\n",
    "    plt.ylabel('y', fontsize=16)\n",
    "    plt.xlim(-3, 24)\n",
    "    plt.ylim(-3, 12)\n",
    "    plt.legend(loc = 'upper right',fontsize=12)\n",
    "\n",
    "    # additional elements\n",
    "    txt = plt.text( 6, 11, 'Z = 20', fontsize = 12)\n",
    "\n",
    "    plt.show()\n",
    "    \n",
    "    zlim = (-.4,1.5,.05)\n",
    "    c1lim = (-3,3,.5)\n",
    "    c1fix = fixed(coefx)\n",
    "    c2lim = (-3,3,.5)\n",
    "    c2fix = fixed(coefy)\n",
    "\n",
    "    def update( zMult = .5, c1 = coefx, c2 = coefy  ):\n",
    "        \n",
    "        xcps = np.array([2,24,24,0,0])\n",
    "        ycps = np.array([0, 0, 5,5,2])\n",
    "        zcps = c1*xcps + c2*ycps\n",
    "        zmin = np.min(zcps)\n",
    "        zmax = np.max(zcps)\n",
    "        z = ((1-zMult)*zmin + zMult*zmax)\n",
    " \n",
    "        if (c1 == 0 and c2 == 0):\n",
    "            obj_line.set_ydata(0*x -4)\n",
    "        else:\n",
    "            obj_line.set_ydata((z-c1*x)/(c2+.0001)) # hack to avoid div by 0\n",
    "            \n",
    "\n",
    "        #txt.set_text('Z = {:3.2f}'.format(z) )\n",
    "        if (c2 >= 0):\n",
    "            txt.set_text('Z = {:2.1f} x + '.format(c1) + '{:2.1f} y '.format(c2) + '= {:3.1f}'.format(z) )\n",
    "        else:\n",
    "            txt.set_text('Z = {:2.1f} x - '.format(c1) + '{:2.1f} y '.format(-c2) + '= {:3.1f}'.format(z) )\n",
    "        fig.canvas.draw()\n",
    "    \n",
    "    if (coefSlider):\n",
    "        interact(update,zMult=zlim,c1=c1lim,c2=c2lim);\n",
    "    else: \n",
    "        interact(update,zMult=zlim,c1=c1fix,c2=c2fix);\n",
    "                 \n",
    "MaxMinInteractiveGraph(True)"
   ]
  },
  {
   "cell_type": "markdown",
   "metadata": {
    "hidden": true
   },
   "source": [
    "### Video"
   ]
  },
  {
   "cell_type": "code",
   "execution_count": 4,
   "metadata": {
    "hidden": true
   },
   "outputs": [
    {
     "data": {
      "text/html": [
       "\n",
       "        <iframe\n",
       "            width=\"640\"\n",
       "            height=\"360\"\n",
       "            src=\"https://media.uwex.edu/content/ds/ds775_r19/ds775_lesson1-unbounded-feasible-region/index.html\"\n",
       "            frameborder=\"0\"\n",
       "            allowfullscreen\n",
       "        ></iframe>\n",
       "        "
      ],
      "text/plain": [
       "<IPython.lib.display.IFrame at 0x10a6a30f0>"
      ]
     },
     "execution_count": 4,
     "metadata": {},
     "output_type": "execute_result"
    }
   ],
   "source": [
    "# execute this cell for video\n",
    "from IPython.display import IFrame\n",
    "IFrame(\n",
    "    \"https://media.uwex.edu/content/ds/ds775_r19/ds775_lesson1-unbounded-feasible-region/index.html\",\n",
    "    width=640,\n",
    "    height=360)"
   ]
  },
  {
   "cell_type": "code",
   "execution_count": 5,
   "metadata": {
    "code_folding": [
     0
    ],
    "hidden": true
   },
   "outputs": [
    {
     "data": {
      "image/jpeg": "[encoded data removed]",
      "text/html": [
       "\n",
       "        <iframe\n",
       "            width=\"640\"\n",
       "            height=\"480\"\n",
       "            src=\"https://www.youtube.com/embed/gWcy2fYwtfo\"\n",
       "            frameborder=\"0\"\n",
       "            allowfullscreen\n",
       "        ></iframe>\n",
       "        "
      ],
      "text/plain": [
       "<IPython.lib.display.YouTubeVideo at 0x1074c6a58>"
      ]
     },
     "execution_count": 5,
     "metadata": {},
     "output_type": "execute_result"
    }
   ],
   "source": [
    "# Hidden code to display YouTube video\n",
    "from IPython.display import YouTubeVideo\n",
    "YouTubeVideo('gWcy2fYwtfo', width=640, height=480)"
   ]
  },
  {
   "cell_type": "markdown",
   "metadata": {
    "heading_collapsed": true
   },
   "source": [
    "# Solving Linear Programs with Pyomo"
   ]
  },
  {
   "cell_type": "markdown",
   "metadata": {
    "hidden": true
   },
   "source": [
    "## What is Pyomo?"
   ]
  },
  {
   "cell_type": "markdown",
   "metadata": {
    "hidden": true
   },
   "source": [
    "* A Python framework for formulating optimization models\n",
    "* Similar to other mathematical programming languages such as AMPL and LINDO\n",
    "* Uses natural math syntax for models (we'll get into examples below)\n",
    "* Allows separation of the model from the data to formulate large models concisely\n",
    "* Works with many solvers including GLPK, CPLEX, Gurobi, etc.\n",
    "\n",
    "Pyomo is an example of a declarative programming language.  Instead of specifying exactly how to get the solution (imperative programming) we *declare* the problem mathematically.  Pyomo then translates the mathematical problem into a computer problem that can be solved by one of many avaialable solvers."
   ]
  },
  {
   "cell_type": "markdown",
   "metadata": {
    "hidden": true
   },
   "source": [
    "## Pyomo Resources"
   ]
  },
  {
   "cell_type": "markdown",
   "metadata": {
    "hidden": true
   },
   "source": [
    "Some resources to help you learn more about Pyomo:\n",
    "    \n",
    "* <a href=\"https://pyomo.readthedocs.io/en/stable/\"> The Official Pyomo Documentation. </a> \n",
    "* The <a href=\"https://www.osti.gov/servlets/purl/1376827\"> Pyomo Tutorial </a> is a large set of slides from the Pyomo developers at Sandia National Labs\n",
    "* Professor Jeffrey Cantor's <a href=\"https://jckantor.github.io/ND-Pyomo-Cookbook/\"> ND Pyomo Cookbook </a> gives many examples\n",
    "* <a href = \"https://github.com/Pyomo/PyomoGallery\"> The Pyomo Gallery </a> also has several examples."
   ]
  },
  {
   "cell_type": "markdown",
   "metadata": {
    "hidden": true
   },
   "source": [
    "## Installing Pyomo and GLPK"
   ]
  },
  {
   "cell_type": "markdown",
   "metadata": {
    "hidden": true
   },
   "source": [
    "If you're working in CoCalc these are already installed.  If you want to install them at home we suggest using the Anocanda distribution, then in a terminal window:\n",
    "\n",
    "install Pyomo with:\n",
    "```conda install -c conda-forge pyomo```\n",
    "\n",
    "install GLPK with:\n",
    "```conda install -c conda-forge glpk```"
   ]
  },
  {
   "cell_type": "markdown",
   "metadata": {
    "hidden": true
   },
   "source": [
    "## Two kinds of Pyomo models"
   ]
  },
  {
   "cell_type": "markdown",
   "metadata": {
    "hidden": true
   },
   "source": [
    "**Concrete Models:** data first, then model\n",
    "<img src=\"images/concrete_model.png\" width=\"220\">\n",
    "* 1-pass construction: numerical constants supplied as model is built\n",
    "* easier to script\n",
    "* harder to reuse model\n",
    "\n",
    "**Abstract Models:** model first, then data\n",
    "<img src=\"images/abstract_model.png\" width=\"320\">\n",
    "* 2-pass construction\n",
    "* Pass 1: Model is constructed with unknown numerical constants\n",
    "* Pass 2: Numerical constants added from separate file at runtime\n",
    "* harder to script\n",
    "* easier for large problems and model reuse\n",
    "\n",
    "We'll stick to concrete models in this course, but we'll take steps toward making them abstract by separating the data and the model "
   ]
  },
  {
   "cell_type": "markdown",
   "metadata": {
    "heading_collapsed": true,
    "hidden": true
   },
   "source": [
    "## Pyomo Example"
   ]
  },
  {
   "cell_type": "markdown",
   "metadata": {
    "hidden": true
   },
   "source": [
    "### Wyndor Glass Company"
   ]
  },
  {
   "cell_type": "markdown",
   "metadata": {
    "hidden": true
   },
   "source": [
    "Here is the Wyndor model as described in the textbook.  $Z$ is the profit in thousands of dollars.  $d$ and $w$ are the batches of doors and windows, respectively.  The constraints, in order, represent the production capacities of Plants 1, 2, and 3.\n",
    "\n",
    "Maximize $Z = 3 d + 5 w$\n",
    "\n",
    "Subject to:\n",
    "\n",
    "$\n",
    "\\begin{array}{ccccc}\n",
    " d &   &    & \\leq & 4 \\\\\n",
    "   &   & 2w & \\leq & 12 \\\\\n",
    "3d & + & 2w & \\leq & 18\n",
    "\\end{array}\n",
    "$\n",
    "\n",
    "$d \\geq 0$, $w \\geq 0$"
   ]
  },
  {
   "cell_type": "markdown",
   "metadata": {
    "hidden": true
   },
   "source": [
    "### First Pyomo Solution"
   ]
  },
  {
   "cell_type": "markdown",
   "metadata": {
    "heading_collapsed": true,
    "hidden": true
   },
   "source": [
    "#### Video: Code Walkthrough"
   ]
  },
  {
   "cell_type": "code",
   "execution_count": 5,
   "metadata": {
    "hidden": true
   },
   "outputs": [
    {
     "data": {
      "text/html": [
       "\n",
       "        <iframe\n",
       "            width=\"640\"\n",
       "            height=\"360\"\n",
       "            src=\"https://media.uwex.edu/content/ds/ds775_r19/ds775_lesson1-wyndor1/index.html\"\n",
       "            frameborder=\"0\"\n",
       "            allowfullscreen\n",
       "        ></iframe>\n",
       "        "
      ],
      "text/plain": [
       "<IPython.lib.display.IFrame at 0x10a6d09e8>"
      ]
     },
     "execution_count": 5,
     "metadata": {},
     "output_type": "execute_result"
    }
   ],
   "source": [
    "# execute this cell for video\n",
    "from IPython.display import IFrame\n",
    "IFrame(\n",
    "    \"https://media.uwex.edu/content/ds/ds775_r19/ds775_lesson1-wyndor1/index.html\",\n",
    "    width=640,\n",
    "    height=360)"
   ]
  },
  {
   "cell_type": "markdown",
   "metadata": {
    "hidden": true
   },
   "source": [
    "#### Pyomo Solution"
   ]
  },
  {
   "cell_type": "code",
   "execution_count": 1,
   "metadata": {
    "code_folding": [
     0
    ],
    "hidden": true
   },
   "outputs": [
    {
     "name": "stdout",
     "output_type": "stream",
     "text": [
      "Maximum Profit =  $36,000.00\n",
      "Batches of Doors = 2.0\n",
      "Batches of Windows = 6.0\n"
     ]
    }
   ],
   "source": [
    "# Unfold to see the Pyomo solution with individual decision variables\n",
    "from pyomo.environ import *\n",
    "\n",
    "# Concrete Model\n",
    "model = ConcreteModel(name=\"Wyndor\")\n",
    "\n",
    "# Decision Variables\n",
    "model.doors = Var(domain=Reals)\n",
    "model.windows = Var(domain=Reals)\n",
    "\n",
    "# Objective\n",
    "model.profit = Objective(expr=3.0 * model.doors + 5.0 * model.windows,\n",
    "                         sense=maximize)\n",
    "\n",
    "# Constraints\n",
    "model.Plant1 = Constraint(expr=model.doors <= 4)\n",
    "model.Plant2 = Constraint(expr=2.0 * model.windows <= 12)\n",
    "model.Plant3 = Constraint(expr=3.0 * model.doors + 2.0 * model.windows <= 18)\n",
    "model.dgeq0 = Constraint(expr=model.doors >= 0)\n",
    "model.wgeq0 = Constraint(expr=model.windows >= 0)\n",
    "\n",
    "# Solve\n",
    "solver = SolverFactory('glpk')\n",
    "solver.solve(model)\n",
    "\n",
    "#display(model)\n",
    "\n",
    "# display solution\n",
    "import babel.numbers as numbers  # needed to display as currency\n",
    "print(\"Maximum Profit = \",\n",
    "      numbers.format_currency(1000 * model.profit(), 'USD', locale='en_US'))\n",
    "print(\"Batches of Doors = {}\".format(model.doors()))\n",
    "print(\"Batches of Windows = {}\".format(model.windows()))"
   ]
  },
  {
   "cell_type": "markdown",
   "metadata": {
    "hidden": true
   },
   "source": [
    "#### <font color=\"blue\"> Self-Assessment: Specifying Bounds </font>"
   ]
  },
  {
   "cell_type": "markdown",
   "metadata": {
    "hidden": true
   },
   "source": [
    "Non-negativity constraints like $d\\geq0$ can be included in the variable declarations by changing ```domain=Reals``` to ```domain=NonNegativeReals```.  \n",
    "\n",
    "We can also include lower and upper bounds in the variable declarations like this: ```model.doors = Var(domain=Reals, bounds = (0,4) )```.  \n",
    "\n",
    "*Try this:*  Copy the Pyomo Wyndor solution into a new code block, add appropriate bounds to the doors and windows variables and delete all constraints except the constraint for Plant 3.  Run the code.  Do you get the same answer?"
   ]
  },
  {
   "cell_type": "code",
   "execution_count": null,
   "metadata": {
    "hidden": true
   },
   "outputs": [],
   "source": []
  },
  {
   "cell_type": "markdown",
   "metadata": {
    "hidden": true
   },
   "source": [
    "### Pyomo solution using a vector of decision variables"
   ]
  },
  {
   "cell_type": "markdown",
   "metadata": {
    "hidden": true
   },
   "source": [
    "#### Video: Code Walkthrough"
   ]
  },
  {
   "cell_type": "code",
   "execution_count": 1,
   "metadata": {
    "code_folding": [
     0
    ],
    "hidden": true
   },
   "outputs": [
    {
     "data": {
      "text/html": [
       "\n",
       "        <iframe\n",
       "            width=\"640\"\n",
       "            height=\"360\"\n",
       "            src=\"https://media.uwex.edu/content/ds/ds775_r19/ds775_lesson1-wyndor2/index.html\"\n",
       "            frameborder=\"0\"\n",
       "            allowfullscreen\n",
       "        ></iframe>\n",
       "        "
      ],
      "text/plain": [
       "<IPython.lib.display.IFrame at 0x103768fd0>"
      ]
     },
     "execution_count": 1,
     "metadata": {},
     "output_type": "execute_result"
    }
   ],
   "source": [
    "# execute this cell for video\n",
    "from IPython.display import IFrame\n",
    "IFrame(\n",
    "    \"https://media.uwex.edu/content/ds/ds775_r19/ds775_lesson1-wyndor2/index.html\",\n",
    "    width=640,\n",
    "    height=360)"
   ]
  },
  {
   "cell_type": "markdown",
   "metadata": {
    "hidden": true
   },
   "source": [
    "#### Pyomo Solutions"
   ]
  },
  {
   "cell_type": "code",
   "execution_count": 10,
   "metadata": {
    "code_folding": [],
    "hidden": true
   },
   "outputs": [
    {
     "name": "stdout",
     "output_type": "stream",
     "text": [
      "Profit =  $36,000.00\n",
      "Batches of Doors =  2.0\n",
      "Batches of Windows =  6.0\n"
     ]
    }
   ],
   "source": [
    "# unfold to see Pyomo solution with a vector of decision variables\n",
    "from pyomo.environ import *\n",
    "\n",
    "# Concrete Model\n",
    "model = ConcreteModel(name=\"Wyndor\")\n",
    "\n",
    "products = ['drs', 'wdw']\n",
    "\n",
    "bounds_dict = {'drs': (0, 4), 'wdw': (0, 6)}\n",
    "def bounds_rule(model, product):\n",
    "    return (bounds_dict[product])\n",
    "model.x = Var(products, domain=Reals, bounds=bounds_rule)\n",
    "\n",
    "# Objective\n",
    "model.profit = Objective(expr=3.0 * model.x['drs'] + 5.0 * model.x['wdw'],\n",
    "                         sense=maximize)\n",
    "\n",
    "# Constraints\n",
    "model.Constraint3 = Constraint(\n",
    "    expr=3.0 * model.x['drs'] + 2.0 * model.x['wdw'] <= 18)\n",
    "\n",
    "# Solve\n",
    "solver = SolverFactory('glpk')\n",
    "solver.solve(model)\n",
    "\n",
    "# display(model)\n",
    "\n",
    "# display solution\n",
    "import babel.numbers as numbers  # needed to display as currency\n",
    "print(\"Profit = \",\n",
    "      numbers.format_currency(1000 * model.profit(), 'USD', locale='en_US'))\n",
    "print(\"Batches of Doors = \", model.x['drs']())\n",
    "print(\"Batches of Windows = \", model.x['wdw']())"
   ]
  },
  {
   "cell_type": "markdown",
   "metadata": {
    "hidden": true
   },
   "source": [
    "### <font color=\"blue\"> Self-Assessment: Formulate and Solve #1 </font>"
   ]
  },
  {
   "cell_type": "markdown",
   "metadata": {
    "hidden": true
   },
   "source": [
    "**Textbook Problem 3.4-8 (a,c)** Ralph Edmund loves steaks and potatoes. Therefore, he has\n",
    "  decided to go on a steady diet of only these two foods (plus some\n",
    "  liquids and vitamin supplements) for all his meals. Ralph realizes\n",
    "  that this isn’t the healthiest diet, so he wants to make sure that\n",
    "  he eats the right quantities of the two foods to satisfy some key\n",
    "  nutritional requirements. He has obtained the nutritional and cost\n",
    "  information shown below.  Ralph wishes to\n",
    "  determine the number of daily servings (may be fractional) of steak\n",
    "  and potatoes that will meet these requirements at a minimum cost.\n",
    "  \n",
    "<img src=\"images/screen-problem3.png\" alt=\"Solution\" width=\"440\" height=\"250\">\n",
    "\n",
    "(a) Formulate a mathematical model (the linear program) for this problem.\n",
    "\n",
    "(c) Use Pyomo to solve the model.  Report the minimum cost as well as the number of servings each of steak and potatoes at the minimum."
   ]
  },
  {
   "cell_type": "markdown",
   "metadata": {
    "heading_collapsed": true
   },
   "source": [
    "# Start to Finish: Formulate a Model and Code it in Pyomo "
   ]
  },
  {
   "cell_type": "markdown",
   "metadata": {
    "hidden": true
   },
   "source": [
    "## Problem Description (video)"
   ]
  },
  {
   "cell_type": "markdown",
   "metadata": {
    "hidden": true
   },
   "source": [
    "This is problem 3.4-9, page 85, from the textbook.\n",
    "\n",
    "Web Mercantile sells many household products through an online catalog. The company needs substantial warehouse space for storing its goods. Plans now are being made for leasing warehouse storage space over the next 5 months. Just how much space will be required in each of these months is known. However, since these space requirements are quite different, it may be most economical to lease only the amount needed each month on a month-by-month basis. On the other hand, the additional cost for leasing space for additional months is much less than for the first month, so it may be less expensive to lease the maximum amount needed for the entire 5 months. Another option is the intermediate approach of changing the total amount of space leased (by adding a new lease and/or having an old lease expire) at least once but not every month.\n",
    "\n",
    "The space requirement and the leasing costs for the various leasing periods are as follows:"
   ]
  },
  {
   "cell_type": "code",
   "execution_count": 7,
   "metadata": {
    "code_folding": [
     0
    ],
    "hidden": true
   },
   "outputs": [
    {
     "data": {
      "text/html": [
       "\n",
       "        <iframe\n",
       "            width=\"640\"\n",
       "            height=\"360\"\n",
       "            src=\"https://media.uwex.edu/content/ds/ds775_r19/ds775_lesson1-ex-3-4-9-model-requirements/index.html\"\n",
       "            frameborder=\"0\"\n",
       "            allowfullscreen\n",
       "        ></iframe>\n",
       "        "
      ],
      "text/plain": [
       "<IPython.lib.display.IFrame at 0x10a6d0390>"
      ]
     },
     "execution_count": 7,
     "metadata": {},
     "output_type": "execute_result"
    }
   ],
   "source": [
    "# execute this cell for video\n",
    "from IPython.display import IFrame\n",
    "IFrame(\n",
    "    \"https://media.uwex.edu/content/ds/ds775_r19/ds775_lesson1-ex-3-4-9-model-requirements/index.html\",\n",
    "    width=640,\n",
    "    height=360)"
   ]
  },
  {
   "cell_type": "markdown",
   "metadata": {
    "hidden": true
   },
   "source": [
    "## Mathematical Formulation (video)"
   ]
  },
  {
   "cell_type": "code",
   "execution_count": 8,
   "metadata": {
    "code_folding": [],
    "hidden": true
   },
   "outputs": [
    {
     "data": {
      "text/html": [
       "\n",
       "        <iframe\n",
       "            width=\"640\"\n",
       "            height=\"360\"\n",
       "            src=\"https://media.uwex.edu/content/ds/ds775_r19/ds775_lesson1-ex-3-4-9-model-formulation/index.html\"\n",
       "            frameborder=\"0\"\n",
       "            allowfullscreen\n",
       "        ></iframe>\n",
       "        "
      ],
      "text/plain": [
       "<IPython.lib.display.IFrame at 0x10a6d0198>"
      ]
     },
     "execution_count": 8,
     "metadata": {},
     "output_type": "execute_result"
    }
   ],
   "source": [
    "# execute this cell for video\n",
    "from IPython.display import IFrame\n",
    "IFrame(\n",
    "    \"https://media.uwex.edu/content/ds/ds775_r19/ds775_lesson1-ex-3-4-9-model-formulation/index.html\",\n",
    "    width=640,\n",
    "    height=360)"
   ]
  },
  {
   "cell_type": "markdown",
   "metadata": {
    "hidden": true
   },
   "source": [
    "Using design variables $x_{ij}$ that represent the square feet leased for $j$ months beginning in the $i^{th}$ month, the model is\n",
    "\n",
    "Minimize $Z =65(x_{11} +x_{21} +x_{31} +x_{41} +x_{51})+100(x_{12} +x_{22} +x_{32} +x_{42}) +135(x_{13} + x_{23} + x_{33}) + 160(x_{14} + x_{24}) + 190x_{15}$\n",
    "\n",
    "Subject to:\n",
    "\n",
    "$\n",
    "\\begin{array}{lcl}\n",
    " x_{11} + x_{12} + x_{13} + x_{14} + x_{15} & \\geq & 30,000 \\\\\n",
    " x_{12} + x_{13} + x_{14} + x_{15} + x_{21} + x_{22} + x_{23} + x_{24} & \\geq & 20,000 \\\\\n",
    "x_{13} + x_{14} + x_{15} + x_{22} + x_{23} + x_{24} + x_{31} + x_{32} + x_{33} & \\geq & 40,000 \\\\\n",
    "x_{14} + x_{15} + x_{23} + x_{24} + x_{32} + x_{33} + x_{41} + x_{42} & \\geq & 10,000  \\\\\n",
    "x_{15} + x_{24} + x_{33} + x_{42} + x_{51} & \\geq & 50,000 \\\\\n",
    "\\end{array}\n",
    "$\n",
    "\n",
    "and all $x_{ij} \\geq 0$.\n",
    "\n",
    "To learn about typesetting mathematics like this go to the section below labeled \"Typesetting mathematical notation with LaTeX code.\""
   ]
  },
  {
   "cell_type": "markdown",
   "metadata": {
    "hidden": true
   },
   "source": [
    "## Solving the model in Pyomo"
   ]
  },
  {
   "cell_type": "code",
   "execution_count": 7,
   "metadata": {
    "code_folding": [
     0
    ],
    "hidden": true,
    "scrolled": true
   },
   "outputs": [
    {
     "name": "stdout",
     "output_type": "stream",
     "text": [
      "Total Cost =  $7,650,000.00\n",
      "Lease  30000 sq. ft. in month 1 for 5 months\n",
      "Lease 10000 sq. tf. in month 3 for 1 month\n",
      "Lease 20000 sq. ft. in month 5 for 1 month\n"
     ]
    }
   ],
   "source": [
    "# unfold to see Pyomo solution with a vector of decision variables\n",
    "\n",
    "from pyomo.environ import *\n",
    "\n",
    "# Concret Model\n",
    "model = ConcreteModel(name = \"WebMerc\")\n",
    "\n",
    "# Decision Variables\n",
    "model.x = Var( ['x11','x12','x13','x14','x15','x21','x22','x23','x24',\n",
    "                'x31','x32','x33','x41','x42','x51'], \n",
    "              domain = NonNegativeReals )\n",
    "\n",
    "# Objective \n",
    "model.obj = Objective( expr = 65 * (model.x['x11'] + model.x['x21'] + model.x['x31'] + \n",
    "                                   model.x['x41'] + model.x['x51']) + \n",
    "                      100 * (model.x['x12'] + model.x['x22'] + model.x['x32'] + \n",
    "                            model.x['x42']) + \n",
    "                      135 * (model.x['x13'] + model.x['x23'] + model.x['x33']) + \n",
    "                      160 * (model.x['x14'] + model.x['x24']) + \n",
    "                      190 * model.x['x15'], sense = minimize)\n",
    "\n",
    "# Constraints\n",
    "model.Constraint1 = Constraint( expr = model.x['x11'] + model.x['x12'] + model.x['x13'] +\n",
    "                               model.x['x14'] + model.x['x15'] >= 30000 )\n",
    "model.Constraint2 = Constraint( expr = model.x['x12'] + model.x['x13'] + model.x['x14'] +\n",
    "                               model.x['x15'] + model.x['x21'] + model.x['x22'] + \n",
    "                               model.x['x23'] + model.x['x24'] >= 20000 )\n",
    "model.Constraint3 = Constraint( expr = model.x['x13'] + model.x['x14'] + model.x['x15'] +\n",
    "                               model.x['x22'] + model.x['x23'] + model.x['x24'] +\n",
    "                               model.x['x31'] + model.x['x32'] + model.x['x33'] >= 40000 )\n",
    "model.Constraint4 = Constraint( expr = model.x['x14'] + model.x['x15'] + model.x['x23'] + \n",
    "                               model.x['x24'] + model.x['x32'] + model.x['x33'] + \n",
    "                               model.x['x41'] + model.x['x42'] >= 10000 )\n",
    "model.Constraint5 = Constraint( expr = model.x['x15'] + model.x['x24'] + model.x['x33'] + \n",
    "                               model.x['x42'] + model.x['x51'] >= 50000 )\n",
    "\n",
    "# Solve\n",
    "solver = SolverFactory('glpk')\n",
    "solver.solve(model)\n",
    "\n",
    "# display(model)\n",
    "\n",
    "\n",
    "# print a shorter summary of relevant results\n",
    "import babel.numbers as numbers   # needed to display as currency\n",
    "print(\"Total Cost = \", numbers.format_currency(model.obj(),'USD', locale='en_US'))\n",
    "print(\"Lease \", '%.0f' % model.x['x15'](), \"sq. ft. in month 1 for 5 months\")\n",
    "print(\"Lease\", '%.0f' % model.x['x31'](), \"sq. tf. in month 3 for 1 month\")\n",
    "print(\"Lease\", '%.0f' % model.x['x51'](), \"sq. ft. in month 5 for 1 month\")\n",
    "\n"
   ]
  },
  {
   "cell_type": "markdown",
   "metadata": {
    "hidden": true
   },
   "source": [
    "## Typesetting mathematical notation with LaTeX code (video)"
   ]
  },
  {
   "cell_type": "code",
   "execution_count": 9,
   "metadata": {
    "hidden": true
   },
   "outputs": [
    {
     "data": {
      "text/html": [
       "\n",
       "        <iframe\n",
       "            width=\"640\"\n",
       "            height=\"360\"\n",
       "            src=\"https://media.uwex.edu/content/ds/ds775_r19/ds775_lesson1-latex-demo/index.html\"\n",
       "            frameborder=\"0\"\n",
       "            allowfullscreen\n",
       "        ></iframe>\n",
       "        "
      ],
      "text/plain": [
       "<IPython.lib.display.IFrame at 0x10a6ee0f0>"
      ]
     },
     "execution_count": 9,
     "metadata": {},
     "output_type": "execute_result"
    }
   ],
   "source": [
    "# execute this cell for video\n",
    "from IPython.display import IFrame\n",
    "IFrame(\n",
    "    \"https://media.uwex.edu/content/ds/ds775_r19/ds775_lesson1-latex-demo/index.html\",\n",
    "    width=640,\n",
    "    height=360)"
   ]
  },
  {
   "cell_type": "markdown",
   "metadata": {
    "hidden": true
   },
   "source": [
    "### <font color=\"blue\"> Self-Assessment: Formulate and Solve #2 </font>"
   ]
  },
  {
   "cell_type": "markdown",
   "metadata": {
    "hidden": true
   },
   "source": [
    "**Textbook Problem 3.4-10** Larry Edison is the director of the Computer Center for Buckly\n",
    "College. He now needs to schedule the staffing of the center. It is\n",
    "open from 8 A.M. until midnight. Larry has monitored the usage of the\n",
    "center at various times of the day, and determined that the following\n",
    "number of computer consultants are required: \n",
    "\n",
    "<img src=\"images/screen-problem3_4-10.png\" alt=\"Solution\" width=\"440\" height=\"250\">\n",
    "\n",
    "Two types of computer consultants can be hired: full-time and\n",
    "part-time. The full-time consultants work for 8 consecutive hours in\n",
    "any of the following shifts: morning (8 A.M.–4 P.M.), afternoon\n",
    "(noon–8 P.M.), and evening (4 P.M.–midnight). Full-time consultants\n",
    "are paid \\\\$40 per hour.  Part-time consultants can be hired to work\n",
    "any of the four shifts listed in the above table. Part-time\n",
    "consultants are paid \\\\$30 per hour.  An additional requirement is that\n",
    "during every time period, there must be at least 2 full-time\n",
    "consultants on duty for every part-time consultant on duty.  Larry\n",
    "would like to determine how many full-time and how many part-time\n",
    "workers should work each shift to meet the above requirements at the\n",
    "minimum possible cost.\n",
    "\n",
    "(a) Formulate a linear programming model for this problem. (Hint: you could have 7 design variables - 3 for the number of full-time workers on each shift and 4 for the number of part-time workers on each shift.)\n",
    "\n",
    "(b) Solve this model using Pyomo.  You may\n",
    "  find fractional numbers of consultants per shift so round the\n",
    "  answers to get an approximate solution.  Report the total cost with\n",
    "  both fractional and rounded numbers of consultants.\n",
    "  \n",
    "(c) (not in book) Using Pyomo in Python, require the decision variables to be integers (specify **domain=NonNegativeIntegers** rather than **NonNegativeReals** for the decision variables), and compute the solution.  *How does it compare to the solution in (b)?* This is now an integer programming problem and is not solved by the simplex method.  We'll learn more about integer programming soon.  Be aware that integer programming problems are generally much more computationally intense than those using real valued variables."
   ]
  },
  {
   "cell_type": "markdown",
   "metadata": {
    "hidden": true
   },
   "source": [
    "### <font color=\"blue\"> Self-Assessment: Formulate and Solve #3 </font>"
   ]
  },
  {
   "cell_type": "markdown",
   "metadata": {
    "hidden": true
   },
   "source": [
    "**Textbook Problem 3.5-6 (a,e).** Maureen Laird is the chief financial officer for the Alva\n",
    "  Electric Co., a major public utility in the midwest. The company has\n",
    "  scheduled the construction of new hydroelectric plants 5, 10, and 20\n",
    "  years from now to meet the needs of the growing population in the\n",
    "  region served by the company. To cover at least the construction\n",
    "  costs, Maureen needs to invest some of the company’s money now to\n",
    "  meet these future cash-flow needs. Maureen may purchase only three\n",
    "  kinds of financial assets, each of which costs \\$1 million per\n",
    "  unit. Fractional units may be purchased. The assets produce income\n",
    "  5, 10, and 20 years from now, and that income is needed to cover at\n",
    "  least minimum cash-flow requirements in those years. (Any excess\n",
    "  income above the minimum requirement for each time period will be\n",
    "  used to increase dividend payments to shareholders rather than\n",
    "  saving it to help meet the minimum cash-flow requirement in the\n",
    "  next time period.) The following table shows both the amount of\n",
    "  income generated by each unit of each asset and the minimum amount\n",
    "  of income needed for each of the future time periods when a new\n",
    "  hydroelectric plant will be constructed. \n",
    "  \n",
    "<img src=\"images/screen-problem7.png\" width=\"440\" height=\"250\">\n",
    "\n",
    "Maureen wishes to determine the mix of investments in these assets\n",
    "that will cover the cash-flow requirements while minimizing the total\n",
    "amount invested.\n",
    "\n",
    "(a) Formulate a linear programming model for this problem.\n",
    "  \n",
    "(e) Use Pyomo to solve the model."
   ]
  },
  {
   "cell_type": "markdown",
   "metadata": {
    "heading_collapsed": true
   },
   "source": [
    "# Sausages Blending Problem "
   ]
  },
  {
   "cell_type": "markdown",
   "metadata": {
    "hidden": true
   },
   "source": [
    "Here is an extra example, with no videos, of a blending problem.  We'll revisit this example in the next lesson.\n",
    "\n",
    "This example adapted from here: http://benalexkeen.com/linear-programming-with-python-and-pulp-part-4/.  "
   ]
  },
  {
   "cell_type": "markdown",
   "metadata": {
    "heading_collapsed": true,
    "hidden": true
   },
   "source": [
    "## Problem Description"
   ]
  },
  {
   "cell_type": "markdown",
   "metadata": {
    "hidden": true
   },
   "source": [
    "We're going to make sausages by blending pork, wheat, and starch.  Our objective is to minimize the cost of making the sausages.  The table below shows the ingredients available, the cost, and the amount of each ingredient available from our supplier:\n",
    "\n",
    "Ingredient | Cost ($/kg) | Amount (kg)\n",
    "-----------|------|--------------\n",
    "Pork       | 4.32 | 7\n",
    "Wheat      | 2.46 | 20.0\n",
    "Starch     | 1.86 | 17\n",
    "\n",
    "Additionally, we have 23 kg of pork on hand that we must use in the sausages.\n",
    "\n",
    "We want to make 2 types of sausage:\n",
    "* Economy ( > 40% pork)\n",
    "* Premium ( > 60% pork)\n",
    "\n",
    "Each sausage is 50 grams (0.05 kg).  \n",
    "\n",
    "According to government regulations, the most starch we can use in our sausages is 25% by weight.\n",
    "\n",
    "We have a demand for 350 economy sausages and 500 premium sausages."
   ]
  },
  {
   "cell_type": "markdown",
   "metadata": {
    "heading_collapsed": true,
    "hidden": true
   },
   "source": [
    "## The linear program"
   ]
  },
  {
   "cell_type": "markdown",
   "metadata": {
    "hidden": true
   },
   "source": [
    "The decision variables are the kg of each ingredient to use:\n",
    "\n",
    "Variable | Description\n",
    "--- | ---\n",
    "$p_e$ | kg pork in the economy sausages  \n",
    "$w_e$ | kg wheat in the economy sausages  \n",
    "$s_e$ | kg starch in the economy sausages  \n",
    "$p_p$ | kg pork in the premium sausages  \n",
    "$w_p$ | kg wheat in the premium sausages  \n",
    "$s_p$ | kg starch in the premium sausages\n",
    "\n",
    "We want to minimize the cost:\n",
    "$$ \\mbox{Cost} = 4.32 ( p_e + p_p) + 2.46( w_e + w_p) + 1.86 (s_e + s_p) $$\n",
    "\n",
    "Subject to the following constraints:\n",
    "\n",
    "<p style=\"padding-right: 120px;\"> Constraint</p> | Description\n",
    "---------------------------------| ---\n",
    "$p_e + w_e + s_e = 350 \\times 0.05$ | total kg of economy sausages\n",
    "$p_p + w_p + s_p = 500 \\times 0.05$ | total kg of premium sausages\n",
    "$p_e \\geq 0.4 (p_e + w_e + s_e)$ | ecomony sausage must be at least 40% pork\n",
    "$p_p \\geq 0.6 (p_p + w_p + s_p)$ | premium sausage must be at least 60% pork\n",
    "$s_e \\leq 0.25 (p_e + w_e + s_e)$ | no more than 25% starch\n",
    "$s_p \\leq 0.25 (p_p + w_p + s_p)$ | no more than 25% starch\n",
    "$p_e + p_p \\leq 30$ | 30 kg of pork available\n",
    "$w_e + w_p \\leq 20$ | 20 kg of wheat available\n",
    "$s_e + s_p \\leq 17$ | 17 kg of starch avaialble\n",
    "$p_e + p_p \\geq 23$ | must use the 23 kg of pork we already purchased"
   ]
  },
  {
   "cell_type": "markdown",
   "metadata": {
    "heading_collapsed": true,
    "hidden": true
   },
   "source": [
    "## Pyomo Solution"
   ]
  },
  {
   "cell_type": "code",
   "execution_count": 3,
   "metadata": {
    "hidden": true
   },
   "outputs": [
    {
     "name": "stdout",
     "output_type": "stream",
     "text": [
      "Minimum Cost =  $140.96\n",
      "Kilograms of each ingredient in each type of sausage:\n"
     ]
    },
    {
     "data": {
      "text/html": [
       "<div>\n",
       "<style scoped>\n",
       "    .dataframe tbody tr th:only-of-type {\n",
       "        vertical-align: middle;\n",
       "    }\n",
       "\n",
       "    .dataframe tbody tr th {\n",
       "        vertical-align: top;\n",
       "    }\n",
       "\n",
       "    .dataframe thead th {\n",
       "        text-align: right;\n",
       "    }\n",
       "</style>\n",
       "<table border=\"1\" class=\"dataframe\">\n",
       "  <thead>\n",
       "    <tr style=\"text-align: right;\">\n",
       "      <th></th>\n",
       "      <th>Economy</th>\n",
       "      <th>Premium</th>\n",
       "    </tr>\n",
       "  </thead>\n",
       "  <tbody>\n",
       "    <tr>\n",
       "      <th>Pork</th>\n",
       "      <td>8.000</td>\n",
       "      <td>15.00</td>\n",
       "    </tr>\n",
       "    <tr>\n",
       "      <th>Wheat</th>\n",
       "      <td>5.125</td>\n",
       "      <td>3.75</td>\n",
       "    </tr>\n",
       "    <tr>\n",
       "      <th>Starch</th>\n",
       "      <td>4.375</td>\n",
       "      <td>6.25</td>\n",
       "    </tr>\n",
       "  </tbody>\n",
       "</table>\n",
       "</div>"
      ],
      "text/plain": [
       "        Economy  Premium\n",
       "Pork      8.000    15.00\n",
       "Wheat     5.125     3.75\n",
       "Starch    4.375     6.25"
      ]
     },
     "execution_count": 3,
     "metadata": {},
     "output_type": "execute_result"
    }
   ],
   "source": [
    "# Unfold to see the Pyomo solution with individual decision variables\n",
    "from pyomo.environ import *\n",
    "\n",
    "# Concrete Model\n",
    "M = ConcreteModel(name = \"Sausages1\")\n",
    "\n",
    "# Decision Variables\n",
    "M.pe = Var(domain = NonNegativeReals)\n",
    "M.we = Var(domain = NonNegativeReals)\n",
    "M.se = Var(domain = NonNegativeReals)\n",
    "M.pp = Var(domain = NonNegativeReals)\n",
    "M.wp = Var(domain = NonNegativeReals)\n",
    "M.sp = Var(domain = NonNegativeReals)\n",
    "\n",
    "# Objective \n",
    "M.cost = Objective( expr = 4.32*(M.pe+M.pp)+2.46*(M.we+M.wp)+1.86*(M.se+M.sp),\n",
    "                      sense = minimize )\n",
    "\n",
    "# Constraints\n",
    "M.tot_econ_ct = Constraint( expr = M.pe + M.we + M.se == 17.5 )\n",
    "M.tot_prem_ct = Constraint( expr = M.pp + M.wp + M.sp == 25 )\n",
    "M.p_prp_econ_ct = Constraint( expr = M.pe >= 0.4*(M.pe + M.we + M.se) )\n",
    "M.p_prp_prem_ct = Constraint( expr = M.pp >= 0.6*(M.pp + M.wp + M.sp) )\n",
    "M.s_prp_econ_ct = Constraint( expr = M.se <= 0.25*(M.pe + M.we + M.se) )\n",
    "M.s_prp_prem_ct = Constraint( expr = M.sp <= 0.25*(M.pp + M.wp + M.sp) )\n",
    "M.p_tot_mx_ct = Constraint( expr = M.pe + M.pp <= 30 )\n",
    "M.w_tot_mx_ct = Constraint( expr = M.we + M.wp <= 20 )\n",
    "M.s_tot_mx_ct = Constraint( expr = M.se + M.sp <= 17 )\n",
    "M.p_tot_mn_ct = Constraint( expr = M.pe + M.pp >= 23 )\n",
    "\n",
    "# Solve\n",
    "solver = SolverFactory('glpk')\n",
    "solver.solve(M)\n",
    "\n",
    "# display(M)\n",
    "\n",
    "# display solution\n",
    "import babel.numbers as numbers  # needed to display as currency\n",
    "print(\"Minimum Cost = \", numbers.format_currency(M.cost(), 'USD', locale='en_US'))\n",
    "\n",
    "import pandas as pd\n",
    "dvars = pd.DataFrame( [[M.pe(),M.pp()],\n",
    "                       [M.we(),M.wp()],\n",
    "                       [M.se(),M.sp()]],\n",
    "                    index = ['Pork','Wheat','Starch'],\n",
    "                    columns = ['Economy','Premium'])\n",
    "print(\"Kilograms of each ingredient in each type of sausage:\")\n",
    "dvars"
   ]
  }
 ],
 "metadata": {
  "kernelspec": {
   "display_name": "Python 3",
   "language": "python",
   "name": "python3"
  },
  "language_info": {
   "codemirror_mode": {
    "name": "ipython",
    "version": 3
   },
   "file_extension": ".py",
   "mimetype": "text/x-python",
   "name": "python",
   "nbconvert_exporter": "python",
   "pygments_lexer": "ipython3",
   "version": "3.7.3"
  },
  "toc": {
   "base_numbering": 1,
   "nav_menu": {},
   "number_sections": true,
   "sideBar": true,
   "skip_h1_title": false,
   "title_cell": "Table of Contents",
   "title_sidebar": "Contents",
   "toc_cell": false,
   "toc_position": {
    "height": "calc(100% - 180px)",
    "left": "10px",
    "top": "150px",
    "width": "300.175px"
   },
   "toc_section_display": true,
   "toc_window_display": true
  },
  "varInspector": {
   "cols": {
    "lenName": 16,
    "lenType": 16,
    "lenVar": 40
   },
   "kernels_config": {
    "python": {
     "delete_cmd_postfix": "",
     "delete_cmd_prefix": "del ",
     "library": "var_list.py",
     "varRefreshCmd": "print(var_dic_list())"
    },
    "r": {
     "delete_cmd_postfix": ") ",
     "delete_cmd_prefix": "rm(",
     "library": "var_list.r",
     "varRefreshCmd": "cat(var_dic_list()) "
    }
   },
   "types_to_exclude": [
    "module",
    "function",
    "builtin_function_or_method",
    "instance",
    "_Feature"
   ],
   "window_display": false
  }
 },
 "nbformat": 4,
 "nbformat_minor": 2
}
