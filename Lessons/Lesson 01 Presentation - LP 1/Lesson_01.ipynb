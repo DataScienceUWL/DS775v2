{
 "cells": [
  {
   "cell_type": "markdown",
   "metadata": {},
   "source": [
    "<p><font size=18>Lesson 01: Linear Programming and Pyomo</font></p>"
   ]
  },
  {
   "cell_type": "code",
   "execution_count": 17,
   "metadata": {
    "code_folding": [
     0
    ],
    "collapsed": true
   },
   "outputs": [],
   "source": [
    "# execute to import notebook styling for tables and width etc.\n",
    "from IPython.core.display import HTML\n",
    "import urllib.request\n",
    "response = urllib.request.urlopen('https://raw.githubusercontent.com/DataScienceUWL/DS775v2/master/ds755.css')\n",
    "HTML(response.read().decode(\"utf-8\"));"
   ]
  },
  {
   "cell_type": "markdown",
   "metadata": {
    "heading_collapsed": true
   },
   "source": [
    "# Introduction and Set-Up"
   ]
  },
  {
   "cell_type": "markdown",
   "metadata": {
    "hidden": true
   },
   "source": [
    "## Introduction to CoCalc (video)"
   ]
  },
  {
   "cell_type": "markdown",
   "metadata": {
    "hidden": true
   },
   "source": [
    "The video below demonstrates how we will use CoCalc in this class.  If you got this notebook without signing up for CoCalc (possible through github) then visit Canvas to find and follow the \"CoCalc and Jupyter Instructions\" handout before viewing the video.  Even if you setup your own Jupyter environment at home, you'll still need to submit your assignments via CoCalc."
   ]
  },
  {
   "cell_type": "code",
   "execution_count": 18,
   "metadata": {
    "code_folding": [
     0
    ],
    "hidden": true
   },
   "outputs": [
    {
     "data": {
      "text/html": [
       "\n",
       "        <iframe\n",
       "            width=\"640\"\n",
       "            height=\"360\"\n",
       "            src=\"https://media.uwex.edu/content/ds/ds775_r19/ds775_cocalc-walkthrough/\"\n",
       "            frameborder=\"0\"\n",
       "            allowfullscreen\n",
       "        ></iframe>\n",
       "        "
      ],
      "text/plain": [
       "<IPython.lib.display.IFrame at 0x10a3ef630>"
      ]
     },
     "execution_count": 18,
     "metadata": {},
     "output_type": "execute_result"
    }
   ],
   "source": [
    "# execute this cell for video\n",
    "from IPython.display import IFrame\n",
    "IFrame(\n",
    "    \"https://media.uwex.edu/content/ds/ds775_r19/ds775_cocalc-walkthrough/\",\n",
    "    width=640,\n",
    "    height=360)"
   ]
  },
  {
   "cell_type": "markdown",
   "metadata": {
    "heading_collapsed": true,
    "hidden": true
   },
   "source": [
    "## Configure Notebook Extensions (video)"
   ]
  },
  {
   "cell_type": "markdown",
   "metadata": {
    "hidden": true
   },
   "source": [
    "Whether you're using Jupyter at home or in CoCalc, enable these notebook extensions to view and use the class notebooks in the intended manner (table of contents, code folding,  etc.)."
   ]
  },
  {
   "cell_type": "code",

   "execution_count": 19,

   "metadata": {
    "hidden": true
   },
   "outputs": [
    {
     "data": {
      "text/html": [
       "\n",
       "        <iframe\n",
       "            width=\"640\"\n",
       "            height=\"360\"\n",
       "            src=\"https://media.uwex.edu/content/ds/ds775_r19/ds775_nb-extensions/index.html\"\n",
       "            frameborder=\"0\"\n",
       "            allowfullscreen\n",
       "        ></iframe>\n",
       "        "
      ],
      "text/plain": [

       "<IPython.lib.display.IFrame at 0x10a3ef0f0>"
      ]
     },
     "execution_count": 19,
     "metadata": {},
     "output_type": "execute_result"
    }
   ],
   "source": [
    "# execute this cell for video\n",
    "from IPython.display import IFrame\n",
    "IFrame(\n",
    "    \"https://media.uwex.edu/content/ds/ds775_r19/ds775_nb-extensions/index.html\",\n",
    "    width=640,\n",
    "    height=360)"
   ]
  },
  {
   "cell_type": "markdown",
   "metadata": {
    "heading_collapsed": true
   },
   "source": [
    "# What is a Linear Program?"
   ]
  },
  {
   "cell_type": "markdown",
   "metadata": {
    "hidden": true
   },
   "source": [
    "**Before progressing through the remainder of this notebook, you really should have read Chapter 3 so that you know the basics of a linear program.**"
   ]
  },
  {
   "cell_type": "markdown",
   "metadata": {
    "heading_collapsed": true,
    "hidden": true
   },
   "source": [
    "## <font color = \"blue\"> Self Assessment: LP Assumptions </font>"
   ]
  },
  {
   "cell_type": "markdown",
   "metadata": {
    "hidden": true
   },
   "source": [
    "Read Hillier 3.3 and answer the questions below.  Solutions are found in the **Self_Assessment_Solutions** notebook.\n",
    "\n",
    "For parts (a) - (c) below, state which, if any, linear programming model assumptions are violated and why.\n",
    "\n",
    "(a) Maximize $Z = 2x_1 + 7x_2 + x_1 x_2,$ \n",
    "\n",
    "subject to \n",
    "\n",
    "$\n",
    "\\begin{array}{rcrcr}\n",
    "5 x_1 & + &  3 x_2 & \\leq & 30 \\\\\n",
    " x_1 & + &  3 x_2 & \\leq & 40 \\\\\n",
    "12 x_1 & + & x^2_2 & \\leq & 50\n",
    "\\end{array}\n",
    "$\n",
    "\n",
    "and $x_1 \\geq 0, x_2 \\geq 0.$\n",
    "\n",
    "(b) Minimize $Z = x_1 + 2x_2 + 3,$ \n",
    "\n",
    "subject to \n",
    "\n",
    "$\n",
    "\\begin{array}{rcrcr}\n",
    " & + &  5 x_2 & \\geq & 8 \\\\\n",
    " x_1 & + &  & \\geq & 4 \\\\\n",
    " x_1 & + & x_2 & \\geq & 10\n",
    "\\end{array}\n",
    "$\n",
    "\n",
    "and $x_1 = 1,2,3, \\ldots, x_2 = 1,2,3, \\ldots$\n",
    "\n",
    "(c)  Maximize $Z = 0.5 x + 0.3 y$\n",
    "\n",
    "subject to \n",
    "\n",
    "$\n",
    "\\begin{array}{rcrcr}\n",
    "2x & - & 0.1 y & \\leq & 2.5 \\\\\n",
    "0.25 x & + & 1 & \\leq & 5.5 \\\\\n",
    " 3 x & + & a_2 y & \\leq & 7.9\n",
    "\\end{array}\n",
    "$\n",
    "\n",
    "$x \\geq 0, y \\geq 0,$ \n",
    "\n",
    "$2 \\leq a_2 \\leq 3$"
   ]
  },
  {
   "cell_type": "markdown",
   "metadata": {
    "heading_collapsed": true
   },
   "source": [
    "# Graphical Solutions"
   ]
  },
  {
   "cell_type": "markdown",
   "metadata": {
    "heading_collapsed": true,
    "hidden": true
   },
   "source": [
    "## Paper Example (video)"
   ]
  },
  {
   "cell_type": "markdown",
   "metadata": {
    "hidden": true
   },
   "source": [
    "Get \"old school\" and solve a graphical example with paper and pencil along with some graphing and algebra.  This video talks you through an example.  Doing this yourself will help your understanding (and appreciation) of how optimal solutions are found graphically using various software applications. "
   ]
  },
  {
   "cell_type": "code",
   "execution_count": 9,
   "metadata": {
    "code_folding": [
     0
    ],
    "hidden": true
   },
   "outputs": [
    {
     "data": {
      "text/html": [
       "\n",
       "        <iframe\n",
       "            width=\"640\"\n",
       "            height=\"360\"\n",
       "            src=\"https://media.uwex.edu/content/ds/ds775_r19/ds775_lesson1-graphical-by-hand/index.html\"\n",
       "            frameborder=\"0\"\n",
       "            allowfullscreen\n",
       "        ></iframe>\n",
       "        "
      ],
      "text/plain": [
       "<IPython.lib.display.IFrame at 0x10a3cd208>"
      ]
     },
     "execution_count": 9,
     "metadata": {},
     "output_type": "execute_result"
    }
   ],
   "source": [
    "# execute this cell for video\n",
    "from IPython.display import IFrame\n",
    "IFrame(\n",
    "    \"https://media.uwex.edu/content/ds/ds775_r19/ds775_lesson1-graphical-by-hand/index.html\",\n",
    "    width=640,\n",
    "    height=360)"
   ]
  },
  {
   "cell_type": "markdown",
   "metadata": {
    "hidden": true
   },
   "source": [
    "### <font color = \"blue\"> Self Assessment: Paper and Pencil Method </font>"
   ]
  },
  {
   "cell_type": "markdown",
   "metadata": {
    "hidden": true
   },
   "source": [
    "**Textbook Problem 3.1-6.** Use paper and pencil to solve this problem using the graphical method.\n",
    "\n",
    "Maximize $Z = 10x_1 + 20x_2,$ \n",
    "\n",
    "subject to \n",
    "\n",
    "$\n",
    "\\begin{array}{rcrcr}\n",
    "-x_1 & + & 2x_2 & \\leq & 15 \\\\\n",
    " x_1 & + &  x_2 & \\leq & 12 \\\\\n",
    "5x_1 & + & 3x_2 & \\leq & 45\n",
    "\\end{array}\n",
    "$\n",
    "\n",
    "and $x_1 \\geq 0, x_2 \\geq 0.$"
   ]
  },
  {
   "cell_type": "markdown",
   "metadata": {
    "heading_collapsed": true,
    "hidden": true
   },
   "source": [
    "## Using Software for Graphical Solutions"
   ]
  },
  {
   "cell_type": "markdown",
   "metadata": {
    "hidden": true
   },
   "source": [
    "We present two tools below, they are: \n",
    "\n",
    "* <a href = http://www.phpsimplex.com/en> PHPSimplex </a> is a virtual \"paper and pencil\" graphical solver.  \n",
    "* <a href = https://www.desmos.com> Desmos </a> is an interactive graphing tool that can be used to solve linear programs and much more."
   ]
  },
  {
   "cell_type": "markdown",
   "metadata": {
    "hidden": true
   },
   "source": [
    "### PHPSimplex Example (video)"
   ]
  },
  {
   "cell_type": "markdown",
   "metadata": {
    "hidden": true
   },
   "source": [
    "<a href=\"http://www.phpsimplex.com/en\">PHPSimplex </a> is a site dedicated to learning linear programming.   We'll utilize their implementation of the graphical method. "
   ]
  },
  {
   "cell_type": "code",
   "execution_count": 2,
   "metadata": {
    "code_folding": [
     0
    ],
    "hidden": true
   },
   "outputs": [
    {
     "data": {
      "text/html": [
       "\n",
       "        <iframe\n",
       "            width=\"640\"\n",
       "            height=\"360\"\n",
       "            src=\"https://media.uwex.edu/content/ds/ds775_r19/ds775_lesson1-graphical-method-phpsimplex/index.html\"\n",
       "            frameborder=\"0\"\n",
       "            allowfullscreen\n",
       "        ></iframe>\n",
       "        "
      ],
      "text/plain": [
       "<IPython.lib.display.IFrame at 0x10a5b5d30>"
      ]
     },
     "execution_count": 2,
     "metadata": {},
     "output_type": "execute_result"
    }
   ],
   "source": [
    "# execute this cell for video\n",
    "from IPython.display import IFrame\n",
    "IFrame(\n",
    "    \"https://media.uwex.edu/content/ds/ds775_r19/ds775_lesson1-graphical-method-phpsimplex/index.html\",\n",
    "    width=640,\n",
    "    height=360)"
   ]
  },
  {
   "cell_type": "markdown",
   "metadata": {
    "hidden": true
   },
   "source": [
    "### Desmos Example (video)"
   ]
  },
  {
   "cell_type": "markdown",
   "metadata": {
    "hidden": true
   },
   "source": [
    "<a href=\"https://www.desmos.com/\">Desmos</a> is a step up from \"paper and pencil\", but is still pretty hands-on.  It's a nice place to work with graphical solutions to LP problems where you still have a lot of control over the objective function and constraints.  "
   ]
  },
  {
   "cell_type": "code",
   "execution_count": 3,
   "metadata": {
    "code_folding": [
     0
    ],
    "hidden": true
   },
   "outputs": [
    {
     "data": {
      "text/html": [
       "\n",
       "        <iframe\n",
       "            width=\"640\"\n",
       "            height=\"360\"\n",
       "            src=\"https://media.uwex.edu/content/ds/ds775_r19/ds775_lesson1-graphical-example-desmos/index.html\"\n",
       "            frameborder=\"0\"\n",
       "            allowfullscreen\n",
       "        ></iframe>\n",
       "        "
      ],
      "text/plain": [
       "<IPython.lib.display.IFrame at 0x10a6a3da0>"
      ]
     },
     "execution_count": 3,
     "metadata": {},
     "output_type": "execute_result"
    }
   ],
   "source": [
    "# execute this cell for video\n",
    "from IPython.display import IFrame\n",
    "IFrame(\n",
    "    \"https://media.uwex.edu/content/ds/ds775_r19/ds775_lesson1-graphical-example-desmos/index.html\",\n",
    "    width=640,\n",
    "    height=360)"
   ]
  },
  {
   "cell_type": "markdown",
   "metadata": {
    "hidden": true
   },
   "source": [
    "### <font color=\"blue\">Self Assessment:  Graphical Method #1 </font>"
   ]
  },
  {
   "cell_type": "markdown",
   "metadata": {
    "hidden": true
   },
   "source": [
    "**Textbook Problem 3.1-9.** The Primo Insurance Company is introducing two new product lines: special risk insurance and mortgages. The expected profit is \\\\$5 per unit on special risk insurance and \\\\$2 per unit on mortgages.  Management wishes to establish sales quotas for the new product lines to maximize total expected profit. The work requirements are as follows:\n",
    "\n",
    "<img src=\"images/screen-problem2.png\" width=\"440\" height=\"250\">\n",
    "\n",
    "(a) Formulate a linear programming model for this problem.\n",
    "\n",
    "(b) Use DESMOS (at www.desmos.com) to solve this model using the graphical method. Paste screen shots of your solution into your homework file.\n",
    "\n",
    "(c) Verify the exact value of your optimal solution from  (b)\n",
    "  by solving algebraically for the simultaneous solution of the\n",
    "  relevant two equations"
   ]
  },
  {
   "cell_type": "markdown",
   "metadata": {
    "heading_collapsed": true,
    "hidden": true
   },
   "source": [
    "### <font color=\"blue\">Self Assessment: Graphical Method #2 </font>"
   ]
  },
  {
   "cell_type": "markdown",
   "metadata": {
    "hidden": true
   },
   "source": [
    "**Textbook Problem 3.2-3.** This is your lucky day. You have just won a \\\\$20,000\n",
    "  prize. You are setting aside \\\\$8,000 for taxes and partying\n",
    "  expenses, but you have decided to invest the other \\\\$12,000. Upon\n",
    "  hearing this news, two different friends have offered you an\n",
    "  opportunity to become a partner in two different entrepreneurial\n",
    "  ventures, one planned by each friend. In both cases, this investment\n",
    "  would involve expending some of your time next summer as well as\n",
    "  putting up cash. Becoming a full partner in the first friend’s\n",
    "  venture would require an investment of \\\\$10,000 and 400 hours, and\n",
    "  your estimated profit (ignoring the value of your time) would be\n",
    "  \\\\$9,000. The corresponding figures for the second friend’s venture\n",
    "  are \\\\$8,000 and 500 hours, with an estimated profit to you of\n",
    "  \\\\$9,000. However, both friends are flexible and would allow you to\n",
    "  come in at any fraction of a full partnership you would like. If you\n",
    "  choose a fraction of a full partnership, all the above figures given\n",
    "  for a full partnership (money investment, time investment, and your\n",
    "  profit) would be multiplied by this same fraction.  Because you were\n",
    "  looking for an interesting summer job anyway (maximum of 600 hours),\n",
    "  you have decided to participate in one or both friends’ ventures in\n",
    "  whichever combination would maximize your total estimated\n",
    "  profit. You now need to solve the problem of finding the best\n",
    "  combination.\n",
    "  \n",
    "(a) Describe the analogy between this problem and\n",
    "  the Wyndor Glass Co. problem discussed in Sec. 3.1. Then construct\n",
    "  and fill in a table like Table 3.1 for this problem, identifying\n",
    "  both the activities and the resources.  \n",
    "\n",
    "(b) Formulate a linear\n",
    "  programming model for this problem.  \n",
    "\n",
    "(c) Use PHPSimplex (at www.phpsimplex.com/en) to solve this model by the graphical\n",
    "  method. Paste screen shots of your solution into your homework file.  What are the values of the decision variables at the optimal solution?  What is the total estimated profit?  "
   ]
  },
  {
   "cell_type": "markdown",
   "metadata": {
    "heading_collapsed": true,
    "hidden": true
   },
   "source": [
    "### <font color=\"blue\">Self Assessment: Graphical Method #3 </font>"
   ]
  },
  {
   "cell_type": "markdown",
   "metadata": {
    "hidden": true
   },
   "source": [
    "**Textbook Problem 3.2-4.** Use the graphical method to find all optimal soutions for the\n",
    "following model:  \n",
    "\n",
    "Maximize $Z = 500x_1 + 300x_2,$ \n",
    "\n",
    "subject to \n",
    "\n",
    "$\n",
    "\\begin{array}{rcrcr}\n",
    "15 x_1 & + &  5 x_2 & \\leq & 300 \\\\\n",
    "10 x_1 & + &   6 x_2 & \\leq & 240 \\\\\n",
    "8x_1 & + & 12x_2 & \\leq & 450\n",
    "\\end{array}\n",
    "$\n",
    "\n",
    "and $x_1 \\geq 0, x_2 \\geq 0.$"
   ]
  },
  {
   "cell_type": "markdown",
   "metadata": {
    "hidden": true
   },
   "source": [
    "## Graphical Widget for Exploring Wyndor Problem"
   ]
  },
  {
   "cell_type": "markdown",
   "metadata": {
    "hidden": true
   },
   "source": [
    "Here is the Wyndor model.  $Z$ is the profit in thousands of dollars.  $x_1$ and $x_2$ are the batches of doors and windows, respectively.  The constraints, in order, represent the production capacities of Plants 1, 2, and 3.\n",
    "\n",
    "Maximize $Z = 3 x_1 + 5 x_2$\n",
    "\n",
    "Subject to:\n",
    "\n",
    "$\n",
    "\\begin{array}{ccccc}\n",
    " x_1 &   &      & \\leq & 4 \\\\\n",
    "     &   & 2x_2 & \\leq & 12 \\\\\n",
    "3x_1 & + & 2x_2 & \\leq & 18\n",
    "\\end{array}\n",
    "$\n",
    "\n",
    "$x_1 \\geq 0$, $x_2 \\geq 0$\n",
    "\n",
    "Use the widget below to explore the Wyndor model. \n",
    "\n",
    "* Slide profScl (Profit Scale).  Do you see why the maximum value of profit occurs at a corner point?\n",
    "* Change the objective function coefficients, $c1$ and $c2$.  Can you get the location of maximum to change?  Can you get it be an entire edge of the feasible region (infinitely many solutions)?\n",
    "* $b1, b2, b3$ are the values of the right hand sides of the constraints.  How does changing those values effect the feasible region and the maximum profit?"
   ]
  },
  {
   "cell_type": "code",
   "execution_count": 1,
   "metadata": {
    "code_folding": [
     0
    ],
    "hidden": true
   },
   "outputs": [
    {
     "data": {
      "application/javascript": [
       "/* Put everything inside the global mpl namespace */\n",
       "window.mpl = {};\n",
       "\n",
       "\n",
       "mpl.get_websocket_type = function() {\n",
       "    if (typeof(WebSocket) !== 'undefined') {\n",
       "        return WebSocket;\n",
       "    } else if (typeof(MozWebSocket) !== 'undefined') {\n",
       "        return MozWebSocket;\n",
       "    } else {\n",
       "        alert('Your browser does not have WebSocket support. ' +\n",
       "              'Please try Chrome, Safari or Firefox ≥ 6. ' +\n",
       "              'Firefox 4 and 5 are also supported but you ' +\n",
       "              'have to enable WebSockets in about:config.');\n",
       "    };\n",
       "}\n",
       "\n",
       "mpl.figure = function(figure_id, websocket, ondownload, parent_element) {\n",
       "    this.id = figure_id;\n",
       "\n",
       "    this.ws = websocket;\n",
       "\n",
       "    this.supports_binary = (this.ws.binaryType != undefined);\n",
       "\n",
       "    if (!this.supports_binary) {\n",
       "        var warnings = document.getElementById(\"mpl-warnings\");\n",
       "        if (warnings) {\n",
       "            warnings.style.display = 'block';\n",
       "            warnings.textContent = (\n",
       "                \"This browser does not support binary websocket messages. \" +\n",
       "                    \"Performance may be slow.\");\n",
       "        }\n",
       "    }\n",
       "\n",
       "    this.imageObj = new Image();\n",
       "\n",
       "    this.context = undefined;\n",
       "    this.message = undefined;\n",
       "    this.canvas = undefined;\n",
       "    this.rubberband_canvas = undefined;\n",
       "    this.rubberband_context = undefined;\n",
       "    this.format_dropdown = undefined;\n",
       "\n",
       "    this.image_mode = 'full';\n",
       "\n",
       "    this.root = $('<div/>');\n",
       "    this._root_extra_style(this.root)\n",
       "    this.root.attr('style', 'display: inline-block');\n",
       "\n",
       "    $(parent_element).append(this.root);\n",
       "\n",
       "    this._init_header(this);\n",
       "    this._init_canvas(this);\n",
       "    this._init_toolbar(this);\n",
       "\n",
       "    var fig = this;\n",
       "\n",
       "    this.waiting = false;\n",
       "\n",
       "    this.ws.onopen =  function () {\n",
       "            fig.send_message(\"supports_binary\", {value: fig.supports_binary});\n",
       "            fig.send_message(\"send_image_mode\", {});\n",
       "            if (mpl.ratio != 1) {\n",
       "                fig.send_message(\"set_dpi_ratio\", {'dpi_ratio': mpl.ratio});\n",
       "            }\n",
       "            fig.send_message(\"refresh\", {});\n",
       "        }\n",
       "\n",
       "    this.imageObj.onload = function() {\n",
       "            if (fig.image_mode == 'full') {\n",
       "                // Full images could contain transparency (where diff images\n",
       "                // almost always do), so we need to clear the canvas so that\n",
       "                // there is no ghosting.\n",
       "                fig.context.clearRect(0, 0, fig.canvas.width, fig.canvas.height);\n",
       "            }\n",
       "            fig.context.drawImage(fig.imageObj, 0, 0);\n",
       "        };\n",
       "\n",
       "    this.imageObj.onunload = function() {\n",
       "        fig.ws.close();\n",
       "    }\n",
       "\n",
       "    this.ws.onmessage = this._make_on_message_function(this);\n",
       "\n",
       "    this.ondownload = ondownload;\n",
       "}\n",
       "\n",
       "mpl.figure.prototype._init_header = function() {\n",
       "    var titlebar = $(\n",
       "        '<div class=\"ui-dialog-titlebar ui-widget-header ui-corner-all ' +\n",
       "        'ui-helper-clearfix\"/>');\n",
       "    var titletext = $(\n",
       "        '<div class=\"ui-dialog-title\" style=\"width: 100%; ' +\n",
       "        'text-align: center; padding: 3px;\"/>');\n",
       "    titlebar.append(titletext)\n",
       "    this.root.append(titlebar);\n",
       "    this.header = titletext[0];\n",
       "}\n",
       "\n",
       "\n",
       "\n",
       "mpl.figure.prototype._canvas_extra_style = function(canvas_div) {\n",
       "\n",
       "}\n",
       "\n",
       "\n",
       "mpl.figure.prototype._root_extra_style = function(canvas_div) {\n",
       "\n",
       "}\n",
       "\n",
       "mpl.figure.prototype._init_canvas = function() {\n",
       "    var fig = this;\n",
       "\n",
       "    var canvas_div = $('<div/>');\n",
       "\n",
       "    canvas_div.attr('style', 'position: relative; clear: both; outline: 0');\n",
       "\n",
       "    function canvas_keyboard_event(event) {\n",
       "        return fig.key_event(event, event['data']);\n",
       "    }\n",
       "\n",
       "    canvas_div.keydown('key_press', canvas_keyboard_event);\n",
       "    canvas_div.keyup('key_release', canvas_keyboard_event);\n",
       "    this.canvas_div = canvas_div\n",
       "    this._canvas_extra_style(canvas_div)\n",
       "    this.root.append(canvas_div);\n",
       "\n",
       "    var canvas = $('<canvas/>');\n",
       "    canvas.addClass('mpl-canvas');\n",
       "    canvas.attr('style', \"left: 0; top: 0; z-index: 0; outline: 0\")\n",
       "\n",
       "    this.canvas = canvas[0];\n",
       "    this.context = canvas[0].getContext(\"2d\");\n",
       "\n",
       "    var backingStore = this.context.backingStorePixelRatio ||\n",
       "\tthis.context.webkitBackingStorePixelRatio ||\n",
       "\tthis.context.mozBackingStorePixelRatio ||\n",
       "\tthis.context.msBackingStorePixelRatio ||\n",
       "\tthis.context.oBackingStorePixelRatio ||\n",
       "\tthis.context.backingStorePixelRatio || 1;\n",
       "\n",
       "    mpl.ratio = (window.devicePixelRatio || 1) / backingStore;\n",
       "\n",
       "    var rubberband = $('<canvas/>');\n",
       "    rubberband.attr('style', \"position: absolute; left: 0; top: 0; z-index: 1;\")\n",
       "\n",
       "    var pass_mouse_events = true;\n",
       "\n",
       "    canvas_div.resizable({\n",
       "        start: function(event, ui) {\n",
       "            pass_mouse_events = false;\n",
       "        },\n",
       "        resize: function(event, ui) {\n",
       "            fig.request_resize(ui.size.width, ui.size.height);\n",
       "        },\n",
       "        stop: function(event, ui) {\n",
       "            pass_mouse_events = true;\n",
       "            fig.request_resize(ui.size.width, ui.size.height);\n",
       "        },\n",
       "    });\n",
       "\n",
       "    function mouse_event_fn(event) {\n",
       "        if (pass_mouse_events)\n",
       "            return fig.mouse_event(event, event['data']);\n",
       "    }\n",
       "\n",
       "    rubberband.mousedown('button_press', mouse_event_fn);\n",
       "    rubberband.mouseup('button_release', mouse_event_fn);\n",
       "    // Throttle sequential mouse events to 1 every 20ms.\n",
       "    rubberband.mousemove('motion_notify', mouse_event_fn);\n",
       "\n",
       "    rubberband.mouseenter('figure_enter', mouse_event_fn);\n",
       "    rubberband.mouseleave('figure_leave', mouse_event_fn);\n",
       "\n",
       "    canvas_div.on(\"wheel\", function (event) {\n",
       "        event = event.originalEvent;\n",
       "        event['data'] = 'scroll'\n",
       "        if (event.deltaY < 0) {\n",
       "            event.step = 1;\n",
       "        } else {\n",
       "            event.step = -1;\n",
       "        }\n",
       "        mouse_event_fn(event);\n",
       "    });\n",
       "\n",
       "    canvas_div.append(canvas);\n",
       "    canvas_div.append(rubberband);\n",
       "\n",
       "    this.rubberband = rubberband;\n",
       "    this.rubberband_canvas = rubberband[0];\n",
       "    this.rubberband_context = rubberband[0].getContext(\"2d\");\n",
       "    this.rubberband_context.strokeStyle = \"#000000\";\n",
       "\n",
       "    this._resize_canvas = function(width, height) {\n",
       "        // Keep the size of the canvas, canvas container, and rubber band\n",
       "        // canvas in synch.\n",
       "        canvas_div.css('width', width)\n",
       "        canvas_div.css('height', height)\n",
       "\n",
       "        canvas.attr('width', width * mpl.ratio);\n",
       "        canvas.attr('height', height * mpl.ratio);\n",
       "        canvas.attr('style', 'width: ' + width + 'px; height: ' + height + 'px;');\n",
       "\n",
       "        rubberband.attr('width', width);\n",
       "        rubberband.attr('height', height);\n",
       "    }\n",
       "\n",
       "    // Set the figure to an initial 600x600px, this will subsequently be updated\n",
       "    // upon first draw.\n",
       "    this._resize_canvas(600, 600);\n",
       "\n",
       "    // Disable right mouse context menu.\n",
       "    $(this.rubberband_canvas).bind(\"contextmenu\",function(e){\n",
       "        return false;\n",
       "    });\n",
       "\n",
       "    function set_focus () {\n",
       "        canvas.focus();\n",
       "        canvas_div.focus();\n",
       "    }\n",
       "\n",
       "    window.setTimeout(set_focus, 100);\n",
       "}\n",
       "\n",
       "mpl.figure.prototype._init_toolbar = function() {\n",
       "    var fig = this;\n",
       "\n",
       "    var nav_element = $('<div/>');\n",
       "    nav_element.attr('style', 'width: 100%');\n",
       "    this.root.append(nav_element);\n",
       "\n",
       "    // Define a callback function for later on.\n",
       "    function toolbar_event(event) {\n",
       "        return fig.toolbar_button_onclick(event['data']);\n",
       "    }\n",
       "    function toolbar_mouse_event(event) {\n",
       "        return fig.toolbar_button_onmouseover(event['data']);\n",
       "    }\n",
       "\n",
       "    for(var toolbar_ind in mpl.toolbar_items) {\n",
       "        var name = mpl.toolbar_items[toolbar_ind][0];\n",
       "        var tooltip = mpl.toolbar_items[toolbar_ind][1];\n",
       "        var image = mpl.toolbar_items[toolbar_ind][2];\n",
       "        var method_name = mpl.toolbar_items[toolbar_ind][3];\n",
       "\n",
       "        if (!name) {\n",
       "            // put a spacer in here.\n",
       "            continue;\n",
       "        }\n",
       "        var button = $('<button/>');\n",
       "        button.addClass('ui-button ui-widget ui-state-default ui-corner-all ' +\n",
       "                        'ui-button-icon-only');\n",
       "        button.attr('role', 'button');\n",
       "        button.attr('aria-disabled', 'false');\n",
       "        button.click(method_name, toolbar_event);\n",
       "        button.mouseover(tooltip, toolbar_mouse_event);\n",
       "\n",
       "        var icon_img = $('<span/>');\n",
       "        icon_img.addClass('ui-button-icon-primary ui-icon');\n",
       "        icon_img.addClass(image);\n",
       "        icon_img.addClass('ui-corner-all');\n",
       "\n",
       "        var tooltip_span = $('<span/>');\n",
       "        tooltip_span.addClass('ui-button-text');\n",
       "        tooltip_span.html(tooltip);\n",
       "\n",
       "        button.append(icon_img);\n",
       "        button.append(tooltip_span);\n",
       "\n",
       "        nav_element.append(button);\n",
       "    }\n",
       "\n",
       "    var fmt_picker_span = $('<span/>');\n",
       "\n",
       "    var fmt_picker = $('<select/>');\n",
       "    fmt_picker.addClass('mpl-toolbar-option ui-widget ui-widget-content');\n",
       "    fmt_picker_span.append(fmt_picker);\n",
       "    nav_element.append(fmt_picker_span);\n",
       "    this.format_dropdown = fmt_picker[0];\n",
       "\n",
       "    for (var ind in mpl.extensions) {\n",
       "        var fmt = mpl.extensions[ind];\n",
       "        var option = $(\n",
       "            '<option/>', {selected: fmt === mpl.default_extension}).html(fmt);\n",
       "        fmt_picker.append(option);\n",
       "    }\n",
       "\n",
       "    // Add hover states to the ui-buttons\n",
       "    $( \".ui-button\" ).hover(\n",
       "        function() { $(this).addClass(\"ui-state-hover\");},\n",
       "        function() { $(this).removeClass(\"ui-state-hover\");}\n",
       "    );\n",
       "\n",
       "    var status_bar = $('<span class=\"mpl-message\"/>');\n",
       "    nav_element.append(status_bar);\n",
       "    this.message = status_bar[0];\n",
       "}\n",
       "\n",
       "mpl.figure.prototype.request_resize = function(x_pixels, y_pixels) {\n",
       "    // Request matplotlib to resize the figure. Matplotlib will then trigger a resize in the client,\n",
       "    // which will in turn request a refresh of the image.\n",
       "    this.send_message('resize', {'width': x_pixels, 'height': y_pixels});\n",
       "}\n",
       "\n",
       "mpl.figure.prototype.send_message = function(type, properties) {\n",
       "    properties['type'] = type;\n",
       "    properties['figure_id'] = this.id;\n",
       "    this.ws.send(JSON.stringify(properties));\n",
       "}\n",
       "\n",
       "mpl.figure.prototype.send_draw_message = function() {\n",
       "    if (!this.waiting) {\n",
       "        this.waiting = true;\n",
       "        this.ws.send(JSON.stringify({type: \"draw\", figure_id: this.id}));\n",
       "    }\n",
       "}\n",
       "\n",
       "\n",
       "mpl.figure.prototype.handle_save = function(fig, msg) {\n",
       "    var format_dropdown = fig.format_dropdown;\n",
       "    var format = format_dropdown.options[format_dropdown.selectedIndex].value;\n",
       "    fig.ondownload(fig, format);\n",
       "}\n",
       "\n",
       "\n",
       "mpl.figure.prototype.handle_resize = function(fig, msg) {\n",
       "    var size = msg['size'];\n",
       "    if (size[0] != fig.canvas.width || size[1] != fig.canvas.height) {\n",
       "        fig._resize_canvas(size[0], size[1]);\n",
       "        fig.send_message(\"refresh\", {});\n",
       "    };\n",
       "}\n",
       "\n",
       "mpl.figure.prototype.handle_rubberband = function(fig, msg) {\n",
       "    var x0 = msg['x0'] / mpl.ratio;\n",
       "    var y0 = (fig.canvas.height - msg['y0']) / mpl.ratio;\n",
       "    var x1 = msg['x1'] / mpl.ratio;\n",
       "    var y1 = (fig.canvas.height - msg['y1']) / mpl.ratio;\n",
       "    x0 = Math.floor(x0) + 0.5;\n",
       "    y0 = Math.floor(y0) + 0.5;\n",
       "    x1 = Math.floor(x1) + 0.5;\n",
       "    y1 = Math.floor(y1) + 0.5;\n",
       "    var min_x = Math.min(x0, x1);\n",
       "    var min_y = Math.min(y0, y1);\n",
       "    var width = Math.abs(x1 - x0);\n",
       "    var height = Math.abs(y1 - y0);\n",
       "\n",
       "    fig.rubberband_context.clearRect(\n",
       "        0, 0, fig.canvas.width, fig.canvas.height);\n",
       "\n",
       "    fig.rubberband_context.strokeRect(min_x, min_y, width, height);\n",
       "}\n",
       "\n",
       "mpl.figure.prototype.handle_figure_label = function(fig, msg) {\n",
       "    // Updates the figure title.\n",
       "    fig.header.textContent = msg['label'];\n",
       "}\n",
       "\n",
       "mpl.figure.prototype.handle_cursor = function(fig, msg) {\n",
       "    var cursor = msg['cursor'];\n",
       "    switch(cursor)\n",
       "    {\n",
       "    case 0:\n",
       "        cursor = 'pointer';\n",
       "        break;\n",
       "    case 1:\n",
       "        cursor = 'default';\n",
       "        break;\n",
       "    case 2:\n",
       "        cursor = 'crosshair';\n",
       "        break;\n",
       "    case 3:\n",
       "        cursor = 'move';\n",
       "        break;\n",
       "    }\n",
       "    fig.rubberband_canvas.style.cursor = cursor;\n",
       "}\n",
       "\n",
       "mpl.figure.prototype.handle_message = function(fig, msg) {\n",
       "    fig.message.textContent = msg['message'];\n",
       "}\n",
       "\n",
       "mpl.figure.prototype.handle_draw = function(fig, msg) {\n",
       "    // Request the server to send over a new figure.\n",
       "    fig.send_draw_message();\n",
       "}\n",
       "\n",
       "mpl.figure.prototype.handle_image_mode = function(fig, msg) {\n",
       "    fig.image_mode = msg['mode'];\n",
       "}\n",
       "\n",
       "mpl.figure.prototype.updated_canvas_event = function() {\n",
       "    // Called whenever the canvas gets updated.\n",
       "    this.send_message(\"ack\", {});\n",
       "}\n",
       "\n",
       "// A function to construct a web socket function for onmessage handling.\n",
       "// Called in the figure constructor.\n",
       "mpl.figure.prototype._make_on_message_function = function(fig) {\n",
       "    return function socket_on_message(evt) {\n",
       "        if (evt.data instanceof Blob) {\n",
       "            /* FIXME: We get \"Resource interpreted as Image but\n",
       "             * transferred with MIME type text/plain:\" errors on\n",
       "             * Chrome.  But how to set the MIME type?  It doesn't seem\n",
       "             * to be part of the websocket stream */\n",
       "            evt.data.type = \"image/png\";\n",
       "\n",
       "            /* Free the memory for the previous frames */\n",
       "            if (fig.imageObj.src) {\n",
       "                (window.URL || window.webkitURL).revokeObjectURL(\n",
       "                    fig.imageObj.src);\n",
       "            }\n",
       "\n",
       "            fig.imageObj.src = (window.URL || window.webkitURL).createObjectURL(\n",
       "                evt.data);\n",
       "            fig.updated_canvas_event();\n",
       "            fig.waiting = false;\n",
       "            return;\n",
       "        }\n",
       "        else if (typeof evt.data === 'string' && evt.data.slice(0, 21) == \"data:image/png;base64\") {\n",
       "            fig.imageObj.src = evt.data;\n",
       "            fig.updated_canvas_event();\n",
       "            fig.waiting = false;\n",
       "            return;\n",
       "        }\n",
       "\n",
       "        var msg = JSON.parse(evt.data);\n",
       "        var msg_type = msg['type'];\n",
       "\n",
       "        // Call the  \"handle_{type}\" callback, which takes\n",
       "        // the figure and JSON message as its only arguments.\n",
       "        try {\n",
       "            var callback = fig[\"handle_\" + msg_type];\n",
       "        } catch (e) {\n",
       "            console.log(\"No handler for the '\" + msg_type + \"' message type: \", msg);\n",
       "            return;\n",
       "        }\n",
       "\n",
       "        if (callback) {\n",
       "            try {\n",
       "                // console.log(\"Handling '\" + msg_type + \"' message: \", msg);\n",
       "                callback(fig, msg);\n",
       "            } catch (e) {\n",
       "                console.log(\"Exception inside the 'handler_\" + msg_type + \"' callback:\", e, e.stack, msg);\n",
       "            }\n",
       "        }\n",
       "    };\n",
       "}\n",
       "\n",
       "// from http://stackoverflow.com/questions/1114465/getting-mouse-location-in-canvas\n",
       "mpl.findpos = function(e) {\n",
       "    //this section is from http://www.quirksmode.org/js/events_properties.html\n",
       "    var targ;\n",
       "    if (!e)\n",
       "        e = window.event;\n",
       "    if (e.target)\n",
       "        targ = e.target;\n",
       "    else if (e.srcElement)\n",
       "        targ = e.srcElement;\n",
       "    if (targ.nodeType == 3) // defeat Safari bug\n",
       "        targ = targ.parentNode;\n",
       "\n",
       "    // jQuery normalizes the pageX and pageY\n",
       "    // pageX,Y are the mouse positions relative to the document\n",
       "    // offset() returns the position of the element relative to the document\n",
       "    var x = e.pageX - $(targ).offset().left;\n",
       "    var y = e.pageY - $(targ).offset().top;\n",
       "\n",
       "    return {\"x\": x, \"y\": y};\n",
       "};\n",
       "\n",
       "/*\n",
       " * return a copy of an object with only non-object keys\n",
       " * we need this to avoid circular references\n",
       " * http://stackoverflow.com/a/24161582/3208463\n",
       " */\n",
       "function simpleKeys (original) {\n",
       "  return Object.keys(original).reduce(function (obj, key) {\n",
       "    if (typeof original[key] !== 'object')\n",
       "        obj[key] = original[key]\n",
       "    return obj;\n",
       "  }, {});\n",
       "}\n",
       "\n",
       "mpl.figure.prototype.mouse_event = function(event, name) {\n",
       "    var canvas_pos = mpl.findpos(event)\n",
       "\n",
       "    if (name === 'button_press')\n",
       "    {\n",
       "        this.canvas.focus();\n",
       "        this.canvas_div.focus();\n",
       "    }\n",
       "\n",
       "    var x = canvas_pos.x * mpl.ratio;\n",
       "    var y = canvas_pos.y * mpl.ratio;\n",
       "\n",
       "    this.send_message(name, {x: x, y: y, button: event.button,\n",
       "                             step: event.step,\n",
       "                             guiEvent: simpleKeys(event)});\n",
       "\n",
       "    /* This prevents the web browser from automatically changing to\n",
       "     * the text insertion cursor when the button is pressed.  We want\n",
       "     * to control all of the cursor setting manually through the\n",
       "     * 'cursor' event from matplotlib */\n",
       "    event.preventDefault();\n",
       "    return false;\n",
       "}\n",
       "\n",
       "mpl.figure.prototype._key_event_extra = function(event, name) {\n",
       "    // Handle any extra behaviour associated with a key event\n",
       "}\n",
       "\n",
       "mpl.figure.prototype.key_event = function(event, name) {\n",
       "\n",
       "    // Prevent repeat events\n",
       "    if (name == 'key_press')\n",
       "    {\n",
       "        if (event.which === this._key)\n",
       "            return;\n",
       "        else\n",
       "            this._key = event.which;\n",
       "    }\n",
       "    if (name == 'key_release')\n",
       "        this._key = null;\n",
       "\n",
       "    var value = '';\n",
       "    if (event.ctrlKey && event.which != 17)\n",
       "        value += \"ctrl+\";\n",
       "    if (event.altKey && event.which != 18)\n",
       "        value += \"alt+\";\n",
       "    if (event.shiftKey && event.which != 16)\n",
       "        value += \"shift+\";\n",
       "\n",
       "    value += 'k';\n",
       "    value += event.which.toString();\n",
       "\n",
       "    this._key_event_extra(event, name);\n",
       "\n",
       "    this.send_message(name, {key: value,\n",
       "                             guiEvent: simpleKeys(event)});\n",
       "    return false;\n",
       "}\n",
       "\n",
       "mpl.figure.prototype.toolbar_button_onclick = function(name) {\n",
       "    if (name == 'download') {\n",
       "        this.handle_save(this, null);\n",
       "    } else {\n",
       "        this.send_message(\"toolbar_button\", {name: name});\n",
       "    }\n",
       "};\n",
       "\n",
       "mpl.figure.prototype.toolbar_button_onmouseover = function(tooltip) {\n",
       "    this.message.textContent = tooltip;\n",
       "};\n",
       "mpl.toolbar_items = [[\"Home\", \"Reset original view\", \"fa fa-home icon-home\", \"home\"], [\"Back\", \"Back to previous view\", \"fa fa-arrow-left icon-arrow-left\", \"back\"], [\"Forward\", \"Forward to next view\", \"fa fa-arrow-right icon-arrow-right\", \"forward\"], [\"\", \"\", \"\", \"\"], [\"Pan\", \"Pan axes with left mouse, zoom with right\", \"fa fa-arrows icon-move\", \"pan\"], [\"Zoom\", \"Zoom to rectangle\", \"fa fa-square-o icon-check-empty\", \"zoom\"], [\"\", \"\", \"\", \"\"], [\"Download\", \"Download plot\", \"fa fa-floppy-o icon-save\", \"download\"]];\n",
       "\n",
       "mpl.extensions = [\"eps\", \"pdf\", \"png\", \"ps\", \"raw\", \"svg\"];\n",
       "\n",
       "mpl.default_extension = \"png\";var comm_websocket_adapter = function(comm) {\n",
       "    // Create a \"websocket\"-like object which calls the given IPython comm\n",
       "    // object with the appropriate methods. Currently this is a non binary\n",
       "    // socket, so there is still some room for performance tuning.\n",
       "    var ws = {};\n",
       "\n",
       "    ws.close = function() {\n",
       "        comm.close()\n",
       "    };\n",
       "    ws.send = function(m) {\n",
       "        //console.log('sending', m);\n",
       "        comm.send(m);\n",
       "    };\n",
       "    // Register the callback with on_msg.\n",
       "    comm.on_msg(function(msg) {\n",
       "        //console.log('receiving', msg['content']['data'], msg);\n",
       "        // Pass the mpl event to the overridden (by mpl) onmessage function.\n",
       "        ws.onmessage(msg['content']['data'])\n",
       "    });\n",
       "    return ws;\n",
       "}\n",
       "\n",
       "mpl.mpl_figure_comm = function(comm, msg) {\n",
       "    // This is the function which gets called when the mpl process\n",
       "    // starts-up an IPython Comm through the \"matplotlib\" channel.\n",
       "\n",
       "    var id = msg.content.data.id;\n",
       "    // Get hold of the div created by the display call when the Comm\n",
       "    // socket was opened in Python.\n",
       "    var element = $(\"#\" + id);\n",
       "    var ws_proxy = comm_websocket_adapter(comm)\n",
       "\n",
       "    function ondownload(figure, format) {\n",
       "        window.open(figure.imageObj.src);\n",
       "    }\n",
       "\n",
       "    var fig = new mpl.figure(id, ws_proxy,\n",
       "                           ondownload,\n",
       "                           element.get(0));\n",
       "\n",
       "    // Call onopen now - mpl needs it, as it is assuming we've passed it a real\n",
       "    // web socket which is closed, not our websocket->open comm proxy.\n",
       "    ws_proxy.onopen();\n",
       "\n",
       "    fig.parent_element = element.get(0);\n",
       "    fig.cell_info = mpl.find_output_cell(\"<div id='\" + id + \"'></div>\");\n",
       "    if (!fig.cell_info) {\n",
       "        console.error(\"Failed to find cell for figure\", id, fig);\n",
       "        return;\n",
       "    }\n",
       "\n",
       "    var output_index = fig.cell_info[2]\n",
       "    var cell = fig.cell_info[0];\n",
       "\n",
       "};\n",
       "\n",
       "mpl.figure.prototype.handle_close = function(fig, msg) {\n",
       "    var width = fig.canvas.width/mpl.ratio\n",
       "    fig.root.unbind('remove')\n",
       "\n",
       "    // Update the output cell to use the data from the current canvas.\n",
       "    fig.push_to_output();\n",
       "    var dataURL = fig.canvas.toDataURL();\n",
       "    // Re-enable the keyboard manager in IPython - without this line, in FF,\n",
       "    // the notebook keyboard shortcuts fail.\n",
       "    IPython.keyboard_manager.enable()\n",
       "    $(fig.parent_element).html('<img src=\"' + dataURL + '\" width=\"' + width + '\">');\n",
       "    fig.close_ws(fig, msg);\n",
       "}\n",
       "\n",
       "mpl.figure.prototype.close_ws = function(fig, msg){\n",
       "    fig.send_message('closing', msg);\n",
       "    // fig.ws.close()\n",
       "}\n",
       "\n",
       "mpl.figure.prototype.push_to_output = function(remove_interactive) {\n",
       "    // Turn the data on the canvas into data in the output cell.\n",
       "    var width = this.canvas.width/mpl.ratio\n",
       "    var dataURL = this.canvas.toDataURL();\n",
       "    this.cell_info[1]['text/html'] = '<img src=\"' + dataURL + '\" width=\"' + width + '\">';\n",
       "}\n",
       "\n",
       "mpl.figure.prototype.updated_canvas_event = function() {\n",
       "    // Tell IPython that the notebook contents must change.\n",
       "    IPython.notebook.set_dirty(true);\n",
       "    this.send_message(\"ack\", {});\n",
       "    var fig = this;\n",
       "    // Wait a second, then push the new image to the DOM so\n",
       "    // that it is saved nicely (might be nice to debounce this).\n",
       "    setTimeout(function () { fig.push_to_output() }, 1000);\n",
       "}\n",
       "\n",
       "mpl.figure.prototype._init_toolbar = function() {\n",
       "    var fig = this;\n",
       "\n",
       "    var nav_element = $('<div/>');\n",
       "    nav_element.attr('style', 'width: 100%');\n",
       "    this.root.append(nav_element);\n",
       "\n",
       "    // Define a callback function for later on.\n",
       "    function toolbar_event(event) {\n",
       "        return fig.toolbar_button_onclick(event['data']);\n",
       "    }\n",
       "    function toolbar_mouse_event(event) {\n",
       "        return fig.toolbar_button_onmouseover(event['data']);\n",
       "    }\n",
       "\n",
       "    for(var toolbar_ind in mpl.toolbar_items){\n",
       "        var name = mpl.toolbar_items[toolbar_ind][0];\n",
       "        var tooltip = mpl.toolbar_items[toolbar_ind][1];\n",
       "        var image = mpl.toolbar_items[toolbar_ind][2];\n",
       "        var method_name = mpl.toolbar_items[toolbar_ind][3];\n",
       "\n",
       "        if (!name) { continue; };\n",
       "\n",
       "        var button = $('<button class=\"btn btn-default\" href=\"#\" title=\"' + name + '\"><i class=\"fa ' + image + ' fa-lg\"></i></button>');\n",
       "        button.click(method_name, toolbar_event);\n",
       "        button.mouseover(tooltip, toolbar_mouse_event);\n",
       "        nav_element.append(button);\n",
       "    }\n",
       "\n",
       "    // Add the status bar.\n",
       "    var status_bar = $('<span class=\"mpl-message\" style=\"text-align:right; float: right;\"/>');\n",
       "    nav_element.append(status_bar);\n",
       "    this.message = status_bar[0];\n",
       "\n",
       "    // Add the close button to the window.\n",
       "    var buttongrp = $('<div class=\"btn-group inline pull-right\"></div>');\n",
       "    var button = $('<button class=\"btn btn-mini btn-primary\" href=\"#\" title=\"Stop Interaction\"><i class=\"fa fa-power-off icon-remove icon-large\"></i></button>');\n",
       "    button.click(function (evt) { fig.handle_close(fig, {}); } );\n",
       "    button.mouseover('Stop Interaction', toolbar_mouse_event);\n",
       "    buttongrp.append(button);\n",
       "    var titlebar = this.root.find($('.ui-dialog-titlebar'));\n",
       "    titlebar.prepend(buttongrp);\n",
       "}\n",
       "\n",
       "mpl.figure.prototype._root_extra_style = function(el){\n",
       "    var fig = this\n",
       "    el.on(\"remove\", function(){\n",
       "\tfig.close_ws(fig, {});\n",
       "    });\n",
       "}\n",
       "\n",
       "mpl.figure.prototype._canvas_extra_style = function(el){\n",
       "    // this is important to make the div 'focusable\n",
       "    el.attr('tabindex', 0)\n",
       "    // reach out to IPython and tell the keyboard manager to turn it's self\n",
       "    // off when our div gets focus\n",
       "\n",
       "    // location in version 3\n",
       "    if (IPython.notebook.keyboard_manager) {\n",
       "        IPython.notebook.keyboard_manager.register_events(el);\n",
       "    }\n",
       "    else {\n",
       "        // location in version 2\n",
       "        IPython.keyboard_manager.register_events(el);\n",
       "    }\n",
       "\n",
       "}\n",
       "\n",
       "mpl.figure.prototype._key_event_extra = function(event, name) {\n",
       "    var manager = IPython.notebook.keyboard_manager;\n",
       "    if (!manager)\n",
       "        manager = IPython.keyboard_manager;\n",
       "\n",
       "    // Check for shift+enter\n",
       "    if (event.shiftKey && event.which == 13) {\n",
       "        this.canvas_div.blur();\n",
       "        event.shiftKey = false;\n",
       "        // Send a \"J\" for go to next cell\n",
       "        event.which = 74;\n",
       "        event.keyCode = 74;\n",
       "        manager.command_mode();\n",
       "        manager.handle_keydown(event);\n",
       "    }\n",
       "}\n",
       "\n",
       "mpl.figure.prototype.handle_save = function(fig, msg) {\n",
       "    fig.ondownload(fig, null);\n",
       "}\n",
       "\n",
       "\n",
       "mpl.find_output_cell = function(html_output) {\n",
       "    // Return the cell and output element which can be found *uniquely* in the notebook.\n",
       "    // Note - this is a bit hacky, but it is done because the \"notebook_saving.Notebook\"\n",
       "    // IPython event is triggered only after the cells have been serialised, which for\n",
       "    // our purposes (turning an active figure into a static one), is too late.\n",
       "    var cells = IPython.notebook.get_cells();\n",
       "    var ncells = cells.length;\n",
       "    for (var i=0; i<ncells; i++) {\n",
       "        var cell = cells[i];\n",
       "        if (cell.cell_type === 'code'){\n",
       "            for (var j=0; j<cell.output_area.outputs.length; j++) {\n",
       "                var data = cell.output_area.outputs[j];\n",
       "                if (data.data) {\n",
       "                    // IPython >= 3 moved mimebundle to data attribute of output\n",
       "                    data = data.data;\n",
       "                }\n",
       "                if (data['text/html'] == html_output) {\n",
       "                    return [cell, data, j];\n",
       "                }\n",
       "            }\n",
       "        }\n",
       "    }\n",
       "}\n",
       "\n",
       "// Register the function which deals with the matplotlib target/channel.\n",
       "// The kernel may be null if the page has been refreshed.\n",
       "if (IPython.notebook.kernel != null) {\n",
       "    IPython.notebook.kernel.comm_manager.register_target('matplotlib', mpl.mpl_figure_comm);\n",
       "}\n"
      ],
      "text/plain": [
       "<IPython.core.display.Javascript object>"
      ]
     },
     "metadata": {},
     "output_type": "display_data"
    },
    {
     "data": {
      "text/html": [
       "<img src=\"data:image/png;base64,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\" width=\"499.9999891627921\">"
      ],
      "text/plain": [
       "<IPython.core.display.HTML object>"
      ]
     },
     "metadata": {},
     "output_type": "display_data"
    },
    {
     "data": {
      "application/vnd.jupyter.widget-view+json": {
       "model_id": "9892732d846d49faa004617f04983d96",
       "version_major": 2,
       "version_minor": 0
      },
      "text/plain": [
       "interactive(children=(FloatSlider(value=0.5, description='profScl', max=1.5, min=0.5, step=0.05), FloatSlider(…"
      ]
     },
     "metadata": {},
     "output_type": "display_data"
    }
   ],
   "source": [
    "# Run this to see widget, it isn't important to understand the code\n",
    "%matplotlib notebook\n",
    "from ipywidgets import *\n",
    "from matplotlib import pyplot as plt\n",
    "from matplotlib.path import Path\n",
    "from matplotlib.patches import PathPatch\n",
    "import numpy as np\n",
    "from pyomo.environ import *\n",
    "\n",
    "def WyndorInteractiveGraph( coefSlider = False, constraintSlider = False):\n",
    "\n",
    "    # create model instance\n",
    "    model = ConcreteModel( name = \"Wyndor\" )\n",
    "\n",
    "    # decision variables\n",
    "    model.doors = Var( domain = NonNegativeReals )\n",
    "    model.windows = Var( domain = NonNegativeReals )\n",
    "\n",
    "    # objective function\n",
    "    model.c1 = Param(default=3,mutable=True)\n",
    "    model.c2 = Param(default=5,mutable=True)\n",
    "    model.profit = Objective(expr = model.c1 * model.doors + \n",
    "                             model.c2 * model.windows, sense = maximize )\n",
    "\n",
    "    # constraints\n",
    "    model.b1 = Param(default=4,mutable=True)\n",
    "    model.b2 = Param(default=12,mutable=True)\n",
    "    model.b3 = Param(default=18,mutable=True)\n",
    "    model.ct_plant1 = Constraint( expr = model.doors <= model.b1 )\n",
    "    model.ct_plant2 = Constraint( expr = 2*model.windows <= model.b2 )\n",
    "    model.ct_plant3 = Constraint( expr = 3*model.doors + 2*model.windows <= model.b3 )\n",
    "\n",
    "    # solver\n",
    "    solver = SolverFactory('glpk')\n",
    "\n",
    "    # use seaborn to change the default graphics to something nicer\n",
    "    # and set a nice color palette\n",
    "    import seaborn as sns\n",
    "    sns.set_palette('Set1')\n",
    "\n",
    "    # create the plot object\n",
    "    fig, ax = plt.subplots(figsize=(5,5))\n",
    "    d = np.linspace(0, 12)\n",
    "\n",
    "    # plant 1 capacity\n",
    "    plant1_line, = plt.plot(4 * np.ones_like(d), d, lw=3, label='Plant 1',color='b')\n",
    "    plant1_fill = plt.fill_betweenx(d, 0, 4, alpha=0.1,color='b')\n",
    "\n",
    "    # plant 2 capacity\n",
    "    plant2_line, = plt.plot(d, 12/2*np.ones_like(d), lw=3, label='Plant 2',color='r')\n",
    "    plant2_fill = plt.fill_between(d, 0, 6, alpha=0.1,color='r')\n",
    "\n",
    "    # plant 3 capacity\n",
    "    plant3_line, = plt.plot(d, (18-3*d)/2, lw=3, label='Plant 3',color='g')\n",
    "    plant3_fill = plt.fill_between(d, 0, (18-3*d)/2, alpha=0.1,color='g')\n",
    "\n",
    "    # add non-negativity constraints\n",
    "    plt.plot(np.zeros_like(d), d, lw=3, label='d non-negative',color='c')\n",
    "    plt.plot(d, np.zeros_like(d), lw=3, label='w non-negative',color='m')\n",
    "\n",
    "\n",
    "    # level curve for profit P\n",
    "    profit_line, = plt.plot(d, (36-3*d)/5, 'k--', lw = 3, label = 'profit')\n",
    "\n",
    "    # labels and stuff\n",
    "    plt.xlabel('doors', fontsize=16)\n",
    "    plt.ylabel('windows', fontsize=16)\n",
    "    plt.xlim(-0.05, 12)\n",
    "    plt.ylim(-0.05, 12)\n",
    "    plt.legend(loc = 'upper right',fontsize=12)\n",
    "\n",
    "    # additional elements\n",
    "    # pt, = plt.plot(20, 60, 'k.', markersize = 20 )\n",
    "    # txt = plt.text( 81, 67.5, '= 180', fontsize = 14, zorder=10)\n",
    "    txt = plt.text( 6.2, 6.4, 'Profit = 18', fontsize = 12)\n",
    "    # txt2 = plt.text( 7, 6.6, 'Max Prof. = 36',fontsize = 12)\n",
    "\n",
    "    plt.show()\n",
    "    \n",
    "    plim = (.5,1.5,.05)\n",
    "    c1lim = (0,8,.5)\n",
    "    c1fix = fixed(3)\n",
    "    c2lim = (0,8,.5)\n",
    "    c2fix = fixed(5)\n",
    "    b1lim = (1,7)\n",
    "    b1fix = fixed(4)\n",
    "    b2lim = (6,18)\n",
    "    b2fix = fixed(12)\n",
    "    b3lim = (12,24)\n",
    "    b3fix = fixed(18)\n",
    "\n",
    "    def update( profScl = .5, c1 = 3, c2 = 5, b1 = 4, b2 = 12, b3 = 18):\n",
    "        model.c1 = c1\n",
    "        model.c2 = c2\n",
    "        model.b1 = b1\n",
    "        model.b2 = b2\n",
    "        model.b3 = b3\n",
    "        solver.solve(model)\n",
    "        mxprofit = model.profit()\n",
    "        profit = mxprofit*profScl\n",
    " \n",
    "        profit_line.set_ydata((profit-c1*d)/(c2+.0001)) # hack to avoid div by 0\n",
    "        \n",
    "        ax.collections.clear()\n",
    "\n",
    "        plant1_line.set_xdata(b1 * np.ones_like(d))\n",
    "        plt.fill_betweenx(d, 0, b1, alpha=0.1,color='b')\n",
    "        \n",
    "        plant2_line.set_ydata(b2/2 * np.ones_like(d))\n",
    "        plt.fill_between(d, 0, b2/2, alpha=0.1,color='r')\n",
    "        \n",
    "        plant3_line.set_ydata((b3-3*d)/2)\n",
    "        plt.fill_between(d, 0, (b3-3*d)/2, alpha=0.1,color='g')    \n",
    "\n",
    "        txt.set_text('Profit = {:3.2f}'.format(profit) )\n",
    "        # txt2.set_text('Max Prof. = {:3.2f}'.format(mxprofit) )\n",
    "        fig.canvas.draw()\n",
    "    \n",
    "    if (coefSlider and constraintSlider):\n",
    "        interact(update,profScl=plim,c1=c1lim,c2=c2lim,b1=b1lim,b2=b2lim,b3=b3lim);\n",
    "    elif (coefSlider and not constraintSlider):\n",
    "        interact(update,profScl=plim,c1=c1lim,c2=c2lim,b1=b1fix,b2=b2fix,b3=b3fix);\n",
    "    elif (not coefSlider and constraintSlider):\n",
    "        interact(update,profScl=plim,c1=c1fix,c2=c2fix,b1=b1lim,b2=b2lim,b3=b3lim);\n",
    "    else: \n",
    "        interact(update,profScl=plim,c1=c1fix,c2=c2fix,b1=b1fix,b2=b2fix,b3=b3fix);\n",
    "                 \n",
    "WyndorInteractiveGraph(True,True)"
   ]
  },
  {
   "cell_type": "markdown",
   "metadata": {
    "heading_collapsed": true,
    "hidden": true
   },
   "source": [
    "## Wyndor Minimize Cost Widget"
   ]
  },
  {
   "cell_type": "markdown",
   "metadata": {
    "hidden": true
   },
   "source": [
    "Let's modify the Wyndor problem to minimize the cost of producing doors and windows.\n",
    "\n",
    "$Z$ now represents the cost in thousands of dollars.  $x_1$ and $x_2$ are the batches of doors and windows, respectively.  If we include only the original constraints, then the minimum cost occurs when $x_1 = 0$ and $x_2 = 0$, that is we produce nothing.  However, the Wyndor Company also wants to produce a total of at least 3 batches of doors and/or windows to keep the plants running. \n",
    "\n",
    "The constraints below, in order, represent the production capacities of Plants 1, 2, and 3, as well as the minimum production constraint.  \n",
    "\n",
    "Minimize $Z = 2 x_1 + 3 x_2$\n",
    "\n",
    "Subject to:\n",
    "\n",
    "$\n",
    "\\begin{array}{ccccc}\n",
    " x_1 &   &      & \\leq & 4 \\\\\n",
    "     &   & 2x_2 & \\leq & 12 \\\\\n",
    "3x_1 & + & 2x_2 & \\leq & 18 \\\\\n",
    " x_1 & + &  x_2 & \\geq & 3 \n",
    "\\end{array}\n",
    "$\n",
    "\n",
    "Use the widget below to explore the Wyndor cost minimization model. \n",
    "\n",
    "* Where does the minimum cost occur?\n",
    "* If b4 is 0 so that the minimum number produced is zero, then what is the minimum cost?\n",
    "* What is the maximum cost?  Where does it occur?"
   ]
  },
  {
   "cell_type": "code",
   "execution_count": null,
   "metadata": {
    "code_folding": [
     0
    ],
    "collapsed": true,
    "hidden": true
   },
   "outputs": [],
   "source": [
    "# Run this to see widget, it isn't important to understand the code\n",
    "%matplotlib notebook\n",
    "from ipywidgets import *\n",
    "from matplotlib import pyplot as plt\n",
    "from matplotlib.path import Path\n",
    "from matplotlib.patches import PathPatch\n",
    "import numpy as np\n",
    "from pyomo.environ import *\n",
    "\n",
    "def WyndorInteractiveGraph2( coefSlider = False, constraintSlider = False):\n",
    "\n",
    "    # create model instance\n",
    "    model = ConcreteModel( name = \"Wyndor\" )\n",
    "\n",
    "    # decision variables\n",
    "    model.doors = Var( domain = NonNegativeReals )\n",
    "    model.windows = Var( domain = NonNegativeReals )\n",
    "\n",
    "    # objective function\n",
    "    model.c1 = Param(default=2,mutable=True)\n",
    "    model.c2 = Param(default=3,mutable=True)\n",
    "    model.cost = Objective(expr = model.c1 * model.doors + \n",
    "                             model.c2 * model.windows, sense = minimize)\n",
    "\n",
    "    # constraints\n",
    "    model.b1 = Param(default=4,mutable=True)\n",
    "    model.b2 = Param(default=12,mutable=True)\n",
    "    model.b3 = Param(default=18,mutable=True)\n",
    "    model.b4 = Param(default=3,mutable=True)\n",
    "    model.ct_plant1 = Constraint( expr = model.doors <= model.b1 )\n",
    "    model.ct_plant2 = Constraint( expr = 2*model.windows <= model.b2 )\n",
    "    model.ct_plant3 = Constraint( expr = 3*model.doors + 2*model.windows <= model.b3 )\n",
    "    model.ct_minprod = Constraint( expr = model.doors + model.windows >= model.b4 )\n",
    "\n",
    "    # solver\n",
    "    solver = SolverFactory('glpk')\n",
    "\n",
    "    # use seaborn to change the default graphics to something nicer\n",
    "    # and set a nice color palette\n",
    "    import seaborn as sns\n",
    "    sns.set_palette('Set1')\n",
    "\n",
    "    # create the plot object\n",
    "    fig, ax = plt.subplots(figsize=(5,5))\n",
    "    d = np.linspace(0, 12)\n",
    "\n",
    "    # plant 1 capacity\n",
    "    plant1_line, = plt.plot(4 * np.ones_like(d), d, lw=3, label='Plant 1',color='b')\n",
    "    plant1_fill = plt.fill_betweenx(d, 0, 4, alpha=0.1,color='b')\n",
    "\n",
    "    # plant 2 capacity\n",
    "    plant2_line, = plt.plot(d, 12/2*np.ones_like(d), lw=3, label='Plant 2',color='r')\n",
    "    plant2_fill = plt.fill_between(d, 0, 6, alpha=0.1,color='r')\n",
    "\n",
    "    # plant 3 capacity\n",
    "    plant3_line, = plt.plot(d, (18-3*d)/2, lw=3, label='Plant 3',color='g')\n",
    "    plant3_fill = plt.fill_between(d, 0, (18-3*d)/2, alpha=0.1,color='g')\n",
    "    \n",
    "    # min production\n",
    "    minprod_line, = plt.plot(d, 3 - d, lw=3, label = 'Min Prod', color='y')\n",
    "    minprod_fill = plt.fill_between(d, 3-d, 12, alpha=0.1, color='y')\n",
    "\n",
    "    # add non-negativity constraints\n",
    "    plt.plot(np.zeros_like(d), d, lw=3, label='d non-negative',color='c')\n",
    "    plt.plot(d, np.zeros_like(d), lw=3, label='w non-negative',color='m')\n",
    "\n",
    "\n",
    "    # level curve for profit P\n",
    "    cost_line, = plt.plot(d, (13.5-2*d)/3, 'k--', lw = 3, label = 'cost')\n",
    "\n",
    "    # labels and stuff\n",
    "    plt.xlabel('doors', fontsize=16)\n",
    "    plt.ylabel('windows', fontsize=16)\n",
    "    plt.xlim(-0.05, 12)\n",
    "    plt.ylim(-0.05, 12)\n",
    "    plt.legend(loc = 'upper right',fontsize=12)\n",
    "\n",
    "    # additional elements\n",
    "    # pt, = plt.plot(20, 60, 'k.', markersize = 20 )\n",
    "    # txt = plt.text( 81, 67.5, '= 180', fontsize = 14, zorder=10)\n",
    "    txt = plt.text( 6.2, 5.4, 'Cost = 999', fontsize = 12)\n",
    "    # txt2 = plt.text( 7, 6.6, 'Max Prof. = 36',fontsize = 12)\n",
    "\n",
    "    plt.show()\n",
    "    \n",
    "    clim = (.05,1.95,.05)\n",
    "    c1lim = (0,8,.5)\n",
    "    c1fix = fixed(2)\n",
    "    c2lim = (0,8,.5)\n",
    "    c2fix = fixed(3)\n",
    "    b1lim = (1,7)\n",
    "    b1fix = fixed(4)\n",
    "    b2lim = (6,18)\n",
    "    b2fix = fixed(12)\n",
    "    b3lim = (12,24)\n",
    "    b3fix = fixed(18)\n",
    "    b4lim = (0,4)\n",
    "    b4fix = fixed(3)\n",
    "\n",
    "    def update( costScl = 1.95, c1 = 2, c2 = 3, b1 = 4, b2 = 12, b3 = 18, b4 = 3):\n",
    "        model.c1 = c1\n",
    "        model.c2 = c2\n",
    "        model.b1 = b1\n",
    "        model.b2 = b2\n",
    "        model.b3 = b3\n",
    "        model.b4 = b4\n",
    "        solver.solve(model)\n",
    "        mncost = model.cost()\n",
    "        cost = mncost*costScl\n",
    " \n",
    "        cost_line.set_ydata((cost-c1*d)/(c2+.0001)) # hack to avoid div by 0\n",
    "        \n",
    "        ax.collections.clear()\n",
    "\n",
    "        plant1_line.set_xdata(b1 * np.ones_like(d))\n",
    "        plt.fill_betweenx(d, 0, b1, alpha=0.1,color='b')\n",
    "        \n",
    "        plant2_line.set_ydata(b2/2 * np.ones_like(d))\n",
    "        plt.fill_between(d, 0, b2/2, alpha=0.1,color='r')\n",
    "        \n",
    "        plant3_line.set_ydata((b3-3*d)/2)\n",
    "        plt.fill_between(d, 0, (b3-3*d)/2, alpha=0.1,color='g')  \n",
    "        \n",
    "        minprod_line.set_ydata(b4-d)\n",
    "        plt.fill_between(d,b4-d,12,alpha=0.1,color='y')\n",
    "\n",
    "        txt.set_text('Cost = {:3.2f}'.format(cost) )\n",
    "        fig.canvas.draw()\n",
    "    \n",
    "    if (coefSlider and constraintSlider):\n",
    "        interact(update,costScl=clim,c1=c1lim,c2=c2lim,b1=b1lim,b2=b2lim,b3=b3lim,b4=b4lim);\n",
    "    elif (coefSlider and not constraintSlider):\n",
    "        interact(update,costScl=clim,c1=c1lim,c2=c2lim,b1=b1fix,b2=b2fix,b3=b3fix,b4=b4fix);\n",
    "    elif (not coefSlider and constraintSlider):\n",
    "        interact(update,costScl=clim,c1=c1fix,c2=c2fix,b1=b1lim,b2=b2lim,b3=b3lim,b4=b4lim);\n",
    "    else: \n",
    "        interact(update,costScl=clim,c1=c1fix,c2=c2fix,b1=b1fix,b2=b2fix,b3=b3fix,b4=b4fix);\n",
    "                 \n",
    "WyndorInteractiveGraph2(True,True)"
   ]
  },
  {
   "cell_type": "markdown",
   "metadata": {
    "heading_collapsed": true,
    "hidden": true
   },
   "source": [
    "### <font color=\"blue\"> Self Assessment:  Graphical Method #4 "
   ]
  },
  {
   "cell_type": "markdown",
   "metadata": {
    "hidden": true
   },
   "source": [
    "**Textbook Problem 3.4-4.** Use the graphical method to solve the problem:  \n",
    "\n",
    "Minimize $Z = 15x_1 + 20x_2,$ \n",
    "\n",
    "subject to \n",
    "\n",
    "$\n",
    "\\begin{array}{rcrcr}\n",
    "x_1 & + & 2x_2 & \\geq & 10 \\\\\n",
    "2 x_1 & - &  3x_2 & \\leq & 6 \\\\\n",
    "x_1 & + & x_2 & \\geq & 6\n",
    "\\end{array}\n",
    "$\n",
    "\n",
    "and $x_1 \\geq 0, x_2 \\geq 0.$ "
   ]
  },
  {
   "cell_type": "markdown",
   "metadata": {
    "heading_collapsed": true,
    "hidden": true
   },
   "source": [
    "## Unbounded Regions"
   ]
  },
  {
   "cell_type": "markdown",
   "metadata": {
    "hidden": true
   },
   "source": [
    "### Widget\n",
    "Play with the widget to see how a maximization (or minimization) linear program may or may not have a maximum value on an unbounded region.  It depends on the objective function.\n",
    "\n",
    "In the problem below there is no upper bound on $x$ so the feasible region is a strip that extends to infinity in the horizontal direction.\n",
    "\n",
    "Try and answer some questions on your own and then watch the video that follows if you want more guidance.\n",
    "\n",
    "* Without changing any other sliders play with zMult.  Is there a minimum value?  Is there a maximum value?\n",
    "* Now change the coefficients c1 and c2 ($ Z = c_1 x + c_2 y $).  Can you find an objective function that has maximum value but no minimum value?\n",
    "* Find coefficients c1 and c2 so that there are infinitely many solutions.\n"
   ]
  },
  {
   "cell_type": "code",
   "execution_count": 3,
   "metadata": {
    "code_folding": [
     0
    ],
    "hidden": true,
    "scrolled": true
   },
   "outputs": [
    {
     "data": {
      "application/javascript": [
       "/* Put everything inside the global mpl namespace */\n",
       "window.mpl = {};\n",
       "\n",
       "\n",
       "mpl.get_websocket_type = function() {\n",
       "    if (typeof(WebSocket) !== 'undefined') {\n",
       "        return WebSocket;\n",
       "    } else if (typeof(MozWebSocket) !== 'undefined') {\n",
       "        return MozWebSocket;\n",
       "    } else {\n",
       "        alert('Your browser does not have WebSocket support.' +\n",
       "              'Please try Chrome, Safari or Firefox ≥ 6. ' +\n",
       "              'Firefox 4 and 5 are also supported but you ' +\n",
       "              'have to enable WebSockets in about:config.');\n",
       "    };\n",
       "}\n",
       "\n",
       "mpl.figure = function(figure_id, websocket, ondownload, parent_element) {\n",
       "    this.id = figure_id;\n",
       "\n",
       "    this.ws = websocket;\n",
       "\n",
       "    this.supports_binary = (this.ws.binaryType != undefined);\n",
       "\n",
       "    if (!this.supports_binary) {\n",
       "        var warnings = document.getElementById(\"mpl-warnings\");\n",
       "        if (warnings) {\n",
       "            warnings.style.display = 'block';\n",
       "            warnings.textContent = (\n",
       "                \"This browser does not support binary websocket messages. \" +\n",
       "                    \"Performance may be slow.\");\n",
       "        }\n",
       "    }\n",
       "\n",
       "    this.imageObj = new Image();\n",
       "\n",
       "    this.context = undefined;\n",
       "    this.message = undefined;\n",
       "    this.canvas = undefined;\n",
       "    this.rubberband_canvas = undefined;\n",
       "    this.rubberband_context = undefined;\n",
       "    this.format_dropdown = undefined;\n",
       "\n",
       "    this.image_mode = 'full';\n",
       "\n",
       "    this.root = $('<div/>');\n",
       "    this._root_extra_style(this.root)\n",
       "    this.root.attr('style', 'display: inline-block');\n",
       "\n",
       "    $(parent_element).append(this.root);\n",
       "\n",
       "    this._init_header(this);\n",
       "    this._init_canvas(this);\n",
       "    this._init_toolbar(this);\n",
       "\n",
       "    var fig = this;\n",
       "\n",
       "    this.waiting = false;\n",
       "\n",
       "    this.ws.onopen =  function () {\n",
       "            fig.send_message(\"supports_binary\", {value: fig.supports_binary});\n",
       "            fig.send_message(\"send_image_mode\", {});\n",
       "            if (mpl.ratio != 1) {\n",
       "                fig.send_message(\"set_dpi_ratio\", {'dpi_ratio': mpl.ratio});\n",
       "            }\n",
       "            fig.send_message(\"refresh\", {});\n",
       "        }\n",
       "\n",
       "    this.imageObj.onload = function() {\n",
       "            if (fig.image_mode == 'full') {\n",
       "                // Full images could contain transparency (where diff images\n",
       "                // almost always do), so we need to clear the canvas so that\n",
       "                // there is no ghosting.\n",
       "                fig.context.clearRect(0, 0, fig.canvas.width, fig.canvas.height);\n",
       "            }\n",
       "            fig.context.drawImage(fig.imageObj, 0, 0);\n",
       "        };\n",
       "\n",
       "    this.imageObj.onunload = function() {\n",
       "        fig.ws.close();\n",
       "    }\n",
       "\n",
       "    this.ws.onmessage = this._make_on_message_function(this);\n",
       "\n",
       "    this.ondownload = ondownload;\n",
       "}\n",
       "\n",
       "mpl.figure.prototype._init_header = function() {\n",
       "    var titlebar = $(\n",
       "        '<div class=\"ui-dialog-titlebar ui-widget-header ui-corner-all ' +\n",
       "        'ui-helper-clearfix\"/>');\n",
       "    var titletext = $(\n",
       "        '<div class=\"ui-dialog-title\" style=\"width: 100%; ' +\n",
       "        'text-align: center; padding: 3px;\"/>');\n",
       "    titlebar.append(titletext)\n",
       "    this.root.append(titlebar);\n",
       "    this.header = titletext[0];\n",
       "}\n",
       "\n",
       "\n",
       "\n",
       "mpl.figure.prototype._canvas_extra_style = function(canvas_div) {\n",
       "\n",
       "}\n",
       "\n",
       "\n",
       "mpl.figure.prototype._root_extra_style = function(canvas_div) {\n",
       "\n",
       "}\n",
       "\n",
       "mpl.figure.prototype._init_canvas = function() {\n",
       "    var fig = this;\n",
       "\n",
       "    var canvas_div = $('<div/>');\n",
       "\n",
       "    canvas_div.attr('style', 'position: relative; clear: both; outline: 0');\n",
       "\n",
       "    function canvas_keyboard_event(event) {\n",
       "        return fig.key_event(event, event['data']);\n",
       "    }\n",
       "\n",
       "    canvas_div.keydown('key_press', canvas_keyboard_event);\n",
       "    canvas_div.keyup('key_release', canvas_keyboard_event);\n",
       "    this.canvas_div = canvas_div\n",
       "    this._canvas_extra_style(canvas_div)\n",
       "    this.root.append(canvas_div);\n",
       "\n",
       "    var canvas = $('<canvas/>');\n",
       "    canvas.addClass('mpl-canvas');\n",
       "    canvas.attr('style', \"left: 0; top: 0; z-index: 0; outline: 0\")\n",
       "\n",
       "    this.canvas = canvas[0];\n",
       "    this.context = canvas[0].getContext(\"2d\");\n",
       "\n",
       "    var backingStore = this.context.backingStorePixelRatio ||\n",
       "\tthis.context.webkitBackingStorePixelRatio ||\n",
       "\tthis.context.mozBackingStorePixelRatio ||\n",
       "\tthis.context.msBackingStorePixelRatio ||\n",
       "\tthis.context.oBackingStorePixelRatio ||\n",
       "\tthis.context.backingStorePixelRatio || 1;\n",
       "\n",
       "    mpl.ratio = (window.devicePixelRatio || 1) / backingStore;\n",
       "\n",
       "    var rubberband = $('<canvas/>');\n",
       "    rubberband.attr('style', \"position: absolute; left: 0; top: 0; z-index: 1;\")\n",
       "\n",
       "    var pass_mouse_events = true;\n",
       "\n",
       "    canvas_div.resizable({\n",
       "        start: function(event, ui) {\n",
       "            pass_mouse_events = false;\n",
       "        },\n",
       "        resize: function(event, ui) {\n",
       "            fig.request_resize(ui.size.width, ui.size.height);\n",
       "        },\n",
       "        stop: function(event, ui) {\n",
       "            pass_mouse_events = true;\n",
       "            fig.request_resize(ui.size.width, ui.size.height);\n",
       "        },\n",
       "    });\n",
       "\n",
       "    function mouse_event_fn(event) {\n",
       "        if (pass_mouse_events)\n",
       "            return fig.mouse_event(event, event['data']);\n",
       "    }\n",
       "\n",
       "    rubberband.mousedown('button_press', mouse_event_fn);\n",
       "    rubberband.mouseup('button_release', mouse_event_fn);\n",
       "    // Throttle sequential mouse events to 1 every 20ms.\n",
       "    rubberband.mousemove('motion_notify', mouse_event_fn);\n",
       "\n",
       "    rubberband.mouseenter('figure_enter', mouse_event_fn);\n",
       "    rubberband.mouseleave('figure_leave', mouse_event_fn);\n",
       "\n",
       "    canvas_div.on(\"wheel\", function (event) {\n",
       "        event = event.originalEvent;\n",
       "        event['data'] = 'scroll'\n",
       "        if (event.deltaY < 0) {\n",
       "            event.step = 1;\n",
       "        } else {\n",
       "            event.step = -1;\n",
       "        }\n",
       "        mouse_event_fn(event);\n",
       "    });\n",
       "\n",
       "    canvas_div.append(canvas);\n",
       "    canvas_div.append(rubberband);\n",
       "\n",
       "    this.rubberband = rubberband;\n",
       "    this.rubberband_canvas = rubberband[0];\n",
       "    this.rubberband_context = rubberband[0].getContext(\"2d\");\n",
       "    this.rubberband_context.strokeStyle = \"#000000\";\n",
       "\n",
       "    this._resize_canvas = function(width, height) {\n",
       "        // Keep the size of the canvas, canvas container, and rubber band\n",
       "        // canvas in synch.\n",
       "        canvas_div.css('width', width)\n",
       "        canvas_div.css('height', height)\n",
       "\n",
       "        canvas.attr('width', width * mpl.ratio);\n",
       "        canvas.attr('height', height * mpl.ratio);\n",
       "        canvas.attr('style', 'width: ' + width + 'px; height: ' + height + 'px;');\n",
       "\n",
       "        rubberband.attr('width', width);\n",
       "        rubberband.attr('height', height);\n",
       "    }\n",
       "\n",
       "    // Set the figure to an initial 600x600px, this will subsequently be updated\n",
       "    // upon first draw.\n",
       "    this._resize_canvas(600, 600);\n",
       "\n",
       "    // Disable right mouse context menu.\n",
       "    $(this.rubberband_canvas).bind(\"contextmenu\",function(e){\n",
       "        return false;\n",
       "    });\n",
       "\n",
       "    function set_focus () {\n",
       "        canvas.focus();\n",
       "        canvas_div.focus();\n",
       "    }\n",
       "\n",
       "    window.setTimeout(set_focus, 100);\n",
       "}\n",
       "\n",
       "mpl.figure.prototype._init_toolbar = function() {\n",
       "    var fig = this;\n",
       "\n",
       "    var nav_element = $('<div/>')\n",
       "    nav_element.attr('style', 'width: 100%');\n",
       "    this.root.append(nav_element);\n",
       "\n",
       "    // Define a callback function for later on.\n",
       "    function toolbar_event(event) {\n",
       "        return fig.toolbar_button_onclick(event['data']);\n",
       "    }\n",
       "    function toolbar_mouse_event(event) {\n",
       "        return fig.toolbar_button_onmouseover(event['data']);\n",
       "    }\n",
       "\n",
       "    for(var toolbar_ind in mpl.toolbar_items) {\n",
       "        var name = mpl.toolbar_items[toolbar_ind][0];\n",
       "        var tooltip = mpl.toolbar_items[toolbar_ind][1];\n",
       "        var image = mpl.toolbar_items[toolbar_ind][2];\n",
       "        var method_name = mpl.toolbar_items[toolbar_ind][3];\n",
       "\n",
       "        if (!name) {\n",
       "            // put a spacer in here.\n",
       "            continue;\n",
       "        }\n",
       "        var button = $('<button/>');\n",
       "        button.addClass('ui-button ui-widget ui-state-default ui-corner-all ' +\n",
       "                        'ui-button-icon-only');\n",
       "        button.attr('role', 'button');\n",
       "        button.attr('aria-disabled', 'false');\n",
       "        button.click(method_name, toolbar_event);\n",
       "        button.mouseover(tooltip, toolbar_mouse_event);\n",
       "\n",
       "        var icon_img = $('<span/>');\n",
       "        icon_img.addClass('ui-button-icon-primary ui-icon');\n",
       "        icon_img.addClass(image);\n",
       "        icon_img.addClass('ui-corner-all');\n",
       "\n",
       "        var tooltip_span = $('<span/>');\n",
       "        tooltip_span.addClass('ui-button-text');\n",
       "        tooltip_span.html(tooltip);\n",
       "\n",
       "        button.append(icon_img);\n",
       "        button.append(tooltip_span);\n",
       "\n",
       "        nav_element.append(button);\n",
       "    }\n",
       "\n",
       "    var fmt_picker_span = $('<span/>');\n",
       "\n",
       "    var fmt_picker = $('<select/>');\n",
       "    fmt_picker.addClass('mpl-toolbar-option ui-widget ui-widget-content');\n",
       "    fmt_picker_span.append(fmt_picker);\n",
       "    nav_element.append(fmt_picker_span);\n",
       "    this.format_dropdown = fmt_picker[0];\n",
       "\n",
       "    for (var ind in mpl.extensions) {\n",
       "        var fmt = mpl.extensions[ind];\n",
       "        var option = $(\n",
       "            '<option/>', {selected: fmt === mpl.default_extension}).html(fmt);\n",
       "        fmt_picker.append(option)\n",
       "    }\n",
       "\n",
       "    // Add hover states to the ui-buttons\n",
       "    $( \".ui-button\" ).hover(\n",
       "        function() { $(this).addClass(\"ui-state-hover\");},\n",
       "        function() { $(this).removeClass(\"ui-state-hover\");}\n",
       "    );\n",
       "\n",
       "    var status_bar = $('<span class=\"mpl-message\"/>');\n",
       "    nav_element.append(status_bar);\n",
       "    this.message = status_bar[0];\n",
       "}\n",
       "\n",
       "mpl.figure.prototype.request_resize = function(x_pixels, y_pixels) {\n",
       "    // Request matplotlib to resize the figure. Matplotlib will then trigger a resize in the client,\n",
       "    // which will in turn request a refresh of the image.\n",
       "    this.send_message('resize', {'width': x_pixels, 'height': y_pixels});\n",
       "}\n",
       "\n",
       "mpl.figure.prototype.send_message = function(type, properties) {\n",
       "    properties['type'] = type;\n",
       "    properties['figure_id'] = this.id;\n",
       "    this.ws.send(JSON.stringify(properties));\n",
       "}\n",
       "\n",
       "mpl.figure.prototype.send_draw_message = function() {\n",
       "    if (!this.waiting) {\n",
       "        this.waiting = true;\n",
       "        this.ws.send(JSON.stringify({type: \"draw\", figure_id: this.id}));\n",
       "    }\n",
       "}\n",
       "\n",
       "\n",
       "mpl.figure.prototype.handle_save = function(fig, msg) {\n",
       "    var format_dropdown = fig.format_dropdown;\n",
       "    var format = format_dropdown.options[format_dropdown.selectedIndex].value;\n",
       "    fig.ondownload(fig, format);\n",
       "}\n",
       "\n",
       "\n",
       "mpl.figure.prototype.handle_resize = function(fig, msg) {\n",
       "    var size = msg['size'];\n",
       "    if (size[0] != fig.canvas.width || size[1] != fig.canvas.height) {\n",
       "        fig._resize_canvas(size[0], size[1]);\n",
       "        fig.send_message(\"refresh\", {});\n",
       "    };\n",
       "}\n",
       "\n",
       "mpl.figure.prototype.handle_rubberband = function(fig, msg) {\n",
       "    var x0 = msg['x0'] / mpl.ratio;\n",
       "    var y0 = (fig.canvas.height - msg['y0']) / mpl.ratio;\n",
       "    var x1 = msg['x1'] / mpl.ratio;\n",
       "    var y1 = (fig.canvas.height - msg['y1']) / mpl.ratio;\n",
       "    x0 = Math.floor(x0) + 0.5;\n",
       "    y0 = Math.floor(y0) + 0.5;\n",
       "    x1 = Math.floor(x1) + 0.5;\n",
       "    y1 = Math.floor(y1) + 0.5;\n",
       "    var min_x = Math.min(x0, x1);\n",
       "    var min_y = Math.min(y0, y1);\n",
       "    var width = Math.abs(x1 - x0);\n",
       "    var height = Math.abs(y1 - y0);\n",
       "\n",
       "    fig.rubberband_context.clearRect(\n",
       "        0, 0, fig.canvas.width, fig.canvas.height);\n",
       "\n",
       "    fig.rubberband_context.strokeRect(min_x, min_y, width, height);\n",
       "}\n",
       "\n",
       "mpl.figure.prototype.handle_figure_label = function(fig, msg) {\n",
       "    // Updates the figure title.\n",
       "    fig.header.textContent = msg['label'];\n",
       "}\n",
       "\n",
       "mpl.figure.prototype.handle_cursor = function(fig, msg) {\n",
       "    var cursor = msg['cursor'];\n",
       "    switch(cursor)\n",
       "    {\n",
       "    case 0:\n",
       "        cursor = 'pointer';\n",
       "        break;\n",
       "    case 1:\n",
       "        cursor = 'default';\n",
       "        break;\n",
       "    case 2:\n",
       "        cursor = 'crosshair';\n",
       "        break;\n",
       "    case 3:\n",
       "        cursor = 'move';\n",
       "        break;\n",
       "    }\n",
       "    fig.rubberband_canvas.style.cursor = cursor;\n",
       "}\n",
       "\n",
       "mpl.figure.prototype.handle_message = function(fig, msg) {\n",
       "    fig.message.textContent = msg['message'];\n",
       "}\n",
       "\n",
       "mpl.figure.prototype.handle_draw = function(fig, msg) {\n",
       "    // Request the server to send over a new figure.\n",
       "    fig.send_draw_message();\n",
       "}\n",
       "\n",
       "mpl.figure.prototype.handle_image_mode = function(fig, msg) {\n",
       "    fig.image_mode = msg['mode'];\n",
       "}\n",
       "\n",
       "mpl.figure.prototype.updated_canvas_event = function() {\n",
       "    // Called whenever the canvas gets updated.\n",
       "    this.send_message(\"ack\", {});\n",
       "}\n",
       "\n",
       "// A function to construct a web socket function for onmessage handling.\n",
       "// Called in the figure constructor.\n",
       "mpl.figure.prototype._make_on_message_function = function(fig) {\n",
       "    return function socket_on_message(evt) {\n",
       "        if (evt.data instanceof Blob) {\n",
       "            /* FIXME: We get \"Resource interpreted as Image but\n",
       "             * transferred with MIME type text/plain:\" errors on\n",
       "             * Chrome.  But how to set the MIME type?  It doesn't seem\n",
       "             * to be part of the websocket stream */\n",
       "            evt.data.type = \"image/png\";\n",
       "\n",
       "            /* Free the memory for the previous frames */\n",
       "            if (fig.imageObj.src) {\n",
       "                (window.URL || window.webkitURL).revokeObjectURL(\n",
       "                    fig.imageObj.src);\n",
       "            }\n",
       "\n",
       "            fig.imageObj.src = (window.URL || window.webkitURL).createObjectURL(\n",
       "                evt.data);\n",
       "            fig.updated_canvas_event();\n",
       "            fig.waiting = false;\n",
       "            return;\n",
       "        }\n",
       "        else if (typeof evt.data === 'string' && evt.data.slice(0, 21) == \"data:image/png;base64\") {\n",
       "            fig.imageObj.src = evt.data;\n",
       "            fig.updated_canvas_event();\n",
       "            fig.waiting = false;\n",
       "            return;\n",
       "        }\n",
       "\n",
       "        var msg = JSON.parse(evt.data);\n",
       "        var msg_type = msg['type'];\n",
       "\n",
       "        // Call the  \"handle_{type}\" callback, which takes\n",
       "        // the figure and JSON message as its only arguments.\n",
       "        try {\n",
       "            var callback = fig[\"handle_\" + msg_type];\n",
       "        } catch (e) {\n",
       "            console.log(\"No handler for the '\" + msg_type + \"' message type: \", msg);\n",
       "            return;\n",
       "        }\n",
       "\n",
       "        if (callback) {\n",
       "            try {\n",
       "                // console.log(\"Handling '\" + msg_type + \"' message: \", msg);\n",
       "                callback(fig, msg);\n",
       "            } catch (e) {\n",
       "                console.log(\"Exception inside the 'handler_\" + msg_type + \"' callback:\", e, e.stack, msg);\n",
       "            }\n",
       "        }\n",
       "    };\n",
       "}\n",
       "\n",
       "// from http://stackoverflow.com/questions/1114465/getting-mouse-location-in-canvas\n",
       "mpl.findpos = function(e) {\n",
       "    //this section is from http://www.quirksmode.org/js/events_properties.html\n",
       "    var targ;\n",
       "    if (!e)\n",
       "        e = window.event;\n",
       "    if (e.target)\n",
       "        targ = e.target;\n",
       "    else if (e.srcElement)\n",
       "        targ = e.srcElement;\n",
       "    if (targ.nodeType == 3) // defeat Safari bug\n",
       "        targ = targ.parentNode;\n",
       "\n",
       "    // jQuery normalizes the pageX and pageY\n",
       "    // pageX,Y are the mouse positions relative to the document\n",
       "    // offset() returns the position of the element relative to the document\n",
       "    var x = e.pageX - $(targ).offset().left;\n",
       "    var y = e.pageY - $(targ).offset().top;\n",
       "\n",
       "    return {\"x\": x, \"y\": y};\n",
       "};\n",
       "\n",
       "/*\n",
       " * return a copy of an object with only non-object keys\n",
       " * we need this to avoid circular references\n",
       " * http://stackoverflow.com/a/24161582/3208463\n",
       " */\n",
       "function simpleKeys (original) {\n",
       "  return Object.keys(original).reduce(function (obj, key) {\n",
       "    if (typeof original[key] !== 'object')\n",
       "        obj[key] = original[key]\n",
       "    return obj;\n",
       "  }, {});\n",
       "}\n",
       "\n",
       "mpl.figure.prototype.mouse_event = function(event, name) {\n",
       "    var canvas_pos = mpl.findpos(event)\n",
       "\n",
       "    if (name === 'button_press')\n",
       "    {\n",
       "        this.canvas.focus();\n",
       "        this.canvas_div.focus();\n",
       "    }\n",
       "\n",
       "    var x = canvas_pos.x * mpl.ratio;\n",
       "    var y = canvas_pos.y * mpl.ratio;\n",
       "\n",
       "    this.send_message(name, {x: x, y: y, button: event.button,\n",
       "                             step: event.step,\n",
       "                             guiEvent: simpleKeys(event)});\n",
       "\n",
       "    /* This prevents the web browser from automatically changing to\n",
       "     * the text insertion cursor when the button is pressed.  We want\n",
       "     * to control all of the cursor setting manually through the\n",
       "     * 'cursor' event from matplotlib */\n",
       "    event.preventDefault();\n",
       "    return false;\n",
       "}\n",
       "\n",
       "mpl.figure.prototype._key_event_extra = function(event, name) {\n",
       "    // Handle any extra behaviour associated with a key event\n",
       "}\n",
       "\n",
       "mpl.figure.prototype.key_event = function(event, name) {\n",
       "\n",
       "    // Prevent repeat events\n",
       "    if (name == 'key_press')\n",
       "    {\n",
       "        if (event.which === this._key)\n",
       "            return;\n",
       "        else\n",
       "            this._key = event.which;\n",
       "    }\n",
       "    if (name == 'key_release')\n",
       "        this._key = null;\n",
       "\n",
       "    var value = '';\n",
       "    if (event.ctrlKey && event.which != 17)\n",
       "        value += \"ctrl+\";\n",
       "    if (event.altKey && event.which != 18)\n",
       "        value += \"alt+\";\n",
       "    if (event.shiftKey && event.which != 16)\n",
       "        value += \"shift+\";\n",
       "\n",
       "    value += 'k';\n",
       "    value += event.which.toString();\n",
       "\n",
       "    this._key_event_extra(event, name);\n",
       "\n",
       "    this.send_message(name, {key: value,\n",
       "                             guiEvent: simpleKeys(event)});\n",
       "    return false;\n",
       "}\n",
       "\n",
       "mpl.figure.prototype.toolbar_button_onclick = function(name) {\n",
       "    if (name == 'download') {\n",
       "        this.handle_save(this, null);\n",
       "    } else {\n",
       "        this.send_message(\"toolbar_button\", {name: name});\n",
       "    }\n",
       "};\n",
       "\n",
       "mpl.figure.prototype.toolbar_button_onmouseover = function(tooltip) {\n",
       "    this.message.textContent = tooltip;\n",
       "};\n",
       "mpl.toolbar_items = [[\"Home\", \"Reset original view\", \"fa fa-home icon-home\", \"home\"], [\"Back\", \"Back to  previous view\", \"fa fa-arrow-left icon-arrow-left\", \"back\"], [\"Forward\", \"Forward to next view\", \"fa fa-arrow-right icon-arrow-right\", \"forward\"], [\"\", \"\", \"\", \"\"], [\"Pan\", \"Pan axes with left mouse, zoom with right\", \"fa fa-arrows icon-move\", \"pan\"], [\"Zoom\", \"Zoom to rectangle\", \"fa fa-square-o icon-check-empty\", \"zoom\"], [\"\", \"\", \"\", \"\"], [\"Download\", \"Download plot\", \"fa fa-floppy-o icon-save\", \"download\"]];\n",
       "\n",
       "mpl.extensions = [\"eps\", \"jpeg\", \"pdf\", \"png\", \"ps\", \"raw\", \"svg\", \"tif\"];\n",
       "\n",
       "mpl.default_extension = \"png\";var comm_websocket_adapter = function(comm) {\n",
       "    // Create a \"websocket\"-like object which calls the given IPython comm\n",
       "    // object with the appropriate methods. Currently this is a non binary\n",
       "    // socket, so there is still some room for performance tuning.\n",
       "    var ws = {};\n",
       "\n",
       "    ws.close = function() {\n",
       "        comm.close()\n",
       "    };\n",
       "    ws.send = function(m) {\n",
       "        //console.log('sending', m);\n",
       "        comm.send(m);\n",
       "    };\n",
       "    // Register the callback with on_msg.\n",
       "    comm.on_msg(function(msg) {\n",
       "        //console.log('receiving', msg['content']['data'], msg);\n",
       "        // Pass the mpl event to the overriden (by mpl) onmessage function.\n",
       "        ws.onmessage(msg['content']['data'])\n",
       "    });\n",
       "    return ws;\n",
       "}\n",
       "\n",
       "mpl.mpl_figure_comm = function(comm, msg) {\n",
       "    // This is the function which gets called when the mpl process\n",
       "    // starts-up an IPython Comm through the \"matplotlib\" channel.\n",
       "\n",
       "    var id = msg.content.data.id;\n",
       "    // Get hold of the div created by the display call when the Comm\n",
       "    // socket was opened in Python.\n",
       "    var element = $(\"#\" + id);\n",
       "    var ws_proxy = comm_websocket_adapter(comm)\n",
       "\n",
       "    function ondownload(figure, format) {\n",
       "        window.open(figure.imageObj.src);\n",
       "    }\n",
       "\n",
       "    var fig = new mpl.figure(id, ws_proxy,\n",
       "                           ondownload,\n",
       "                           element.get(0));\n",
       "\n",
       "    // Call onopen now - mpl needs it, as it is assuming we've passed it a real\n",
       "    // web socket which is closed, not our websocket->open comm proxy.\n",
       "    ws_proxy.onopen();\n",
       "\n",
       "    fig.parent_element = element.get(0);\n",
       "    fig.cell_info = mpl.find_output_cell(\"<div id='\" + id + \"'></div>\");\n",
       "    if (!fig.cell_info) {\n",
       "        console.error(\"Failed to find cell for figure\", id, fig);\n",
       "        return;\n",
       "    }\n",
       "\n",
       "    var output_index = fig.cell_info[2]\n",
       "    var cell = fig.cell_info[0];\n",
       "\n",
       "};\n",
       "\n",
       "mpl.figure.prototype.handle_close = function(fig, msg) {\n",
       "    var width = fig.canvas.width/mpl.ratio\n",
       "    fig.root.unbind('remove')\n",
       "\n",
       "    // Update the output cell to use the data from the current canvas.\n",
       "    fig.push_to_output();\n",
       "    var dataURL = fig.canvas.toDataURL();\n",
       "    // Re-enable the keyboard manager in IPython - without this line, in FF,\n",
       "    // the notebook keyboard shortcuts fail.\n",
       "    IPython.keyboard_manager.enable()\n",
       "    $(fig.parent_element).html('<img src=\"' + dataURL + '\" width=\"' + width + '\">');\n",
       "    fig.close_ws(fig, msg);\n",
       "}\n",
       "\n",
       "mpl.figure.prototype.close_ws = function(fig, msg){\n",
       "    fig.send_message('closing', msg);\n",
       "    // fig.ws.close()\n",
       "}\n",
       "\n",
       "mpl.figure.prototype.push_to_output = function(remove_interactive) {\n",
       "    // Turn the data on the canvas into data in the output cell.\n",
       "    var width = this.canvas.width/mpl.ratio\n",
       "    var dataURL = this.canvas.toDataURL();\n",
       "    this.cell_info[1]['text/html'] = '<img src=\"' + dataURL + '\" width=\"' + width + '\">';\n",
       "}\n",
       "\n",
       "mpl.figure.prototype.updated_canvas_event = function() {\n",
       "    // Tell IPython that the notebook contents must change.\n",
       "    IPython.notebook.set_dirty(true);\n",
       "    this.send_message(\"ack\", {});\n",
       "    var fig = this;\n",
       "    // Wait a second, then push the new image to the DOM so\n",
       "    // that it is saved nicely (might be nice to debounce this).\n",
       "    setTimeout(function () { fig.push_to_output() }, 1000);\n",
       "}\n",
       "\n",
       "mpl.figure.prototype._init_toolbar = function() {\n",
       "    var fig = this;\n",
       "\n",
       "    var nav_element = $('<div/>')\n",
       "    nav_element.attr('style', 'width: 100%');\n",
       "    this.root.append(nav_element);\n",
       "\n",
       "    // Define a callback function for later on.\n",
       "    function toolbar_event(event) {\n",
       "        return fig.toolbar_button_onclick(event['data']);\n",
       "    }\n",
       "    function toolbar_mouse_event(event) {\n",
       "        return fig.toolbar_button_onmouseover(event['data']);\n",
       "    }\n",
       "\n",
       "    for(var toolbar_ind in mpl.toolbar_items){\n",
       "        var name = mpl.toolbar_items[toolbar_ind][0];\n",
       "        var tooltip = mpl.toolbar_items[toolbar_ind][1];\n",
       "        var image = mpl.toolbar_items[toolbar_ind][2];\n",
       "        var method_name = mpl.toolbar_items[toolbar_ind][3];\n",
       "\n",
       "        if (!name) { continue; };\n",
       "\n",
       "        var button = $('<button class=\"btn btn-default\" href=\"#\" title=\"' + name + '\"><i class=\"fa ' + image + ' fa-lg\"></i></button>');\n",
       "        button.click(method_name, toolbar_event);\n",
       "        button.mouseover(tooltip, toolbar_mouse_event);\n",
       "        nav_element.append(button);\n",
       "    }\n",
       "\n",
       "    // Add the status bar.\n",
       "    var status_bar = $('<span class=\"mpl-message\" style=\"text-align:right; float: right;\"/>');\n",
       "    nav_element.append(status_bar);\n",
       "    this.message = status_bar[0];\n",
       "\n",
       "    // Add the close button to the window.\n",
       "    var buttongrp = $('<div class=\"btn-group inline pull-right\"></div>');\n",
       "    var button = $('<button class=\"btn btn-mini btn-primary\" href=\"#\" title=\"Stop Interaction\"><i class=\"fa fa-power-off icon-remove icon-large\"></i></button>');\n",
       "    button.click(function (evt) { fig.handle_close(fig, {}); } );\n",
       "    button.mouseover('Stop Interaction', toolbar_mouse_event);\n",
       "    buttongrp.append(button);\n",
       "    var titlebar = this.root.find($('.ui-dialog-titlebar'));\n",
       "    titlebar.prepend(buttongrp);\n",
       "}\n",
       "\n",
       "mpl.figure.prototype._root_extra_style = function(el){\n",
       "    var fig = this\n",
       "    el.on(\"remove\", function(){\n",
       "\tfig.close_ws(fig, {});\n",
       "    });\n",
       "}\n",
       "\n",
       "mpl.figure.prototype._canvas_extra_style = function(el){\n",
       "    // this is important to make the div 'focusable\n",
       "    el.attr('tabindex', 0)\n",
       "    // reach out to IPython and tell the keyboard manager to turn it's self\n",
       "    // off when our div gets focus\n",
       "\n",
       "    // location in version 3\n",
       "    if (IPython.notebook.keyboard_manager) {\n",
       "        IPython.notebook.keyboard_manager.register_events(el);\n",
       "    }\n",
       "    else {\n",
       "        // location in version 2\n",
       "        IPython.keyboard_manager.register_events(el);\n",
       "    }\n",
       "\n",
       "}\n",
       "\n",
       "mpl.figure.prototype._key_event_extra = function(event, name) {\n",
       "    var manager = IPython.notebook.keyboard_manager;\n",
       "    if (!manager)\n",
       "        manager = IPython.keyboard_manager;\n",
       "\n",
       "    // Check for shift+enter\n",
       "    if (event.shiftKey && event.which == 13) {\n",
       "        this.canvas_div.blur();\n",
       "        event.shiftKey = false;\n",
       "        // Send a \"J\" for go to next cell\n",
       "        event.which = 74;\n",
       "        event.keyCode = 74;\n",
       "        manager.command_mode();\n",
       "        manager.handle_keydown(event);\n",
       "    }\n",
       "}\n",
       "\n",
       "mpl.figure.prototype.handle_save = function(fig, msg) {\n",
       "    fig.ondownload(fig, null);\n",
       "}\n",
       "\n",
       "\n",
       "mpl.find_output_cell = function(html_output) {\n",
       "    // Return the cell and output element which can be found *uniquely* in the notebook.\n",
       "    // Note - this is a bit hacky, but it is done because the \"notebook_saving.Notebook\"\n",
       "    // IPython event is triggered only after the cells have been serialised, which for\n",
       "    // our purposes (turning an active figure into a static one), is too late.\n",
       "    var cells = IPython.notebook.get_cells();\n",
       "    var ncells = cells.length;\n",
       "    for (var i=0; i<ncells; i++) {\n",
       "        var cell = cells[i];\n",
       "        if (cell.cell_type === 'code'){\n",
       "            for (var j=0; j<cell.output_area.outputs.length; j++) {\n",
       "                var data = cell.output_area.outputs[j];\n",
       "                if (data.data) {\n",
       "                    // IPython >= 3 moved mimebundle to data attribute of output\n",
       "                    data = data.data;\n",
       "                }\n",
       "                if (data['text/html'] == html_output) {\n",
       "                    return [cell, data, j];\n",
       "                }\n",
       "            }\n",
       "        }\n",
       "    }\n",
       "}\n",
       "\n",
       "// Register the function which deals with the matplotlib target/channel.\n",
       "// The kernel may be null if the page has been refreshed.\n",
       "if (IPython.notebook.kernel != null) {\n",
       "    IPython.notebook.kernel.comm_manager.register_target('matplotlib', mpl.mpl_figure_comm);\n",
       "}\n"
      ],
      "text/plain": [
       "<IPython.core.display.Javascript object>"
      ]
     },
     "metadata": {},
     "output_type": "display_data"
    },
    {
     "data": {
      "text/html": [
       "<img src=\"data:image/png;base64,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\" width=\"800\">"
      ],
      "text/plain": [
       "<IPython.core.display.HTML object>"
      ]
     },
     "metadata": {},
     "output_type": "display_data"
    },
    {
     "data": {
      "application/vnd.jupyter.widget-view+json": {
       "model_id": "695a14276f8147ad905785184765f7e2",
       "version_major": 2,
       "version_minor": 0
      },
      "text/plain": [
       "A Jupyter Widget"
      ]
     },
     "metadata": {},
     "output_type": "display_data"
    }
   ],
   "source": [
    "# Run this to see widget, it isn't important to understand the code\n",
    "%matplotlib notebook\n",
    "from ipywidgets import *\n",
    "from matplotlib import pyplot as plt\n",
    "from matplotlib.path import Path\n",
    "from matplotlib.patches import PathPatch\n",
    "import numpy as np\n",
    "def MaxMinInteractiveGraph( coefSlider = True, coefx = 2, coefy = 3 ):\n",
    "\n",
    "    # use -3 <= coefx <= 3, -3 <= coefy <= 3, there is no error catching\n",
    "    \n",
    "    import seaborn as sns\n",
    "    sns.set_palette('Set1')\n",
    "\n",
    "    # create the plot object\n",
    "    fig, ax = plt.subplots(figsize=(8,4))\n",
    "    x = np.linspace(-3, 24)\n",
    "\n",
    "    # constraint 1\n",
    "    ct1_line, = plt.plot(x, 0*x + 5, lw=3, label='y <= 5',color='b')\n",
    "    ct1_fill = plt.fill_between(x, 0, 5, alpha=0.1,color='b')\n",
    "\n",
    "    # constraint 2\n",
    "    ct2_line, = plt.plot(x, 2-x, lw=3, label='x + y >= 2',color='r')\n",
    "    ct2_fill = plt.fill_between(x, 2-x, 12, alpha=0.1,color='r')\n",
    "\n",
    "    # add non-negativity constraints\n",
    "    plt.plot(np.zeros_like(x), x, lw=3, label='x >= 0',color='c')\n",
    "    plt.fill_betweenx(x,0,24,alpha=0.1,color='c')\n",
    "    plt.plot(x, np.zeros_like(x), lw=3, label='y >= 0',color='m')\n",
    "    plt.fill_between(x,0,12,alpha=0.1,color='m')\n",
    "\n",
    "    # highlight the feasible region\n",
    "    path = Path([(2,0),(24,0),(24,5),(0,5),(0,2),(2,0)])\n",
    "    patch = PathPatch(path, label='feasible region', alpha=0.5)\n",
    "    ax.add_patch(patch)\n",
    "\n",
    "    # level curve for profit P\n",
    "    obj_line, = plt.plot(x, (20-coefx*x)/coefy, 'k--', lw = 3, label = 'Z')\n",
    "\n",
    "    # labels and stuff\n",
    "    plt.xlabel('x', fontsize=16)\n",
    "    plt.ylabel('y', fontsize=16)\n",
    "    plt.xlim(-3, 24)\n",
    "    plt.ylim(-3, 12)\n",
    "    plt.legend(loc = 'upper right',fontsize=12)\n",
    "\n",
    "    # additional elements\n",
    "    txt = plt.text( 6, 11, 'Z = 20', fontsize = 12)\n",
    "\n",
    "    plt.show()\n",
    "    \n",
    "    zlim = (-.4,1.5,.05)\n",
    "    c1lim = (-3,3,.5)\n",
    "    c1fix = fixed(coefx)\n",
    "    c2lim = (-3,3,.5)\n",
    "    c2fix = fixed(coefy)\n",
    "\n",
    "    def update( zMult = .5, c1 = coefx, c2 = coefy  ):\n",
    "        \n",
    "        xcps = np.array([2,24,24,0,0])\n",
    "        ycps = np.array([0, 0, 5,5,2])\n",
    "        zcps = c1*xcps + c2*ycps\n",
    "        zmin = np.min(zcps)\n",
    "        zmax = np.max(zcps)\n",
    "        z = ((1-zMult)*zmin + zMult*zmax)\n",
    " \n",
    "        if (c1 == 0 and c2 == 0):\n",
    "            obj_line.set_ydata(0*x -4)\n",
    "        else:\n",
    "            obj_line.set_ydata((z-c1*x)/(c2+.0001)) # hack to avoid div by 0\n",
    "            \n",
    "\n",
    "        #txt.set_text('Z = {:3.2f}'.format(z) )\n",
    "        if (c2 >= 0):\n",
    "            txt.set_text('Z = {:2.1f} x + '.format(c1) + '{:2.1f} y '.format(c2) + '= {:3.1f}'.format(z) )\n",
    "        else:\n",
    "            txt.set_text('Z = {:2.1f} x - '.format(c1) + '{:2.1f} y '.format(-c2) + '= {:3.1f}'.format(z) )\n",
    "        fig.canvas.draw()\n",
    "    \n",
    "    if (coefSlider):\n",
    "        interact(update,zMult=zlim,c1=c1lim,c2=c2lim);\n",
    "    else: \n",
    "        interact(update,zMult=zlim,c1=c1fix,c2=c2fix);\n",
    "                 \n",
    "MaxMinInteractiveGraph(True)"
   ]
  },
  {
   "cell_type": "markdown",
   "metadata": {
    "hidden": true
   },
   "source": [
    "### Video"
   ]
  },
  {
   "cell_type": "code",
   "execution_count": 3,
   "metadata": {
    "hidden": true
   },
   "outputs": [
    {
     "data": {
      "text/html": [
       "\n",
       "        <iframe\n",
       "            width=\"640\"\n",
       "            height=\"360\"\n",
       "            src=\"https://media.uwex.edu/content/ds/ds775_r19/ds775_lesson1-unbounded-feasible-region/index.html\"\n",
       "            frameborder=\"0\"\n",
       "            allowfullscreen\n",
       "        ></iframe>\n",
       "        "
      ],
      "text/plain": [
       "<IPython.lib.display.IFrame at 0x10a3c2208>"
      ]
     },
     "execution_count": 3,
     "metadata": {},
     "output_type": "execute_result"
    }
   ],
   "source": [
    "# execute this cell for video\n",
    "from IPython.display import IFrame\n",
    "IFrame(\n",
    "    \"https://media.uwex.edu/content/ds/ds775_r19/ds775_lesson1-unbounded-feasible-region/index.html\",\n",
    "    width=640,\n",
    "    height=360)"
   ]
  },
  {
   "cell_type": "code",
   "execution_count": 5,
   "metadata": {
    "code_folding": [
     0
    ],
    "hidden": true
   },
   "outputs": [
    {
     "data": {
      "image/jpeg": "[encoded data removed]",
      "text/html": [
       "\n",
       "        <iframe\n",
       "            width=\"640\"\n",
       "            height=\"480\"\n",
       "            src=\"https://www.youtube.com/embed/gWcy2fYwtfo\"\n",
       "            frameborder=\"0\"\n",
       "            allowfullscreen\n",
       "        ></iframe>\n",
       "        "
      ],
      "text/plain": [
       "<IPython.lib.display.YouTubeVideo at 0x1074c6a58>"
      ]
     },
     "execution_count": 5,
     "metadata": {},
     "output_type": "execute_result"
    }
   ],
   "source": [
    "# Hidden code to display YouTube video\n",
    "from IPython.display import YouTubeVideo\n",
    "YouTubeVideo('gWcy2fYwtfo', width=640, height=480)"
   ]
  },
  {
   "cell_type": "markdown",
   "metadata": {
    "heading_collapsed": true
   },
   "source": [
    "# Solving Linear Programs with Pyomo"
   ]
  },
  {
   "cell_type": "markdown",
   "metadata": {
    "heading_collapsed": true,
    "hidden": true
   },
   "source": [
    "## What is Pyomo?"
   ]
  },
  {
   "cell_type": "markdown",
   "metadata": {
    "hidden": true
   },
   "source": [
    "* A Python framework for formulating optimization models\n",
    "* Similar to other mathematical programming languages such as AMPL and LINDO\n",
    "* Uses natural math syntax for models (we'll get into examples below)\n",
    "* Allows separation of the model from the data to formulate large models concisely\n",
    "* Works with many solvers including GLPK, CPLEX, Gurobi, etc.\n",
    "\n",
    "Pyomo is an example of a declarative programming language.  Instead of specifying exactly how to get the solution (imperative programming) we *declare* the problem mathematically.  Pyomo then translates the mathematical problem into a computer problem that can be solved by one of many avaialable solvers."
   ]
  },
  {
   "cell_type": "markdown",
   "metadata": {
    "heading_collapsed": true,
    "hidden": true
   },
   "source": [
    "## Pyomo Resources"
   ]
  },
  {
   "cell_type": "markdown",
   "metadata": {
    "hidden": true
   },
   "source": [
    "Some resources to help you learn more about Pyomo:\n",
    "    \n",
    "* <a href=\"https://pyomo.readthedocs.io/en/stable/\"> The Official Pyomo Documentation. </a> \n",
    "* The <a href=\"https://www.osti.gov/servlets/purl/1376827\"> Pyomo Tutorial </a> is a large set of slides from the Pyomo developers at Sandia National Labs\n",
    "* Professor Jeffrey Cantor's <a href=\"https://jckantor.github.io/ND-Pyomo-Cookbook/\"> ND Pyomo Cookbook </a> gives many examples\n",
    "* <a href = \"https://github.com/Pyomo/PyomoGallery\"> The Pyomo Gallery </a> also has several examples."
   ]
  },
  {
   "cell_type": "markdown",
   "metadata": {
    "heading_collapsed": true,
    "hidden": true
   },
   "source": [
    "## Installing Pyomo and GLPK"
   ]
  },
  {
   "cell_type": "markdown",
   "metadata": {
    "hidden": true
   },
   "source": [
    "If you're working in CoCalc these are already installed.  If you want to install them at home we suggest using the Anocanda distribution, then in a terminal window:\n",
    "\n",
    "install Pyomo with:\n",
    "```conda install -c conda-forge pyomo```\n",
    "\n",
    "install GLPK with:\n",
    "```conda install -c conda-forge glpk```"
   ]
  },
  {
   "cell_type": "markdown",
   "metadata": {
    "heading_collapsed": true,
    "hidden": true
   },
   "source": [
    "## Two kinds of Pyomo models"
   ]
  },
  {
   "cell_type": "markdown",
   "metadata": {
    "hidden": true
   },
   "source": [
    "**Concrete Models:** data first, then model\n",
    "<img src=\"images/concrete_model.png\" width=\"220\">\n",
    "* 1-pass construction: numerical constants supplied as model is built\n",
    "* easier to script\n",
    "* harder to reuse model\n",
    "\n",
    "**Abstract Models:** model first, then data\n",
    "<img src=\"images/abstract_model.png\" width=\"320\">\n",
    "* 2-pass construction\n",
    "* Pass 1: Model is constructed with unknown numerical constants\n",
    "* Pass 2: Numerical constants added from separate file at runtime\n",
    "* harder to script\n",
    "* easier for large problems and model reuse\n",
    "\n",
    "We'll stick to concrete models in this course, but we'll take steps toward making them abstract by separating the data and the model "
   ]
  },
  {
   "cell_type": "markdown",
   "metadata": {
    "hidden": true
   },
   "source": [
    "## Pyomo Example"
   ]
  },
  {
   "cell_type": "markdown",
   "metadata": {
    "heading_collapsed": true,
    "hidden": true
   },
   "source": [
    "### Wyndor Glass Company"
   ]
  },
  {
   "cell_type": "markdown",
   "metadata": {
    "hidden": true
   },
   "source": [
    "Here is the Wyndor model as described in the textbook.  $Z$ is the profit in thousands of dollars.  $d$ and $w$ are the batches of doors and windows, respectively.  The constraints, in order, represent the production capacities of Plants 1, 2, and 3.\n",
    "\n",
    "Maximize $Z = 3 d + 5 w$\n",
    "\n",
    "Subject to:\n",
    "\n",
    "$\n",
    "\\begin{array}{ccccc}\n",
    " d &   &    & \\leq & 4 \\\\\n",
    "   &   & 2w & \\leq & 12 \\\\\n",
    "3d & + & 2w & \\leq & 18\n",
    "\\end{array}\n",
    "$\n",
    "\n",
    "$d \\geq 0$, $w \\geq 0$"
   ]
  },
  {
   "cell_type": "markdown",
   "metadata": {
    "heading_collapsed": true,
    "hidden": true
   },
   "source": [
    "### First Pyomo Solution"
   ]
  },
  {
   "cell_type": "markdown",
   "metadata": {
    "heading_collapsed": true,
    "hidden": true
   },
   "source": [
    "#### Video: Code Walkthrough"
   ]
  },
  {
   "cell_type": "code",
   "execution_count": 4,
   "metadata": {
    "hidden": true
   },
   "outputs": [
    {
     "data": {
      "text/html": [
       "\n",
       "        <iframe\n",
       "            width=\"640\"\n",
       "            height=\"360\"\n",
       "            src=\"https://media.uwex.edu/content/ds/ds775_r19/ds775_lesson1-wyndor1/index.html\"\n",
       "            frameborder=\"0\"\n",
       "            allowfullscreen\n",
       "        ></iframe>\n",
       "        "
      ],
      "text/plain": [
       "<IPython.lib.display.IFrame at 0x10a3c2438>"
      ]
     },
     "execution_count": 4,
     "metadata": {},
     "output_type": "execute_result"
    }
   ],
   "source": [
    "# execute this cell for video\n",
    "from IPython.display import IFrame\n",
    "IFrame(\n",
    "    \"https://media.uwex.edu/content/ds/ds775_r19/ds775_lesson1-wyndor1/index.html\",\n",
    "    width=640,\n",
    "    height=360)"
   ]
  },
  {
   "cell_type": "markdown",
   "metadata": {
    "hidden": true
   },
   "source": [
    "#### Pyomo Solution"
   ]
  },
  {
   "cell_type": "code",
   "execution_count": 1,
   "metadata": {
    "code_folding": [],
    "hidden": true
   },
   "outputs": [
    {
     "name": "stdout",
     "output_type": "stream",
     "text": [
      "Maximum Profit =  $36,000.00\n",
      "Batches of Doors = 2.0\n",
      "Batches of Windows = 6.0\n"
     ]
    }
   ],
   "source": [
    "# Unfold to see the Pyomo solution with individual decision variables\n",
    "from pyomo.environ import *\n",
    "\n",
    "# Concrete Model\n",
    "model = ConcreteModel(name=\"Wyndor\")\n",
    "\n",
    "# Decision Variables\n",
    "model.doors = Var(domain=Reals)\n",
    "model.windows = Var(domain=Reals)\n",
    "\n",
    "# Objective\n",
    "model.profit = Objective(expr=3.0 * model.doors + 5.0 * model.windows,\n",
    "                         sense=maximize)\n",
    "\n",
    "# Constraints\n",
    "model.Plant1 = Constraint(expr=model.doors <= 4)\n",
    "model.Plant2 = Constraint(expr=2.0 * model.windows <= 12)\n",
    "model.Plant3 = Constraint(expr=3.0 * model.doors + 2.0 * model.windows <= 18)\n",
    "model.dgeq0 = Constraint(expr=model.doors >= 0)\n",
    "model.wgeq0 = Constraint(expr=model.windows >= 0)\n",
    "\n",
    "# Solve\n",
    "solver = SolverFactory('glpk')\n",
    "solver.solve(model)\n",
    "\n",
    "#display(model)\n",
    "\n",
    "# display solution\n",
    "import babel.numbers as numbers  # needed to display as currency\n",
    "print(\"Maximum Profit = \",\n",
    "      numbers.format_currency(1000 * model.profit(), 'USD', locale='en_US'))\n",
    "print(\"Batches of Doors = {}\".format(model.doors()))\n",
    "print(\"Batches of Windows = {}\".format(model.windows()))"
   ]
  },
  {
   "cell_type": "markdown",
   "metadata": {
    "hidden": true
   },
   "source": [
    "#### <font color=\"blue\"> Self-Assessment: Specifying Bounds </font>"
   ]
  },
  {
   "cell_type": "markdown",
   "metadata": {
    "hidden": true
   },
   "source": [
    "Non-negativity constraints like $d\\geq0$ can be included in the variable declarations by changing ```domain=Reals``` to ```domain=NonNegativeReals```.  \n",
    "\n",
    "We can also include lower and upper bounds in the variable declarations like this: ```model.doors = Var(domain=Reals, bounds = (0,4) )```.  \n",
    "\n",
    "*Try this:*  Copy the Pyomo Wyndor solution into a new code block, add appropriate bounds to the doors and windows variables and delete all constraints except the constraint for Plant 3.  Run the code.  Do you get the same answer?"
   ]
  },
  {
   "cell_type": "code",
   "execution_count": null,
   "metadata": {
    "collapsed": true,
    "hidden": true
   },
   "outputs": [],
   "source": []
  },
  {
   "cell_type": "markdown",
   "metadata": {
    "heading_collapsed": true,
    "hidden": true
   },
   "source": [
    "### Pyomo solution using a vector of decision variables"
   ]
  },
  {
   "cell_type": "markdown",
   "metadata": {
    "hidden": true
   },
   "source": [
    "#### Video: Code Walkthrough"
   ]
  },
  {
   "cell_type": "code",
   "execution_count": 12,
   "metadata": {
    "code_folding": [
     0
    ],
    "hidden": true
   },
   "outputs": [
    {
     "data": {
      "text/html": [
       "\n",
       "        <iframe\n",
       "            width=\"640\"\n",
       "            height=\"360\"\n",
       "            src=\"https://media.uwex.edu/content/ds/ds775_r19/ds775_lesson1-wyndor2/index.html\"\n",
       "            frameborder=\"0\"\n",
       "            allowfullscreen\n",
       "        ></iframe>\n",
       "        "
      ],
      "text/plain": [
       "<IPython.lib.display.IFrame at 0x10a3eaba8>"
      ]
     },
     "execution_count": 12,
     "metadata": {},
     "output_type": "execute_result"
    }
   ],
   "source": [
    "# execute this cell for video\n",
    "from IPython.display import IFrame\n",
    "IFrame(\n",
    "    \"https://media.uwex.edu/content/ds/ds775_r19/ds775_lesson1-wyndor2/index.html\",\n",
    "    width=640,\n",
    "    height=360)"
   ]
  },
  {
   "cell_type": "markdown",
   "metadata": {
    "heading_collapsed": true,
    "hidden": true
   },
   "source": [
    "#### Pyomo Solutions"
   ]
  },
  {
   "cell_type": "code",
   "execution_count": 10,
   "metadata": {
    "code_folding": [],
    "hidden": true
   },
   "outputs": [
    {
     "name": "stdout",
     "output_type": "stream",
     "text": [
      "Profit =  $36,000.00\n",
      "Batches of Doors =  2.0\n",
      "Batches of Windows =  6.0\n"
     ]
    }
   ],
   "source": [
    "# unfold to see Pyomo solution with a vector of decision variables\n",
    "from pyomo.environ import *\n",
    "\n",
    "# Concrete Model\n",
    "model = ConcreteModel(name=\"Wyndor\")\n",
    "\n",
    "products = ['drs', 'wdw']\n",
    "\n",
    "bounds_dict = {'drs': (0, 4), 'wdw': (0, 6)}\n",
    "def bounds_rule(model, product):\n",
    "    return (bounds_dict[product])\n",
    "model.x = Var(products, domain=Reals, bounds=bounds_rule)\n",
    "\n",
    "# Objective\n",
    "model.profit = Objective(expr=3.0 * model.x['drs'] + 5.0 * model.x['wdw'],\n",
    "                         sense=maximize)\n",
    "\n",
    "# Constraints\n",
    "model.Constraint3 = Constraint(\n",
    "    expr=3.0 * model.x['drs'] + 2.0 * model.x['wdw'] <= 18)\n",
    "\n",
    "# Solve\n",
    "solver = SolverFactory('glpk')\n",
    "solver.solve(model)\n",
    "\n",
    "# display(model)\n",
    "\n",
    "# display solution\n",
    "import babel.numbers as numbers  # needed to display as currency\n",
    "print(\"Profit = \",\n",
    "      numbers.format_currency(1000 * model.profit(), 'USD', locale='en_US'))\n",
    "print(\"Batches of Doors = \", model.x['drs']())\n",
    "print(\"Batches of Windows = \", model.x['wdw']())"
   ]
  },
  {
   "cell_type": "markdown",
   "metadata": {
    "hidden": true
   },
   "source": [
    "### <font color=\"blue\"> Self-Assessment: Formulate and Solve #1 </font>"
   ]
  },
  {
   "cell_type": "markdown",
   "metadata": {
    "hidden": true
   },
   "source": [
    "**Textbook Problem 3.4-8 (a,c)** Ralph Edmund loves steaks and potatoes. Therefore, he has\n",
    "  decided to go on a steady diet of only these two foods (plus some\n",
    "  liquids and vitamin supplements) for all his meals. Ralph realizes\n",
    "  that this isn’t the healthiest diet, so he wants to make sure that\n",
    "  he eats the right quantities of the two foods to satisfy some key\n",
    "  nutritional requirements. He has obtained the nutritional and cost\n",
    "  information shown below.  Ralph wishes to\n",
    "  determine the number of daily servings (may be fractional) of steak\n",
    "  and potatoes that will meet these requirements at a minimum cost.\n",
    "  \n",
    "<img src=\"images/screen-problem3.png\" alt=\"Solution\" width=\"440\" height=\"250\">\n",
    "\n",
    "(a) Formulate a mathematical model (the linear program) for this problem.\n",
    "\n",
    "(c) Use Pyomo to solve the model.  Report the minimum cost as well as the number of servings each of steak and potatoes at the minimum."
   ]
  },
  {
   "cell_type": "markdown",
   "metadata": {
    "heading_collapsed": true
   },
   "source": [
    "# Start to Finish: Formulate a Model and Code it in Pyomo "
   ]
  },
  {
   "cell_type": "markdown",
   "metadata": {
    "heading_collapsed": true,
    "hidden": true
   },
   "source": [
    "## Problem Description (video)"
   ]
  },
  {
   "cell_type": "markdown",
   "metadata": {
    "hidden": true
   },
   "source": [
    "This is problem 3.4-9, page 85, from the textbook.\n",
    "\n",
    "Web Mercantile sells many household products through an online catalog. The company needs substantial warehouse space for storing its goods. Plans now are being made for leasing warehouse storage space over the next 5 months. Just how much space will be required in each of these months is known. However, since these space requirements are quite different, it may be most economical to lease only the amount needed each month on a month-by-month basis. On the other hand, the additional cost for leasing space for additional months is much less than for the first month, so it may be less expensive to lease the maximum amount needed for the entire 5 months. Another option is the intermediate approach of changing the total amount of space leased (by adding a new lease and/or having an old lease expire) at least once but not every month.\n",
    "\n",
    "The space requirement and the leasing costs for the various leasing periods are as follows:"
   ]
  },
  {
   "cell_type": "code",
   "execution_count": 7,
   "metadata": {
    "code_folding": [
     0
    ],
    "hidden": true
   },
   "outputs": [
    {
     "data": {
      "text/html": [
       "\n",
       "        <iframe\n",
       "            width=\"640\"\n",
       "            height=\"360\"\n",
       "            src=\"https://media.uwex.edu/content/ds/ds775_r19/ds775_lesson1-ex-3-4-9-model-requirements/index.html\"\n",
       "            frameborder=\"0\"\n",
       "            allowfullscreen\n",
       "        ></iframe>\n",
       "        "
      ],
      "text/plain": [
       "<IPython.lib.display.IFrame at 0x10a6d0390>"
      ]
     },
     "execution_count": 7,
     "metadata": {},
     "output_type": "execute_result"
    }
   ],
   "source": [
    "# execute this cell for video\n",
    "from IPython.display import IFrame\n",
    "IFrame(\n",
    "    \"https://media.uwex.edu/content/ds/ds775_r19/ds775_lesson1-ex-3-4-9-model-requirements/index.html\",\n",
    "    width=640,\n",
    "    height=360)"
   ]
  },
  {
   "cell_type": "markdown",
   "metadata": {
    "heading_collapsed": true,
    "hidden": true
   },
   "source": [
    "## Mathematical Formulation (video)"
   ]
  },
  {
   "cell_type": "code",
   "execution_count": 8,
   "metadata": {
    "code_folding": [],
    "hidden": true
   },
   "outputs": [
    {
     "data": {
      "text/html": [
       "\n",
       "        <iframe\n",
       "            width=\"640\"\n",
       "            height=\"360\"\n",
       "            src=\"https://media.uwex.edu/content/ds/ds775_r19/ds775_lesson1-ex-3-4-9-model-formulation/index.html\"\n",
       "            frameborder=\"0\"\n",
       "            allowfullscreen\n",
       "        ></iframe>\n",
       "        "
      ],
      "text/plain": [
       "<IPython.lib.display.IFrame at 0x10a6d0198>"
      ]
     },
     "execution_count": 8,
     "metadata": {},
     "output_type": "execute_result"
    }
   ],
   "source": [
    "# execute this cell for video\n",
    "from IPython.display import IFrame\n",
    "IFrame(\n",
    "    \"https://media.uwex.edu/content/ds/ds775_r19/ds775_lesson1-ex-3-4-9-model-formulation/index.html\",\n",
    "    width=640,\n",
    "    height=360)"
   ]
  },
  {
   "cell_type": "markdown",
   "metadata": {
    "hidden": true
   },
   "source": [
    "Using design variables $x_{ij}$ that represent the square feet leased for $j$ months beginning in the $i^{th}$ month, the model is\n",
    "\n",
    "Minimize $Z =65(x_{11} +x_{21} +x_{31} +x_{41} +x_{51})+100(x_{12} +x_{22} +x_{32} +x_{42}) +135(x_{13} + x_{23} + x_{33}) + 160(x_{14} + x_{24}) + 190x_{15}$\n",
    "\n",
    "Subject to:\n",
    "\n",
    "$\n",
    "\\begin{array}{lcl}\n",
    " x_{11} + x_{12} + x_{13} + x_{14} + x_{15} & \\geq & 30,000 \\\\\n",
    " x_{12} + x_{13} + x_{14} + x_{15} + x_{21} + x_{22} + x_{23} + x_{24} & \\geq & 20,000 \\\\\n",
    "x_{13} + x_{14} + x_{15} + x_{22} + x_{23} + x_{24} + x_{31} + x_{32} + x_{33} & \\geq & 40,000 \\\\\n",
    "x_{14} + x_{15} + x_{23} + x_{24} + x_{32} + x_{33} + x_{41} + x_{42} & \\geq & 10,000  \\\\\n",
    "x_{15} + x_{24} + x_{33} + x_{42} + x_{51} & \\geq & 50,000 \\\\\n",
    "\\end{array}\n",
    "$\n",
    "\n",
    "and all $x_{ij} \\geq 0$.\n",
    "\n",
    "To learn about typesetting mathematics like this go to the section below labeled \"Typesetting mathematical notation with LaTeX code.\""
   ]
  },
  {
   "cell_type": "markdown",
   "metadata": {
    "heading_collapsed": true,
    "hidden": true
   },
   "source": [
    "## Solving the model in Pyomo"
   ]
  },
  {
   "cell_type": "code",
   "execution_count": 1,
   "metadata": {
    "code_folding": [
     0
    ],
    "hidden": true,
    "scrolled": true
   },
   "outputs": [
    {
     "name": "stdout",
     "output_type": "stream",
     "text": [
      "Total Cost =  $7,650,000.00\n",
      "Lease  30000 sq. ft. in month 1 for 5 months\n",
      "Lease 10000 sq. tf. in month 3 for 1 month\n",
      "Lease 20000 sq. ft. in month 5 for 1 month\n"
     ]
    }
   ],
   "source": [
    "# unfold to see Pyomo solution with a vector of decision variables\n",
    "\n",
    "from pyomo.environ import *\n",
    "\n",
    "# Concret Model\n",
    "model = ConcreteModel(name = \"WebMerc\")\n",
    "\n",
    "# Decision Variables\n",
    "model.x = Var( ['x11','x12','x13','x14','x15','x21','x22','x23','x24',\n",
    "                'x31','x32','x33','x41','x42','x51'], \n",
    "              domain = NonNegativeReals )\n",
    "\n",
    "# Objective \n",
    "model.obj = Objective( expr = 65 * (model.x['x11'] + model.x['x21'] + model.x['x31'] + \n",
    "                                   model.x['x41'] + model.x['x51']) + \n",
    "                      100 * (model.x['x12'] + model.x['x22'] + model.x['x32'] + \n",
    "                            model.x['x42']) + \n",
    "                      135 * (model.x['x13'] + model.x['x23'] + model.x['x33']) + \n",
    "                      160 * (model.x['x14'] + model.x['x24']) + \n",
    "                      190 * model.x['x15'], sense = minimize)\n",
    "\n",
    "# Constraints\n",
    "model.Constraint1 = Constraint( expr = model.x['x11'] + model.x['x12'] + model.x['x13'] +\n",
    "                               model.x['x14'] + model.x['x15'] >= 30000 )\n",
    "model.Constraint2 = Constraint( expr = model.x['x12'] + model.x['x13'] + model.x['x14'] +\n",
    "                               model.x['x15'] + model.x['x21'] + model.x['x22'] + \n",
    "                               model.x['x23'] + model.x['x24'] >= 20000 )\n",
    "model.Constraint3 = Constraint( expr = model.x['x13'] + model.x['x14'] + model.x['x15'] +\n",
    "                               model.x['x22'] + model.x['x23'] + model.x['x24'] +\n",
    "                               model.x['x31'] + model.x['x32'] + model.x['x33'] >= 40000 )\n",
    "model.Constraint4 = Constraint( expr = model.x['x14'] + model.x['x15'] + model.x['x23'] + \n",
    "                               model.x['x24'] + model.x['x32'] + model.x['x33'] + \n",
    "                               model.x['x41'] + model.x['x42'] >= 10000 )\n",
    "model.Constraint5 = Constraint( expr = model.x['x15'] + model.x['x24'] + model.x['x33'] + \n",
    "                               model.x['x42'] + model.x['x51'] >= 50000 )\n",
    "\n",
    "# Solve\n",
    "solver = SolverFactory('glpk')\n",
    "solver.solve(model)\n",
    "\n",
    "# display(model)\n",
    "\n",
    "\n",
    "# print a shorter summary of relevant results\n",
    "import babel.numbers as numbers   # needed to display as currency\n",
    "print(\"Total Cost = \", numbers.format_currency(model.obj(),'USD', locale='en_US'))\n",
    "print(\"Lease \", '%.0f' % model.x['x15'](), \"sq. ft. in month 1 for 5 months\")\n",
    "print(\"Lease\", '%.0f' % model.x['x31'](), \"sq. tf. in month 3 for 1 month\")\n",
    "print(\"Lease\", '%.0f' % model.x['x51'](), \"sq. ft. in month 5 for 1 month\")\n",
    "\n"
   ]
  },
  {
   "cell_type": "markdown",
   "metadata": {
    "hidden": true
   },
   "source": [
    "## Typesetting mathematical notation with LaTeX code (video)"
   ]
  },
  {
   "cell_type": "code",
   "execution_count": 9,
   "metadata": {
    "hidden": true
   },
   "outputs": [
    {
     "data": {
      "text/html": [
       "\n",
       "        <iframe\n",
       "            width=\"640\"\n",
       "            height=\"360\"\n",
       "            src=\"https://media.uwex.edu/content/ds/ds775_r19/ds775_lesson1-latex-demo/index.html\"\n",
       "            frameborder=\"0\"\n",
       "            allowfullscreen\n",
       "        ></iframe>\n",
       "        "
      ],
      "text/plain": [
       "<IPython.lib.display.IFrame at 0x10a6ee0f0>"
      ]
     },
     "execution_count": 9,
     "metadata": {},
     "output_type": "execute_result"
    }
   ],
   "source": [
    "# execute this cell for video\n",
    "from IPython.display import IFrame\n",
    "IFrame(\n",
    "    \"https://media.uwex.edu/content/ds/ds775_r19/ds775_lesson1-latex-demo/index.html\",\n",
    "    width=640,\n",
    "    height=360)"
   ]
  },
  {
   "cell_type": "markdown",
   "metadata": {
    "hidden": true
   },
   "source": [
    "### <font color=\"blue\"> Self-Assessment: Formulate and Solve #2 </font>"
   ]
  },
  {
   "cell_type": "markdown",
   "metadata": {
    "hidden": true
   },
   "source": [
    "**Textbook Problem 3.4-10** Larry Edison is the director of the Computer Center for Buckly\n",
    "College. He now needs to schedule the staffing of the center. It is\n",
    "open from 8 A.M. until midnight. Larry has monitored the usage of the\n",
    "center at various times of the day, and determined that the following\n",
    "number of computer consultants are required: \n",
    "\n",
    "<img src=\"images/screen-problem3_4-10.png\" alt=\"Solution\" width=\"440\" height=\"250\">\n",
    "\n",
    "Two types of computer consultants can be hired: full-time and\n",
    "part-time. The full-time consultants work for 8 consecutive hours in\n",
    "any of the following shifts: morning (8 A.M.–4 P.M.), afternoon\n",
    "(noon–8 P.M.), and evening (4 P.M.–midnight). Full-time consultants\n",
    "are paid \\\\$40 per hour.  Part-time consultants can be hired to work\n",
    "any of the four shifts listed in the above table. Part-time\n",
    "consultants are paid \\\\$30 per hour.  An additional requirement is that\n",
    "during every time period, there must be at least 2 full-time\n",
    "consultants on duty for every part-time consultant on duty.  Larry\n",
    "would like to determine how many full-time and how many part-time\n",
    "workers should work each shift to meet the above requirements at the\n",
    "minimum possible cost.\n",
    "\n",
    "(a) Formulate a linear programming model for this problem. (Hint: you could have 7 design variables - 3 for the number of full-time workers on each shift and 4 for the number of part-time workers on each shift.)\n",
    "\n",
    "(b) Solve this model using Pyomo.  You may\n",
    "  find fractional numbers of consultants per shift so round the\n",
    "  answers to get an approximate solution.  Report the total cost with\n",
    "  both fractional and rounded numbers of consultants.\n",
    "  \n",
    "(c) (not in book) Using Pyomo in Python, require the decision variables to be integers (specify **domain=NonNegativeIntegers** rather than **NonNegativeReals** for the decision variables), and compute the solution.  *How does it compare to the solution in (b)?* This is now an integer programming problem and is not solved by the simplex method.  We'll learn more about integer programming soon.  Be aware that integer programming problems are generally much more computationally intense than those using real valued variables."
   ]
  },
  {
   "cell_type": "markdown",
   "metadata": {
    "hidden": true
   },
   "source": [
    "### <font color=\"blue\"> Self-Assessment: Formulate and Solve #3 </font>"
   ]
  },
  {
   "cell_type": "markdown",
   "metadata": {
    "hidden": true
   },
   "source": [
    "**Textbook Problem 3.5-6 (a,e).** Maureen Laird is the chief financial officer for the Alva\n",
    "  Electric Co., a major public utility in the midwest. The company has\n",
    "  scheduled the construction of new hydroelectric plants 5, 10, and 20\n",
    "  years from now to meet the needs of the growing population in the\n",
    "  region served by the company. To cover at least the construction\n",
    "  costs, Maureen needs to invest some of the company’s money now to\n",
    "  meet these future cash-flow needs. Maureen may purchase only three\n",
    "  kinds of financial assets, each of which costs \\$1 million per\n",
    "  unit. Fractional units may be purchased. The assets produce income\n",
    "  5, 10, and 20 years from now, and that income is needed to cover at\n",
    "  least minimum cash-flow requirements in those years. (Any excess\n",
    "  income above the minimum requirement for each time period will be\n",
    "  used to increase dividend payments to shareholders rather than\n",
    "  saving it to help meet the minimum cash-flow requirement in the\n",
    "  next time period.) The following table shows both the amount of\n",
    "  income generated by each unit of each asset and the minimum amount\n",
    "  of income needed for each of the future time periods when a new\n",
    "  hydroelectric plant will be constructed. \n",
    "  \n",
    "<img src=\"images/screen-problem7.png\" width=\"440\" height=\"250\">\n",
    "\n",
    "Maureen wishes to determine the mix of investments in these assets\n",
    "that will cover the cash-flow requirements while minimizing the total\n",
    "amount invested.\n",
    "\n",
    "(a) Formulate a linear programming model for this problem.\n",
    "  \n",
    "(e) Use Pyomo to solve the model."
   ]
  },
  {
   "cell_type": "markdown",
   "metadata": {
    "heading_collapsed": true
   },
   "source": [
    "# Sausages Blending Problem "
   ]
  },
  {
   "cell_type": "markdown",
   "metadata": {
    "hidden": true
   },
   "source": [
    "Here is an extra example, with no videos, of a blending problem.  We'll revisit this example in the next lesson.\n",
    "\n",
    "This example adapted from here: http://benalexkeen.com/linear-programming-with-python-and-pulp-part-4/.  "
   ]
  },
  {
   "cell_type": "markdown",
   "metadata": {
    "heading_collapsed": true,
    "hidden": true
   },
   "source": [
    "## Problem Description"
   ]
  },
  {
   "cell_type": "markdown",
   "metadata": {
    "hidden": true
   },
   "source": [
    "We're going to make sausages by blending pork, wheat, and starch.  Our objective is to minimize the cost of making the sausages.  The table below shows the ingredients available, the cost, and the amount of each ingredient available from our supplier:\n",
    "\n",
    "Ingredient | Cost ($/kg) | Amount (kg)\n",
    "-----------|------|--------------\n",
    "Pork       | 4.32 | 7\n",
    "Wheat      | 2.46 | 20.0\n",
    "Starch     | 1.86 | 17\n",
    "\n",
    "Additionally, we have 23 kg of pork on hand that we must use in the sausages.\n",
    "\n",
    "We want to make 2 types of sausage:\n",
    "* Economy ( > 40% pork)\n",
    "* Premium ( > 60% pork)\n",
    "\n",
    "Each sausage is 50 grams (0.05 kg).  \n",
    "\n",
    "According to government regulations, the most starch we can use in our sausages is 25% by weight.\n",
    "\n",
    "We have a demand for 350 economy sausages and 500 premium sausages."
   ]
  },
  {
   "cell_type": "markdown",
   "metadata": {
    "heading_collapsed": true,
    "hidden": true
   },
   "source": [
    "## The linear program"
   ]
  },
  {
   "cell_type": "markdown",
   "metadata": {
    "hidden": true
   },
   "source": [
    "The decision variables are the kg of each ingredient to use:\n",
    "\n",
    "Variable | Description\n",
    "--- | ---\n",
    "$p_e$ | kg pork in the economy sausages  \n",
    "$w_e$ | kg wheat in the economy sausages  \n",
    "$s_e$ | kg starch in the economy sausages  \n",
    "$p_p$ | kg pork in the premium sausages  \n",
    "$w_p$ | kg wheat in the premium sausages  \n",
    "$s_p$ | kg starch in the premium sausages\n",
    "\n",
    "We want to minimize the cost:\n",
    "$$ \\mbox{Cost} = 4.32 ( p_e + p_p) + 2.46( w_e + w_p) + 1.86 (s_e + s_p) $$\n",
    "\n",
    "Subject to the following constraints:\n",
    "\n",
    "<p style=\"padding-right: 120px;\"> Constraint</p> | Description\n",
    "---------------------------------| ---\n",
    "$p_e + w_e + s_e = 350 \\times 0.05$ | total kg of economy sausages\n",
    "$p_p + w_p + s_p = 500 \\times 0.05$ | total kg of premium sausages\n",
    "$p_e \\geq 0.4 (p_e + w_e + s_e)$ | ecomony sausage must be at least 40% pork\n",
    "$p_p \\geq 0.6 (p_p + w_p + s_p)$ | premium sausage must be at least 60% pork\n",
    "$s_e \\leq 0.25 (p_e + w_e + s_e)$ | no more than 25% starch\n",
    "$s_p \\leq 0.25 (p_p + w_p + s_p)$ | no more than 25% starch\n",
    "$p_e + p_p \\leq 30$ | 30 kg of pork available\n",
    "$w_e + w_p \\leq 20$ | 20 kg of wheat available\n",
    "$s_e + s_p \\leq 17$ | 17 kg of starch avaialble\n",
    "$p_e + p_p \\geq 23$ | must use the 23 kg of pork we already purchased"
   ]
  },
  {
   "cell_type": "markdown",
   "metadata": {
    "heading_collapsed": true,
    "hidden": true
   },
   "source": [
    "## Pyomo Solution"
   ]
  },
  {
   "cell_type": "code",
   "execution_count": 3,
   "metadata": {
    "hidden": true
   },
   "outputs": [
    {
     "name": "stdout",
     "output_type": "stream",
     "text": [
      "Minimum Cost =  $140.96\n",
      "Kilograms of each ingredient in each type of sausage:\n"
     ]
    },
    {
     "data": {
      "text/html": [
       "<div>\n",
       "<style scoped>\n",
       "    .dataframe tbody tr th:only-of-type {\n",
       "        vertical-align: middle;\n",
       "    }\n",
       "\n",
       "    .dataframe tbody tr th {\n",
       "        vertical-align: top;\n",
       "    }\n",
       "\n",
       "    .dataframe thead th {\n",
       "        text-align: right;\n",
       "    }\n",
       "</style>\n",
       "<table border=\"1\" class=\"dataframe\">\n",
       "  <thead>\n",
       "    <tr style=\"text-align: right;\">\n",
       "      <th></th>\n",
       "      <th>Economy</th>\n",
       "      <th>Premium</th>\n",
       "    </tr>\n",
       "  </thead>\n",
       "  <tbody>\n",
       "    <tr>\n",
       "      <th>Pork</th>\n",
       "      <td>8.000</td>\n",
       "      <td>15.00</td>\n",
       "    </tr>\n",
       "    <tr>\n",
       "      <th>Wheat</th>\n",
       "      <td>5.125</td>\n",
       "      <td>3.75</td>\n",
       "    </tr>\n",
       "    <tr>\n",
       "      <th>Starch</th>\n",
       "      <td>4.375</td>\n",
       "      <td>6.25</td>\n",
       "    </tr>\n",
       "  </tbody>\n",
       "</table>\n",
       "</div>"
      ],
      "text/plain": [
       "        Economy  Premium\n",
       "Pork      8.000    15.00\n",
       "Wheat     5.125     3.75\n",
       "Starch    4.375     6.25"
      ]
     },
     "execution_count": 3,
     "metadata": {},
     "output_type": "execute_result"
    }
   ],
   "source": [
    "# Unfold to see the Pyomo solution with individual decision variables\n",
    "from pyomo.environ import *\n",
    "\n",
    "# Concrete Model\n",
    "M = ConcreteModel(name = \"Sausages1\")\n",
    "\n",
    "# Decision Variables\n",
    "M.pe = Var(domain = NonNegativeReals)\n",
    "M.we = Var(domain = NonNegativeReals)\n",
    "M.se = Var(domain = NonNegativeReals)\n",
    "M.pp = Var(domain = NonNegativeReals)\n",
    "M.wp = Var(domain = NonNegativeReals)\n",
    "M.sp = Var(domain = NonNegativeReals)\n",
    "\n",
    "# Objective \n",
    "M.cost = Objective( expr = 4.32*(M.pe+M.pp)+2.46*(M.we+M.wp)+1.86*(M.se+M.sp),\n",
    "                      sense = minimize )\n",
    "\n",
    "# Constraints\n",
    "M.tot_econ_ct = Constraint( expr = M.pe + M.we + M.se == 17.5 )\n",
    "M.tot_prem_ct = Constraint( expr = M.pp + M.wp + M.sp == 25 )\n",
    "M.p_prp_econ_ct = Constraint( expr = M.pe >= 0.4*(M.pe + M.we + M.se) )\n",
    "M.p_prp_prem_ct = Constraint( expr = M.pp >= 0.6*(M.pp + M.wp + M.sp) )\n",
    "M.s_prp_econ_ct = Constraint( expr = M.se <= 0.25*(M.pe + M.we + M.se) )\n",
    "M.s_prp_prem_ct = Constraint( expr = M.sp <= 0.25*(M.pp + M.wp + M.sp) )\n",
    "M.p_tot_mx_ct = Constraint( expr = M.pe + M.pp <= 30 )\n",
    "M.w_tot_mx_ct = Constraint( expr = M.we + M.wp <= 20 )\n",
    "M.s_tot_mx_ct = Constraint( expr = M.se + M.sp <= 17 )\n",
    "M.p_tot_mn_ct = Constraint( expr = M.pe + M.pp >= 23 )\n",
    "\n",
    "# Solve\n",
    "solver = SolverFactory('glpk')\n",
    "solver.solve(M)\n",
    "\n",
    "# display(M)\n",
    "\n",
    "# display solution\n",
    "import babel.numbers as numbers  # needed to display as currency\n",
    "print(\"Minimum Cost = \", numbers.format_currency(M.cost(), 'USD', locale='en_US'))\n",
    "\n",
    "import pandas as pd\n",
    "dvars = pd.DataFrame( [[M.pe(),M.pp()],\n",
    "                       [M.we(),M.wp()],\n",
    "                       [M.se(),M.sp()]],\n",
    "                    index = ['Pork','Wheat','Starch'],\n",
    "                    columns = ['Economy','Premium'])\n",
    "print(\"Kilograms of each ingredient in each type of sausage:\")\n",
    "dvars"
   ]
  }
 ],
 "metadata": {
  "kernelspec": {
   "display_name": "Python 3",
   "language": "python",
   "name": "python3"
  },
  "language_info": {
   "codemirror_mode": {
    "name": "ipython",
    "version": 3
   },
   "file_extension": ".py",
   "mimetype": "text/x-python",
   "name": "python",
   "nbconvert_exporter": "python",
   "pygments_lexer": "ipython3",
   "version": "3.6.3"
  },
  "toc": {
   "base_numbering": 1,
   "nav_menu": {},
   "number_sections": true,
   "sideBar": true,
   "skip_h1_title": false,
   "title_cell": "Table of Contents",
   "title_sidebar": "Contents",
   "toc_cell": false,
   "toc_position": {
    "height": "calc(100% - 180px)",
    "left": "10px",
    "top": "150px",
    "width": "338.338px"
   },
   "toc_section_display": true,
   "toc_window_display": true
  },
  "varInspector": {
   "cols": {
    "lenName": 16,
    "lenType": 16,
    "lenVar": 40
   },
   "kernels_config": {
    "python": {
     "delete_cmd_postfix": "",
     "delete_cmd_prefix": "del ",
     "library": "var_list.py",
     "varRefreshCmd": "print(var_dic_list())"
    },
    "r": {
     "delete_cmd_postfix": ") ",
     "delete_cmd_prefix": "rm(",
     "library": "var_list.r",
     "varRefreshCmd": "cat(var_dic_list()) "
    }
   },
   "types_to_exclude": [
    "module",
    "function",
    "builtin_function_or_method",
    "instance",
    "_Feature"
   ],
   "window_display": false
  }
 },
 "nbformat": 4,
 "nbformat_minor": 2
}
